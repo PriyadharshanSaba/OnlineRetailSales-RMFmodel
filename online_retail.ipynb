{
  "nbformat": 4,
  "nbformat_minor": 0,
  "metadata": {
    "colab": {
      "name": "online_retail.ipynb",
      "version": "0.3.2",
      "views": {},
      "default_view": {},
      "provenance": [],
      "collapsed_sections": []
    },
    "kernelspec": {
      "name": "python3",
      "display_name": "Python 3"
    }
  },
  "cells": [
    {
      "metadata": {
        "id": "Dzq6PjkGMX0x",
        "colab_type": "code",
        "colab": {
          "autoexec": {
            "startup": false,
            "wait_interval": 0
          }
        }
      },
      "cell_type": "code",
      "source": [
        "import pandas as pd\n",
        "import numpy as np\n",
        "import matplotlib.pyplot as plt\n",
        "from datetime import datetime\n",
        "import matplotlib.pyplot as plt\n",
        "import plotly.plotly as py\n",
        "import seaborn as sns "
      ],
      "execution_count": 0,
      "outputs": []
    },
    {
      "metadata": {
        "id": "5JmuucmQSzJu",
        "colab_type": "code",
        "colab": {
          "autoexec": {
            "startup": false,
            "wait_interval": 0
          },
          "base_uri": "https://localhost:8080/",
          "height": 94
        },
        "outputId": "5d7eb51e-97d5-4c74-c01f-c8ae6c79ed04",
        "executionInfo": {
          "status": "ok",
          "timestamp": 1531736311862,
          "user_tz": -330,
          "elapsed": 2845,
          "user": {
            "displayName": "Priyadharshan Saba",
            "photoUrl": "//lh5.googleusercontent.com/-PfrMeX74BFM/AAAAAAAAAAI/AAAAAAAAEe8/LcayyAlSBx8/s50-c-k-no/photo.jpg",
            "userId": "106388315316518890634"
          }
        }
      },
      "cell_type": "code",
      "source": [
        "!pip install xlrd"
      ],
      "execution_count": 494,
      "outputs": [
        {
          "output_type": "stream",
          "text": [
            "Requirement already satisfied: xlrd in /usr/local/lib/python3.6/dist-packages (1.1.0)\r\n"
          ],
          "name": "stdout"
        }
      ]
    },
    {
      "metadata": {
        "id": "fywCt-y-S2N9",
        "colab_type": "code",
        "colab": {
          "autoexec": {
            "startup": false,
            "wait_interval": 0
          }
        }
      },
      "cell_type": "code",
      "source": [
        "import xlrd\n",
        "\n"
      ],
      "execution_count": 0,
      "outputs": []
    },
    {
      "metadata": {
        "id": "EtPTWvmZNb1P",
        "colab_type": "code",
        "colab": {
          "autoexec": {
            "startup": false,
            "wait_interval": 0
          }
        }
      },
      "cell_type": "code",
      "source": [
        "#df = pd.read_excel(\"https://archive.ics.uci.edu/ml/machine-learning-databases/00352/Online%20Retail.xlsx\")\n",
        "#pdf = df\n",
        "df= pd.read_excel(\"https://github.com/PriyadharshanSaba/OnlineRetailSales-RMFmodel/raw/master/Dataset/Online%20Retail.xlsx\")\n"
      ],
      "execution_count": 0,
      "outputs": []
    },
    {
      "metadata": {
        "id": "T-VvGihZM1Z3",
        "colab_type": "code",
        "colab": {
          "autoexec": {
            "startup": false,
            "wait_interval": 0
          },
          "base_uri": "https://localhost:8080/",
          "height": 241
        },
        "outputId": "0403080c-941c-4e57-991c-109af48318c6",
        "executionInfo": {
          "status": "ok",
          "timestamp": 1531736367264,
          "user_tz": -330,
          "elapsed": 892,
          "user": {
            "displayName": "Priyadharshan Saba",
            "photoUrl": "//lh5.googleusercontent.com/-PfrMeX74BFM/AAAAAAAAAAI/AAAAAAAAEe8/LcayyAlSBx8/s50-c-k-no/photo.jpg",
            "userId": "106388315316518890634"
          }
        }
      },
      "cell_type": "code",
      "source": [
        "#DATA WRANGLING\n",
        "\n",
        "#dropping NaN data rows\n",
        "df=df.dropna()\n",
        "\n",
        "#dropping description column\n",
        "df=df.drop(columns=['Description'])\n",
        "df.head()"
      ],
      "execution_count": 497,
      "outputs": [
        {
          "output_type": "execute_result",
          "data": {
            "text/html": [
              "<div>\n",
              "<style scoped>\n",
              "    .dataframe tbody tr th:only-of-type {\n",
              "        vertical-align: middle;\n",
              "    }\n",
              "\n",
              "    .dataframe tbody tr th {\n",
              "        vertical-align: top;\n",
              "    }\n",
              "\n",
              "    .dataframe thead th {\n",
              "        text-align: right;\n",
              "    }\n",
              "</style>\n",
              "<table border=\"1\" class=\"dataframe\">\n",
              "  <thead>\n",
              "    <tr style=\"text-align: right;\">\n",
              "      <th></th>\n",
              "      <th>InvoiceNo</th>\n",
              "      <th>StockCode</th>\n",
              "      <th>Quantity</th>\n",
              "      <th>InvoiceDate</th>\n",
              "      <th>UnitPrice</th>\n",
              "      <th>CustomerID</th>\n",
              "      <th>Country</th>\n",
              "    </tr>\n",
              "  </thead>\n",
              "  <tbody>\n",
              "    <tr>\n",
              "      <th>0</th>\n",
              "      <td>536365</td>\n",
              "      <td>85123A</td>\n",
              "      <td>6</td>\n",
              "      <td>2010-12-01 08:26:00</td>\n",
              "      <td>2.55</td>\n",
              "      <td>17850.0</td>\n",
              "      <td>United Kingdom</td>\n",
              "    </tr>\n",
              "    <tr>\n",
              "      <th>1</th>\n",
              "      <td>536365</td>\n",
              "      <td>71053</td>\n",
              "      <td>6</td>\n",
              "      <td>2010-12-01 08:26:00</td>\n",
              "      <td>3.39</td>\n",
              "      <td>17850.0</td>\n",
              "      <td>United Kingdom</td>\n",
              "    </tr>\n",
              "    <tr>\n",
              "      <th>2</th>\n",
              "      <td>536365</td>\n",
              "      <td>84406B</td>\n",
              "      <td>8</td>\n",
              "      <td>2010-12-01 08:26:00</td>\n",
              "      <td>2.75</td>\n",
              "      <td>17850.0</td>\n",
              "      <td>United Kingdom</td>\n",
              "    </tr>\n",
              "    <tr>\n",
              "      <th>3</th>\n",
              "      <td>536365</td>\n",
              "      <td>84029G</td>\n",
              "      <td>6</td>\n",
              "      <td>2010-12-01 08:26:00</td>\n",
              "      <td>3.39</td>\n",
              "      <td>17850.0</td>\n",
              "      <td>United Kingdom</td>\n",
              "    </tr>\n",
              "    <tr>\n",
              "      <th>4</th>\n",
              "      <td>536365</td>\n",
              "      <td>84029E</td>\n",
              "      <td>6</td>\n",
              "      <td>2010-12-01 08:26:00</td>\n",
              "      <td>3.39</td>\n",
              "      <td>17850.0</td>\n",
              "      <td>United Kingdom</td>\n",
              "    </tr>\n",
              "  </tbody>\n",
              "</table>\n",
              "</div>"
            ],
            "text/plain": [
              "  InvoiceNo StockCode  Quantity         InvoiceDate  UnitPrice  CustomerID  \\\n",
              "0    536365    85123A         6 2010-12-01 08:26:00       2.55     17850.0   \n",
              "1    536365     71053         6 2010-12-01 08:26:00       3.39     17850.0   \n",
              "2    536365    84406B         8 2010-12-01 08:26:00       2.75     17850.0   \n",
              "3    536365    84029G         6 2010-12-01 08:26:00       3.39     17850.0   \n",
              "4    536365    84029E         6 2010-12-01 08:26:00       3.39     17850.0   \n",
              "\n",
              "          Country  \n",
              "0  United Kingdom  \n",
              "1  United Kingdom  \n",
              "2  United Kingdom  \n",
              "3  United Kingdom  \n",
              "4  United Kingdom  "
            ]
          },
          "metadata": {
            "tags": []
          },
          "execution_count": 497
        }
      ]
    },
    {
      "metadata": {
        "id": "pHK_nQPUWKL1",
        "colab_type": "code",
        "colab": {
          "autoexec": {
            "startup": false,
            "wait_interval": 0
          }
        }
      },
      "cell_type": "code",
      "source": [
        "df['Amount'] = df.UnitPrice * df.Quantity\n",
        "#removing unit price\n",
        "df=df.drop(columns=['UnitPrice'])\n",
        "\n",
        "df['date'] = [d.date() for d in df['InvoiceDate']]\n",
        "df['time'] = [d.time() for d in df['InvoiceDate']]\n",
        "#print(df.head())\n"
      ],
      "execution_count": 0,
      "outputs": []
    },
    {
      "metadata": {
        "id": "3kqhzXb49bD4",
        "colab_type": "code",
        "colab": {
          "autoexec": {
            "startup": false,
            "wait_interval": 0
          },
          "base_uri": "https://localhost:8080/",
          "height": 241
        },
        "outputId": "1b86f8f5-f4b9-46f7-e280-b4fe0a70f1b9",
        "executionInfo": {
          "status": "ok",
          "timestamp": 1531736374116,
          "user_tz": -330,
          "elapsed": 825,
          "user": {
            "displayName": "Priyadharshan Saba",
            "photoUrl": "//lh5.googleusercontent.com/-PfrMeX74BFM/AAAAAAAAAAI/AAAAAAAAEe8/LcayyAlSBx8/s50-c-k-no/photo.jpg",
            "userId": "106388315316518890634"
          }
        }
      },
      "cell_type": "code",
      "source": [
        "#CLEANING CUSTOMERS\n",
        "\n",
        "#dropping NaN values in CustomerID\n",
        "df = df[np.isfinite(df['CustomerID'])]      #df.loc[df['InvoiceNo']==573174]  reference for NaN value\n",
        "\n",
        "#removing customers with less than 1Re of transaction\n",
        "df=df[(df['Amount'] >=1)]\n",
        "df.head()"
      ],
      "execution_count": 499,
      "outputs": [
        {
          "output_type": "execute_result",
          "data": {
            "text/html": [
              "<div>\n",
              "<style scoped>\n",
              "    .dataframe tbody tr th:only-of-type {\n",
              "        vertical-align: middle;\n",
              "    }\n",
              "\n",
              "    .dataframe tbody tr th {\n",
              "        vertical-align: top;\n",
              "    }\n",
              "\n",
              "    .dataframe thead th {\n",
              "        text-align: right;\n",
              "    }\n",
              "</style>\n",
              "<table border=\"1\" class=\"dataframe\">\n",
              "  <thead>\n",
              "    <tr style=\"text-align: right;\">\n",
              "      <th></th>\n",
              "      <th>InvoiceNo</th>\n",
              "      <th>StockCode</th>\n",
              "      <th>Quantity</th>\n",
              "      <th>InvoiceDate</th>\n",
              "      <th>CustomerID</th>\n",
              "      <th>Country</th>\n",
              "      <th>Amount</th>\n",
              "      <th>date</th>\n",
              "      <th>time</th>\n",
              "    </tr>\n",
              "  </thead>\n",
              "  <tbody>\n",
              "    <tr>\n",
              "      <th>0</th>\n",
              "      <td>536365</td>\n",
              "      <td>85123A</td>\n",
              "      <td>6</td>\n",
              "      <td>2010-12-01 08:26:00</td>\n",
              "      <td>17850.0</td>\n",
              "      <td>United Kingdom</td>\n",
              "      <td>15.30</td>\n",
              "      <td>2010-12-01</td>\n",
              "      <td>08:26:00</td>\n",
              "    </tr>\n",
              "    <tr>\n",
              "      <th>1</th>\n",
              "      <td>536365</td>\n",
              "      <td>71053</td>\n",
              "      <td>6</td>\n",
              "      <td>2010-12-01 08:26:00</td>\n",
              "      <td>17850.0</td>\n",
              "      <td>United Kingdom</td>\n",
              "      <td>20.34</td>\n",
              "      <td>2010-12-01</td>\n",
              "      <td>08:26:00</td>\n",
              "    </tr>\n",
              "    <tr>\n",
              "      <th>2</th>\n",
              "      <td>536365</td>\n",
              "      <td>84406B</td>\n",
              "      <td>8</td>\n",
              "      <td>2010-12-01 08:26:00</td>\n",
              "      <td>17850.0</td>\n",
              "      <td>United Kingdom</td>\n",
              "      <td>22.00</td>\n",
              "      <td>2010-12-01</td>\n",
              "      <td>08:26:00</td>\n",
              "    </tr>\n",
              "    <tr>\n",
              "      <th>3</th>\n",
              "      <td>536365</td>\n",
              "      <td>84029G</td>\n",
              "      <td>6</td>\n",
              "      <td>2010-12-01 08:26:00</td>\n",
              "      <td>17850.0</td>\n",
              "      <td>United Kingdom</td>\n",
              "      <td>20.34</td>\n",
              "      <td>2010-12-01</td>\n",
              "      <td>08:26:00</td>\n",
              "    </tr>\n",
              "    <tr>\n",
              "      <th>4</th>\n",
              "      <td>536365</td>\n",
              "      <td>84029E</td>\n",
              "      <td>6</td>\n",
              "      <td>2010-12-01 08:26:00</td>\n",
              "      <td>17850.0</td>\n",
              "      <td>United Kingdom</td>\n",
              "      <td>20.34</td>\n",
              "      <td>2010-12-01</td>\n",
              "      <td>08:26:00</td>\n",
              "    </tr>\n",
              "  </tbody>\n",
              "</table>\n",
              "</div>"
            ],
            "text/plain": [
              "  InvoiceNo StockCode  Quantity         InvoiceDate  CustomerID  \\\n",
              "0    536365    85123A         6 2010-12-01 08:26:00     17850.0   \n",
              "1    536365     71053         6 2010-12-01 08:26:00     17850.0   \n",
              "2    536365    84406B         8 2010-12-01 08:26:00     17850.0   \n",
              "3    536365    84029G         6 2010-12-01 08:26:00     17850.0   \n",
              "4    536365    84029E         6 2010-12-01 08:26:00     17850.0   \n",
              "\n",
              "          Country  Amount        date      time  \n",
              "0  United Kingdom   15.30  2010-12-01  08:26:00  \n",
              "1  United Kingdom   20.34  2010-12-01  08:26:00  \n",
              "2  United Kingdom   22.00  2010-12-01  08:26:00  \n",
              "3  United Kingdom   20.34  2010-12-01  08:26:00  \n",
              "4  United Kingdom   20.34  2010-12-01  08:26:00  "
            ]
          },
          "metadata": {
            "tags": []
          },
          "execution_count": 499
        }
      ]
    },
    {
      "metadata": {
        "id": "2r-a1M_t9_Fw",
        "colab_type": "code",
        "colab": {
          "autoexec": {
            "startup": false,
            "wait_interval": 0
          },
          "base_uri": "https://localhost:8080/",
          "height": 241
        },
        "outputId": "0c882238-ae84-4e5c-ed5a-fd0296183d70",
        "executionInfo": {
          "status": "ok",
          "timestamp": 1531736374949,
          "user_tz": -330,
          "elapsed": 759,
          "user": {
            "displayName": "Priyadharshan Saba",
            "photoUrl": "//lh5.googleusercontent.com/-PfrMeX74BFM/AAAAAAAAAAI/AAAAAAAAEe8/LcayyAlSBx8/s50-c-k-no/photo.jpg",
            "userId": "106388315316518890634"
          }
        }
      },
      "cell_type": "code",
      "source": [
        "#grouping by countries and adding purchasing percentage on basis of quantity\n",
        "group_country = df.groupby(['Country'],as_index=False).sum()\n",
        "group_country = group_country.drop(columns=['CustomerID'])\n",
        "group_country.sort_values('Quantity',ascending=False,inplace=True)\n",
        "\n",
        "total_purchased = group_country['Quantity'].sum()\n",
        "group_country['Buy_perc']=(group_country['Quantity']/total_purchased)*100\n",
        "group_country.head()\n"
      ],
      "execution_count": 500,
      "outputs": [
        {
          "output_type": "execute_result",
          "data": {
            "text/html": [
              "<div>\n",
              "<style scoped>\n",
              "    .dataframe tbody tr th:only-of-type {\n",
              "        vertical-align: middle;\n",
              "    }\n",
              "\n",
              "    .dataframe tbody tr th {\n",
              "        vertical-align: top;\n",
              "    }\n",
              "\n",
              "    .dataframe thead th {\n",
              "        text-align: right;\n",
              "    }\n",
              "</style>\n",
              "<table border=\"1\" class=\"dataframe\">\n",
              "  <thead>\n",
              "    <tr style=\"text-align: right;\">\n",
              "      <th></th>\n",
              "      <th>Country</th>\n",
              "      <th>Quantity</th>\n",
              "      <th>Amount</th>\n",
              "      <th>Buy_perc</th>\n",
              "    </tr>\n",
              "  </thead>\n",
              "  <tbody>\n",
              "    <tr>\n",
              "      <th>35</th>\n",
              "      <td>United Kingdom</td>\n",
              "      <td>4239362</td>\n",
              "      <td>7.299319e+06</td>\n",
              "      <td>82.314544</td>\n",
              "    </tr>\n",
              "    <tr>\n",
              "      <th>23</th>\n",
              "      <td>Netherlands</td>\n",
              "      <td>200324</td>\n",
              "      <td>2.854209e+05</td>\n",
              "      <td>3.889637</td>\n",
              "    </tr>\n",
              "    <tr>\n",
              "      <th>10</th>\n",
              "      <td>EIRE</td>\n",
              "      <td>140275</td>\n",
              "      <td>2.655459e+05</td>\n",
              "      <td>2.723682</td>\n",
              "    </tr>\n",
              "    <tr>\n",
              "      <th>14</th>\n",
              "      <td>Germany</td>\n",
              "      <td>119249</td>\n",
              "      <td>2.288581e+05</td>\n",
              "      <td>2.315426</td>\n",
              "    </tr>\n",
              "    <tr>\n",
              "      <th>13</th>\n",
              "      <td>France</td>\n",
              "      <td>111414</td>\n",
              "      <td>2.089972e+05</td>\n",
              "      <td>2.163295</td>\n",
              "    </tr>\n",
              "  </tbody>\n",
              "</table>\n",
              "</div>"
            ],
            "text/plain": [
              "           Country  Quantity        Amount   Buy_perc\n",
              "35  United Kingdom   4239362  7.299319e+06  82.314544\n",
              "23     Netherlands    200324  2.854209e+05   3.889637\n",
              "10            EIRE    140275  2.655459e+05   2.723682\n",
              "14         Germany    119249  2.288581e+05   2.315426\n",
              "13          France    111414  2.089972e+05   2.163295"
            ]
          },
          "metadata": {
            "tags": []
          },
          "execution_count": 500
        }
      ]
    },
    {
      "metadata": {
        "id": "Kqj2Z2OuevN0",
        "colab_type": "code",
        "colab": {
          "autoexec": {
            "startup": false,
            "wait_interval": 0
          },
          "base_uri": "https://localhost:8080/",
          "height": 667
        },
        "outputId": "9ffb7c1e-c241-4395-fc38-67cc62fca2fe",
        "executionInfo": {
          "status": "ok",
          "timestamp": 1531736376435,
          "user_tz": -330,
          "elapsed": 1423,
          "user": {
            "displayName": "Priyadharshan Saba",
            "photoUrl": "//lh5.googleusercontent.com/-PfrMeX74BFM/AAAAAAAAAAI/AAAAAAAAEe8/LcayyAlSBx8/s50-c-k-no/photo.jpg",
            "userId": "106388315316518890634"
          }
        }
      },
      "cell_type": "code",
      "source": [
        "#Buy_Perc plotting\n",
        "\n",
        "country=list(group_country['Country'])\n",
        "Cust_id=list(group_country['Buy_perc'])\n",
        "plt.figure(figsize=(12,8))\n",
        "sns.barplot(country, Cust_id, alpha=1)\n",
        "plt.xticks(rotation='60')\n",
        "plt.show()\n"
      ],
      "execution_count": 501,
      "outputs": [
        {
          "output_type": "stream",
          "text": [
            "/usr/local/lib/python3.6/dist-packages/seaborn/categorical.py:1428: FutureWarning:\n",
            "\n",
            "remove_na is deprecated and is a private function. Do not use.\n",
            "\n"
          ],
          "name": "stderr"
        },
        {
          "output_type": "display_data",
          "data": {
            "image/png": "[encoded data removed]",
            "text/plain": [
              "<matplotlib.figure.Figure at 0x7f3e71b36048>"
            ]
          },
          "metadata": {
            "tags": []
          }
        }
      ]
    },
    {
      "metadata": {
        "id": "j43hYhZtWnf1",
        "colab_type": "code",
        "colab": {
          "autoexec": {
            "startup": false,
            "wait_interval": 0
          }
        }
      },
      "cell_type": "code",
      "source": [
        "#analysing country with highest purchasing \n",
        "x=group_country.where(group_country['Buy_perc']==group_country['Buy_perc'].max())\n",
        "x=x['Country'].dropna().get_values().tolist()[0]\n",
        "\n",
        "dfcur = df.where(df.Country == x)\n",
        "dfcur=dfcur.dropna()"
      ],
      "execution_count": 0,
      "outputs": []
    },
    {
      "metadata": {
        "id": "av1hCjiEOWFs",
        "colab_type": "code",
        "colab": {
          "autoexec": {
            "startup": false,
            "wait_interval": 0
          },
          "base_uri": "https://localhost:8080/",
          "height": 74
        },
        "outputId": "67841247-9347-4d17-9465-d6e78008f57a",
        "executionInfo": {
          "status": "ok",
          "timestamp": 1531736378262,
          "user_tz": -330,
          "elapsed": 755,
          "user": {
            "displayName": "Priyadharshan Saba",
            "photoUrl": "//lh5.googleusercontent.com/-PfrMeX74BFM/AAAAAAAAAAI/AAAAAAAAEe8/LcayyAlSBx8/s50-c-k-no/photo.jpg",
            "userId": "106388315316518890634"
          }
        }
      },
      "cell_type": "code",
      "source": [
        "#first time buyers\n",
        "x=dfcur.groupby('CustomerID',).count()\n",
        "no_customers= x['InvoiceNo'].count()\n",
        "no_first_timers=x.where(x['InvoiceNo']==1).dropna().count()['InvoiceNo']\n",
        "print('Percentage of new customers purchasing for the first time',(no_first_timers*100/no_customers))\n",
        "\n"
      ],
      "execution_count": 503,
      "outputs": [
        {
          "output_type": "stream",
          "text": [
            "Percentage of new customers purchasing for the first time 1.7857142857142858\n"
          ],
          "name": "stdout"
        }
      ]
    },
    {
      "metadata": {
        "id": "BSl83J7iO2-Q",
        "colab_type": "code",
        "colab": {
          "autoexec": {
            "startup": false,
            "wait_interval": 0
          },
          "base_uri": "https://localhost:8080/",
          "height": 402
        },
        "outputId": "6a4bd4d5-3676-41d0-ce61-d0c5cd6d9a8e",
        "executionInfo": {
          "status": "ok",
          "timestamp": 1531736379140,
          "user_tz": -330,
          "elapsed": 799,
          "user": {
            "displayName": "Priyadharshan Saba",
            "photoUrl": "//lh5.googleusercontent.com/-PfrMeX74BFM/AAAAAAAAAAI/AAAAAAAAEe8/LcayyAlSBx8/s50-c-k-no/photo.jpg",
            "userId": "106388315316518890634"
          }
        }
      },
      "cell_type": "code",
      "source": [
        "objects = ('First/New Customers', 'Existing')\n",
        "y_pos = np.arange(len(objects))\n",
        "perc = [no_first_timers,no_customers]\n",
        "plt.bar(y_pos, perc, align='center', alpha=0.5)\n",
        "plt.xticks(y_pos, objects)\n",
        "plt.ylabel('Percentage')\n",
        "plt.title('Customers')\n",
        " \n",
        "plt.show()"
      ],
      "execution_count": 504,
      "outputs": [
        {
          "output_type": "display_data",
          "data": {
            "image/png": "[encoded data removed]",
            "text/plain": [
              "<matplotlib.figure.Figure at 0x7f3e5465c2e8>"
            ]
          },
          "metadata": {
            "tags": []
          }
        }
      ]
    },
    {
      "metadata": {
        "id": "WzGTmdcnfZdi",
        "colab_type": "code",
        "colab": {
          "autoexec": {
            "startup": false,
            "wait_interval": 0
          }
        }
      },
      "cell_type": "code",
      "source": [
        "#Converting to date to shortened string formate %y(2)%m\n",
        "dfcur['dateS']=dfcur['date'].apply(lambda x: x.strftime('%y%m'))\n",
        "#print('Far date: ',dfcur['dateS'].min(),\"\\tRecent: \",dfcur['dateS'].max())"
      ],
      "execution_count": 0,
      "outputs": []
    },
    {
      "metadata": {
        "id": "KjDI2SJ5da73",
        "colab_type": "code",
        "colab": {
          "autoexec": {
            "startup": false,
            "wait_interval": 0
          }
        }
      },
      "cell_type": "code",
      "source": [
        "#RMF MODEL\n",
        "\n",
        "#---- Recency Analysis------\n",
        "def recency(row):\n",
        "  if int(row['dateS']) > 1109:\n",
        "    val = 5\n",
        "  elif int(row['dateS']) <= 1109 and int(row['dateS']) > 1106:\n",
        "    val = 4\n",
        "  elif int(row['dateS']) <= 1106 and int(row['dateS']) > 1103:\n",
        "    val = 3\n",
        "  elif int(row['dateS']) <= 1103 and int(row['dateS']) > 1101:\n",
        "    val = 2\n",
        "  else:\n",
        "    val = 1\n",
        "  return val\n",
        "  \n",
        "dfcur['Recency_val'] = dfcur.apply(recency, axis=1)"
      ],
      "execution_count": 0,
      "outputs": []
    },
    {
      "metadata": {
        "id": "t7srG_uK6Q4B",
        "colab_type": "code",
        "colab": {
          "autoexec": {
            "startup": false,
            "wait_interval": 0
          },
          "base_uri": "https://localhost:8080/",
          "height": 241
        },
        "outputId": "5177f481-95af-4eab-d3f3-d03db0c85425",
        "executionInfo": {
          "status": "ok",
          "timestamp": 1531736414159,
          "user_tz": -330,
          "elapsed": 743,
          "user": {
            "displayName": "Priyadharshan Saba",
            "photoUrl": "//lh5.googleusercontent.com/-PfrMeX74BFM/AAAAAAAAAAI/AAAAAAAAEe8/LcayyAlSBx8/s50-c-k-no/photo.jpg",
            "userId": "106388315316518890634"
          }
        }
      },
      "cell_type": "code",
      "source": [
        "dfcur.head()"
      ],
      "execution_count": 507,
      "outputs": [
        {
          "output_type": "execute_result",
          "data": {
            "text/html": [
              "<div>\n",
              "<style scoped>\n",
              "    .dataframe tbody tr th:only-of-type {\n",
              "        vertical-align: middle;\n",
              "    }\n",
              "\n",
              "    .dataframe tbody tr th {\n",
              "        vertical-align: top;\n",
              "    }\n",
              "\n",
              "    .dataframe thead th {\n",
              "        text-align: right;\n",
              "    }\n",
              "</style>\n",
              "<table border=\"1\" class=\"dataframe\">\n",
              "  <thead>\n",
              "    <tr style=\"text-align: right;\">\n",
              "      <th></th>\n",
              "      <th>InvoiceNo</th>\n",
              "      <th>StockCode</th>\n",
              "      <th>Quantity</th>\n",
              "      <th>InvoiceDate</th>\n",
              "      <th>CustomerID</th>\n",
              "      <th>Country</th>\n",
              "      <th>Amount</th>\n",
              "      <th>date</th>\n",
              "      <th>time</th>\n",
              "      <th>dateS</th>\n",
              "      <th>Recency_val</th>\n",
              "    </tr>\n",
              "  </thead>\n",
              "  <tbody>\n",
              "    <tr>\n",
              "      <th>0</th>\n",
              "      <td>536365</td>\n",
              "      <td>85123A</td>\n",
              "      <td>6.0</td>\n",
              "      <td>2010-12-01 08:26:00</td>\n",
              "      <td>17850.0</td>\n",
              "      <td>United Kingdom</td>\n",
              "      <td>15.30</td>\n",
              "      <td>2010-12-01</td>\n",
              "      <td>08:26:00</td>\n",
              "      <td>1012</td>\n",
              "      <td>1</td>\n",
              "    </tr>\n",
              "    <tr>\n",
              "      <th>1</th>\n",
              "      <td>536365</td>\n",
              "      <td>71053</td>\n",
              "      <td>6.0</td>\n",
              "      <td>2010-12-01 08:26:00</td>\n",
              "      <td>17850.0</td>\n",
              "      <td>United Kingdom</td>\n",
              "      <td>20.34</td>\n",
              "      <td>2010-12-01</td>\n",
              "      <td>08:26:00</td>\n",
              "      <td>1012</td>\n",
              "      <td>1</td>\n",
              "    </tr>\n",
              "    <tr>\n",
              "      <th>2</th>\n",
              "      <td>536365</td>\n",
              "      <td>84406B</td>\n",
              "      <td>8.0</td>\n",
              "      <td>2010-12-01 08:26:00</td>\n",
              "      <td>17850.0</td>\n",
              "      <td>United Kingdom</td>\n",
              "      <td>22.00</td>\n",
              "      <td>2010-12-01</td>\n",
              "      <td>08:26:00</td>\n",
              "      <td>1012</td>\n",
              "      <td>1</td>\n",
              "    </tr>\n",
              "    <tr>\n",
              "      <th>3</th>\n",
              "      <td>536365</td>\n",
              "      <td>84029G</td>\n",
              "      <td>6.0</td>\n",
              "      <td>2010-12-01 08:26:00</td>\n",
              "      <td>17850.0</td>\n",
              "      <td>United Kingdom</td>\n",
              "      <td>20.34</td>\n",
              "      <td>2010-12-01</td>\n",
              "      <td>08:26:00</td>\n",
              "      <td>1012</td>\n",
              "      <td>1</td>\n",
              "    </tr>\n",
              "    <tr>\n",
              "      <th>4</th>\n",
              "      <td>536365</td>\n",
              "      <td>84029E</td>\n",
              "      <td>6.0</td>\n",
              "      <td>2010-12-01 08:26:00</td>\n",
              "      <td>17850.0</td>\n",
              "      <td>United Kingdom</td>\n",
              "      <td>20.34</td>\n",
              "      <td>2010-12-01</td>\n",
              "      <td>08:26:00</td>\n",
              "      <td>1012</td>\n",
              "      <td>1</td>\n",
              "    </tr>\n",
              "  </tbody>\n",
              "</table>\n",
              "</div>"
            ],
            "text/plain": [
              "  InvoiceNo StockCode  Quantity         InvoiceDate  CustomerID  \\\n",
              "0    536365    85123A       6.0 2010-12-01 08:26:00     17850.0   \n",
              "1    536365     71053       6.0 2010-12-01 08:26:00     17850.0   \n",
              "2    536365    84406B       8.0 2010-12-01 08:26:00     17850.0   \n",
              "3    536365    84029G       6.0 2010-12-01 08:26:00     17850.0   \n",
              "4    536365    84029E       6.0 2010-12-01 08:26:00     17850.0   \n",
              "\n",
              "          Country  Amount        date      time dateS  Recency_val  \n",
              "0  United Kingdom   15.30  2010-12-01  08:26:00  1012            1  \n",
              "1  United Kingdom   20.34  2010-12-01  08:26:00  1012            1  \n",
              "2  United Kingdom   22.00  2010-12-01  08:26:00  1012            1  \n",
              "3  United Kingdom   20.34  2010-12-01  08:26:00  1012            1  \n",
              "4  United Kingdom   20.34  2010-12-01  08:26:00  1012            1  "
            ]
          },
          "metadata": {
            "tags": []
          },
          "execution_count": 507
        }
      ]
    },
    {
      "metadata": {
        "id": "lupL3rU5yDXC",
        "colab_type": "code",
        "colab": {
          "autoexec": {
            "startup": false,
            "wait_interval": 0
          },
          "base_uri": "https://localhost:8080/",
          "height": 241
        },
        "outputId": "a793dc3f-55e5-4483-8812-8b430d2c2d95",
        "executionInfo": {
          "status": "ok",
          "timestamp": 1531736415177,
          "user_tz": -330,
          "elapsed": 954,
          "user": {
            "displayName": "Priyadharshan Saba",
            "photoUrl": "//lh5.googleusercontent.com/-PfrMeX74BFM/AAAAAAAAAAI/AAAAAAAAEe8/LcayyAlSBx8/s50-c-k-no/photo.jpg",
            "userId": "106388315316518890634"
          }
        }
      },
      "cell_type": "code",
      "source": [
        "#table with just recency values\n",
        "rec_df = dfcur\n",
        "rec_df = rec_df.drop(columns=['Quantity','InvoiceNo','StockCode','InvoiceDate','Country','Amount','date','time','dateS'])\n",
        "recencyTable = rec_df.drop_duplicates( keep=False)\n",
        "rec_df.head()"
      ],
      "execution_count": 508,
      "outputs": [
        {
          "output_type": "execute_result",
          "data": {
            "text/html": [
              "<div>\n",
              "<style scoped>\n",
              "    .dataframe tbody tr th:only-of-type {\n",
              "        vertical-align: middle;\n",
              "    }\n",
              "\n",
              "    .dataframe tbody tr th {\n",
              "        vertical-align: top;\n",
              "    }\n",
              "\n",
              "    .dataframe thead th {\n",
              "        text-align: right;\n",
              "    }\n",
              "</style>\n",
              "<table border=\"1\" class=\"dataframe\">\n",
              "  <thead>\n",
              "    <tr style=\"text-align: right;\">\n",
              "      <th></th>\n",
              "      <th>CustomerID</th>\n",
              "      <th>Recency_val</th>\n",
              "    </tr>\n",
              "  </thead>\n",
              "  <tbody>\n",
              "    <tr>\n",
              "      <th>0</th>\n",
              "      <td>17850.0</td>\n",
              "      <td>1</td>\n",
              "    </tr>\n",
              "    <tr>\n",
              "      <th>1</th>\n",
              "      <td>17850.0</td>\n",
              "      <td>1</td>\n",
              "    </tr>\n",
              "    <tr>\n",
              "      <th>2</th>\n",
              "      <td>17850.0</td>\n",
              "      <td>1</td>\n",
              "    </tr>\n",
              "    <tr>\n",
              "      <th>3</th>\n",
              "      <td>17850.0</td>\n",
              "      <td>1</td>\n",
              "    </tr>\n",
              "    <tr>\n",
              "      <th>4</th>\n",
              "      <td>17850.0</td>\n",
              "      <td>1</td>\n",
              "    </tr>\n",
              "  </tbody>\n",
              "</table>\n",
              "</div>"
            ],
            "text/plain": [
              "   CustomerID  Recency_val\n",
              "0     17850.0            1\n",
              "1     17850.0            1\n",
              "2     17850.0            1\n",
              "3     17850.0            1\n",
              "4     17850.0            1"
            ]
          },
          "metadata": {
            "tags": []
          },
          "execution_count": 508
        }
      ]
    },
    {
      "metadata": {
        "id": "xLmWE-rr5882",
        "colab_type": "code",
        "colab": {
          "autoexec": {
            "startup": false,
            "wait_interval": 0
          },
          "base_uri": "https://localhost:8080/",
          "height": 619
        },
        "outputId": "57a3bdf9-5b7a-42e3-a110-552a3ed57323",
        "executionInfo": {
          "status": "ok",
          "timestamp": 1531736416033,
          "user_tz": -330,
          "elapsed": 770,
          "user": {
            "displayName": "Priyadharshan Saba",
            "photoUrl": "//lh5.googleusercontent.com/-PfrMeX74BFM/AAAAAAAAAAI/AAAAAAAAEe8/LcayyAlSBx8/s50-c-k-no/photo.jpg",
            "userId": "106388315316518890634"
          }
        }
      },
      "cell_type": "code",
      "source": [
        "plt.figure(figsize=(12,8))\n",
        "sns.countplot(x=\"Recency_val\", data=rec_df)\n",
        "plt.ylabel('Count', fontsize=12)\n",
        "plt.xlabel('Recency_Value', fontsize=12)\n",
        "plt.xticks(rotation='vertical')\n",
        "plt.title(\"Frequency of Recency_Flag\", fontsize=15)\n",
        "plt.show()"
      ],
      "execution_count": 509,
      "outputs": [
        {
          "output_type": "stream",
          "text": [
            "/usr/local/lib/python3.6/dist-packages/seaborn/categorical.py:1428: FutureWarning:\n",
            "\n",
            "remove_na is deprecated and is a private function. Do not use.\n",
            "\n"
          ],
          "name": "stderr"
        },
        {
          "output_type": "display_data",
          "data": {
            "image/png": "[encoded data removed]",
            "text/plain": [
              "<matplotlib.figure.Figure at 0x7f3e546376a0>"
            ]
          },
          "metadata": {
            "tags": []
          }
        }
      ]
    },
    {
      "metadata": {
        "id": "NpYVV6rF-5Fk",
        "colab_type": "code",
        "colab": {
          "autoexec": {
            "startup": false,
            "wait_interval": 0
          },
          "base_uri": "https://localhost:8080/",
          "height": 173
        },
        "outputId": "82d2abd8-a83c-4df8-a4e8-9d44232cc939",
        "executionInfo": {
          "status": "ok",
          "timestamp": 1531736416916,
          "user_tz": -330,
          "elapsed": 822,
          "user": {
            "displayName": "Priyadharshan Saba",
            "photoUrl": "//lh5.googleusercontent.com/-PfrMeX74BFM/AAAAAAAAAAI/AAAAAAAAEe8/LcayyAlSBx8/s50-c-k-no/photo.jpg",
            "userId": "106388315316518890634"
          }
        }
      },
      "cell_type": "code",
      "source": [
        "print(\"\\tRecency Analysis\\n\",rec_df.groupby('Recency_val',as_index=False).count())\n",
        "\n",
        "\n"
      ],
      "execution_count": 510,
      "outputs": [
        {
          "output_type": "stream",
          "text": [
            "\tRecency Analysis\n",
            "    Recency_val  CustomerID\n",
            "0            1       40931\n",
            "1            2       40635\n",
            "2            3       67785\n",
            "3            4       79400\n",
            "4            5      112059\n"
          ],
          "name": "stdout"
        }
      ]
    },
    {
      "metadata": {
        "id": "NDLrKQS5BPzv",
        "colab_type": "code",
        "colab": {
          "autoexec": {
            "startup": false,
            "wait_interval": 0
          },
          "base_uri": "https://localhost:8080/",
          "height": 241
        },
        "outputId": "50dea50a-5ca1-416f-d40f-7cffa990380e",
        "executionInfo": {
          "status": "ok",
          "timestamp": 1531738502541,
          "user_tz": -330,
          "elapsed": 869,
          "user": {
            "displayName": "Priyadharshan Saba",
            "photoUrl": "//lh5.googleusercontent.com/-PfrMeX74BFM/AAAAAAAAAAI/AAAAAAAAEe8/LcayyAlSBx8/s50-c-k-no/photo.jpg",
            "userId": "106388315316518890634"
          }
        }
      },
      "cell_type": "code",
      "source": [
        "#------Frequency Analysis-------\n",
        "\n",
        "freq_df = dfcur[['Country','InvoiceNo','CustomerID']].drop_duplicates()\n",
        "freq_count = freq_df.groupby(['Country','CustomerID'],as_index=False)[['InvoiceNo']].count()\n",
        "freq_count.head()"
      ],
      "execution_count": 565,
      "outputs": [
        {
          "output_type": "execute_result",
          "data": {
            "text/html": [
              "<div>\n",
              "<style scoped>\n",
              "    .dataframe tbody tr th:only-of-type {\n",
              "        vertical-align: middle;\n",
              "    }\n",
              "\n",
              "    .dataframe tbody tr th {\n",
              "        vertical-align: top;\n",
              "    }\n",
              "\n",
              "    .dataframe thead th {\n",
              "        text-align: right;\n",
              "    }\n",
              "</style>\n",
              "<table border=\"1\" class=\"dataframe\">\n",
              "  <thead>\n",
              "    <tr style=\"text-align: right;\">\n",
              "      <th></th>\n",
              "      <th>Country</th>\n",
              "      <th>CustomerID</th>\n",
              "      <th>InvoiceNo</th>\n",
              "    </tr>\n",
              "  </thead>\n",
              "  <tbody>\n",
              "    <tr>\n",
              "      <th>0</th>\n",
              "      <td>United Kingdom</td>\n",
              "      <td>12346.0</td>\n",
              "      <td>1</td>\n",
              "    </tr>\n",
              "    <tr>\n",
              "      <th>1</th>\n",
              "      <td>United Kingdom</td>\n",
              "      <td>12747.0</td>\n",
              "      <td>11</td>\n",
              "    </tr>\n",
              "    <tr>\n",
              "      <th>2</th>\n",
              "      <td>United Kingdom</td>\n",
              "      <td>12748.0</td>\n",
              "      <td>207</td>\n",
              "    </tr>\n",
              "    <tr>\n",
              "      <th>3</th>\n",
              "      <td>United Kingdom</td>\n",
              "      <td>12749.0</td>\n",
              "      <td>5</td>\n",
              "    </tr>\n",
              "    <tr>\n",
              "      <th>4</th>\n",
              "      <td>United Kingdom</td>\n",
              "      <td>12820.0</td>\n",
              "      <td>4</td>\n",
              "    </tr>\n",
              "  </tbody>\n",
              "</table>\n",
              "</div>"
            ],
            "text/plain": [
              "          Country  CustomerID  InvoiceNo\n",
              "0  United Kingdom     12346.0          1\n",
              "1  United Kingdom     12747.0         11\n",
              "2  United Kingdom     12748.0        207\n",
              "3  United Kingdom     12749.0          5\n",
              "4  United Kingdom     12820.0          4"
            ]
          },
          "metadata": {
            "tags": []
          },
          "execution_count": 565
        }
      ]
    },
    {
      "metadata": {
        "id": "HaQbLV_3QcLn",
        "colab_type": "code",
        "colab": {
          "autoexec": {
            "startup": false,
            "wait_interval": 0
          },
          "base_uri": "https://localhost:8080/",
          "height": 241
        },
        "outputId": "1d3016b0-68d7-4d30-d46b-3d4e9852b950",
        "executionInfo": {
          "status": "ok",
          "timestamp": 1531738508885,
          "user_tz": -330,
          "elapsed": 836,
          "user": {
            "displayName": "Priyadharshan Saba",
            "photoUrl": "//lh5.googleusercontent.com/-PfrMeX74BFM/AAAAAAAAAAI/AAAAAAAAEe8/LcayyAlSBx8/s50-c-k-no/photo.jpg",
            "userId": "106388315316518890634"
          }
        }
      },
      "cell_type": "code",
      "source": [
        "unique_invoice=freq_df[['InvoiceNo']].drop_duplicates()\n",
        "unique_invoice.head()"
      ],
      "execution_count": 566,
      "outputs": [
        {
          "output_type": "execute_result",
          "data": {
            "text/html": [
              "<div>\n",
              "<style scoped>\n",
              "    .dataframe tbody tr th:only-of-type {\n",
              "        vertical-align: middle;\n",
              "    }\n",
              "\n",
              "    .dataframe tbody tr th {\n",
              "        vertical-align: top;\n",
              "    }\n",
              "\n",
              "    .dataframe thead th {\n",
              "        text-align: right;\n",
              "    }\n",
              "</style>\n",
              "<table border=\"1\" class=\"dataframe\">\n",
              "  <thead>\n",
              "    <tr style=\"text-align: right;\">\n",
              "      <th></th>\n",
              "      <th>InvoiceNo</th>\n",
              "    </tr>\n",
              "  </thead>\n",
              "  <tbody>\n",
              "    <tr>\n",
              "      <th>0</th>\n",
              "      <td>536365</td>\n",
              "    </tr>\n",
              "    <tr>\n",
              "      <th>7</th>\n",
              "      <td>536366</td>\n",
              "    </tr>\n",
              "    <tr>\n",
              "      <th>9</th>\n",
              "      <td>536367</td>\n",
              "    </tr>\n",
              "    <tr>\n",
              "      <th>21</th>\n",
              "      <td>536368</td>\n",
              "    </tr>\n",
              "    <tr>\n",
              "      <th>25</th>\n",
              "      <td>536369</td>\n",
              "    </tr>\n",
              "  </tbody>\n",
              "</table>\n",
              "</div>"
            ],
            "text/plain": [
              "   InvoiceNo\n",
              "0     536365\n",
              "7     536366\n",
              "9     536367\n",
              "21    536368\n",
              "25    536369"
            ]
          },
          "metadata": {
            "tags": []
          },
          "execution_count": 566
        }
      ]
    },
    {
      "metadata": {
        "id": "EYw0MXUHSUuL",
        "colab_type": "code",
        "colab": {
          "autoexec": {
            "startup": false,
            "wait_interval": 0
          },
          "base_uri": "https://localhost:8080/",
          "height": 241
        },
        "outputId": "783690f5-6c48-4e16-f465-5b3a861b624e",
        "executionInfo": {
          "status": "ok",
          "timestamp": 1531738510318,
          "user_tz": -330,
          "elapsed": 886,
          "user": {
            "displayName": "Priyadharshan Saba",
            "photoUrl": "//lh5.googleusercontent.com/-PfrMeX74BFM/AAAAAAAAAAI/AAAAAAAAEe8/LcayyAlSBx8/s50-c-k-no/photo.jpg",
            "userId": "106388315316518890634"
          }
        }
      },
      "cell_type": "code",
      "source": [
        "#Dividing the dataframe into 5 bands\n",
        "unique_invoice['fband']=pd.qcut(unique_invoice['InvoiceNo'],5)\n",
        "unique_invoice.head()\n",
        "freqBandTable = unique_invoice[['fband']].drop_duplicates().reset_index()\n",
        "freqBandTable"
      ],
      "execution_count": 567,
      "outputs": [
        {
          "output_type": "execute_result",
          "data": {
            "text/html": [
              "<div>\n",
              "<style scoped>\n",
              "    .dataframe tbody tr th:only-of-type {\n",
              "        vertical-align: middle;\n",
              "    }\n",
              "\n",
              "    .dataframe tbody tr th {\n",
              "        vertical-align: top;\n",
              "    }\n",
              "\n",
              "    .dataframe thead th {\n",
              "        text-align: right;\n",
              "    }\n",
              "</style>\n",
              "<table border=\"1\" class=\"dataframe\">\n",
              "  <thead>\n",
              "    <tr style=\"text-align: right;\">\n",
              "      <th></th>\n",
              "      <th>index</th>\n",
              "      <th>fband</th>\n",
              "    </tr>\n",
              "  </thead>\n",
              "  <tbody>\n",
              "    <tr>\n",
              "      <th>0</th>\n",
              "      <td>0</td>\n",
              "      <td>(536364.999, 546000.2]</td>\n",
              "    </tr>\n",
              "    <tr>\n",
              "      <th>1</th>\n",
              "      <td>113904</td>\n",
              "      <td>(546000.2, 555005.8]</td>\n",
              "    </tr>\n",
              "    <tr>\n",
              "      <th>2</th>\n",
              "      <td>207810</td>\n",
              "      <td>(555005.8, 564094.4]</td>\n",
              "    </tr>\n",
              "    <tr>\n",
              "      <th>3</th>\n",
              "      <td>309586</td>\n",
              "      <td>(564094.4, 573101.6]</td>\n",
              "    </tr>\n",
              "    <tr>\n",
              "      <th>4</th>\n",
              "      <td>422644</td>\n",
              "      <td>(573101.6, 581586.0]</td>\n",
              "    </tr>\n",
              "  </tbody>\n",
              "</table>\n",
              "</div>"
            ],
            "text/plain": [
              "    index                   fband\n",
              "0       0  (536364.999, 546000.2]\n",
              "1  113904    (546000.2, 555005.8]\n",
              "2  207810    (555005.8, 564094.4]\n",
              "3  309586    (564094.4, 573101.6]\n",
              "4  422644    (573101.6, 581586.0]"
            ]
          },
          "metadata": {
            "tags": []
          },
          "execution_count": 567
        }
      ]
    },
    {
      "metadata": {
        "id": "u7q87dZlT_7Q",
        "colab_type": "code",
        "colab": {
          "autoexec": {
            "startup": false,
            "wait_interval": 0
          },
          "base_uri": "https://localhost:8080/",
          "height": 241
        },
        "outputId": "f90bae0a-558b-4629-cc31-fb74d1f02834",
        "executionInfo": {
          "status": "ok",
          "timestamp": 1531738511929,
          "user_tz": -330,
          "elapsed": 790,
          "user": {
            "displayName": "Priyadharshan Saba",
            "photoUrl": "//lh5.googleusercontent.com/-PfrMeX74BFM/AAAAAAAAAAI/AAAAAAAAEe8/LcayyAlSBx8/s50-c-k-no/photo.jpg",
            "userId": "106388315316518890634"
          }
        }
      },
      "cell_type": "code",
      "source": [
        "def frequ(row):\n",
        "  if row['InvoiceNo'] <= 13:\n",
        "    val = 1\n",
        "  elif row['InvoiceNo'] > 13 and row['InvoiceNo']<=24:\n",
        "    val =2\n",
        "  elif row['InvoiceNo']>24 and row['InvoiceNo']<=35:\n",
        "    val = 3\n",
        "  elif row['InvoiceNo']>35 and row['InvoiceNo']<=60:\n",
        "    val = 4\n",
        "  else:\n",
        "    val = 5\n",
        "  return val\n",
        "\n",
        "freq_count['freq_val'] = freq_count.apply(frequ,axis=1)\n",
        "freq_count.head()"
      ],
      "execution_count": 568,
      "outputs": [
        {
          "output_type": "execute_result",
          "data": {
            "text/html": [
              "<div>\n",
              "<style scoped>\n",
              "    .dataframe tbody tr th:only-of-type {\n",
              "        vertical-align: middle;\n",
              "    }\n",
              "\n",
              "    .dataframe tbody tr th {\n",
              "        vertical-align: top;\n",
              "    }\n",
              "\n",
              "    .dataframe thead th {\n",
              "        text-align: right;\n",
              "    }\n",
              "</style>\n",
              "<table border=\"1\" class=\"dataframe\">\n",
              "  <thead>\n",
              "    <tr style=\"text-align: right;\">\n",
              "      <th></th>\n",
              "      <th>Country</th>\n",
              "      <th>CustomerID</th>\n",
              "      <th>InvoiceNo</th>\n",
              "      <th>freq_val</th>\n",
              "    </tr>\n",
              "  </thead>\n",
              "  <tbody>\n",
              "    <tr>\n",
              "      <th>0</th>\n",
              "      <td>United Kingdom</td>\n",
              "      <td>12346.0</td>\n",
              "      <td>1</td>\n",
              "      <td>1</td>\n",
              "    </tr>\n",
              "    <tr>\n",
              "      <th>1</th>\n",
              "      <td>United Kingdom</td>\n",
              "      <td>12747.0</td>\n",
              "      <td>11</td>\n",
              "      <td>1</td>\n",
              "    </tr>\n",
              "    <tr>\n",
              "      <th>2</th>\n",
              "      <td>United Kingdom</td>\n",
              "      <td>12748.0</td>\n",
              "      <td>207</td>\n",
              "      <td>5</td>\n",
              "    </tr>\n",
              "    <tr>\n",
              "      <th>3</th>\n",
              "      <td>United Kingdom</td>\n",
              "      <td>12749.0</td>\n",
              "      <td>5</td>\n",
              "      <td>1</td>\n",
              "    </tr>\n",
              "    <tr>\n",
              "      <th>4</th>\n",
              "      <td>United Kingdom</td>\n",
              "      <td>12820.0</td>\n",
              "      <td>4</td>\n",
              "      <td>1</td>\n",
              "    </tr>\n",
              "  </tbody>\n",
              "</table>\n",
              "</div>"
            ],
            "text/plain": [
              "          Country  CustomerID  InvoiceNo  freq_val\n",
              "0  United Kingdom     12346.0          1         1\n",
              "1  United Kingdom     12747.0         11         1\n",
              "2  United Kingdom     12748.0        207         5\n",
              "3  United Kingdom     12749.0          5         1\n",
              "4  United Kingdom     12820.0          4         1"
            ]
          },
          "metadata": {
            "tags": []
          },
          "execution_count": 568
        }
      ]
    },
    {
      "metadata": {
        "id": "R02eOIjcWnGG",
        "colab_type": "code",
        "colab": {
          "autoexec": {
            "startup": false,
            "wait_interval": 0
          },
          "base_uri": "https://localhost:8080/",
          "height": 619
        },
        "outputId": "35556c3e-f01b-4050-88c1-f7e0fb6f7c1b",
        "executionInfo": {
          "status": "ok",
          "timestamp": 1531738512887,
          "user_tz": -330,
          "elapsed": 898,
          "user": {
            "displayName": "Priyadharshan Saba",
            "photoUrl": "//lh5.googleusercontent.com/-PfrMeX74BFM/AAAAAAAAAAI/AAAAAAAAEe8/LcayyAlSBx8/s50-c-k-no/photo.jpg",
            "userId": "106388315316518890634"
          }
        }
      },
      "cell_type": "code",
      "source": [
        "plt.figure(figsize=(12,8))\n",
        "sns.countplot(x=\"freq_val\", data=freq_count)\n",
        "plt.ylabel('Count', fontsize=12)\n",
        "plt.xlabel('Frequency_Value', fontsize=12)\n",
        "plt.xticks(rotation='vertical')\n",
        "plt.title(\"Frequency Analysis\", fontsize=15)\n",
        "plt.show()"
      ],
      "execution_count": 569,
      "outputs": [
        {
          "output_type": "stream",
          "text": [
            "/usr/local/lib/python3.6/dist-packages/seaborn/categorical.py:1428: FutureWarning:\n",
            "\n",
            "remove_na is deprecated and is a private function. Do not use.\n",
            "\n"
          ],
          "name": "stderr"
        },
        {
          "output_type": "display_data",
          "data": {
            "image/png": "[encoded data removed]",
            "text/plain": [
              "<matplotlib.figure.Figure at 0x7f3e63c5d128>"
            ]
          },
          "metadata": {
            "tags": []
          }
        }
      ]
    },
    {
      "metadata": {
        "id": "8EEF-zcNZ81F",
        "colab_type": "code",
        "colab": {
          "autoexec": {
            "startup": false,
            "wait_interval": 0
          },
          "base_uri": "https://localhost:8080/",
          "height": 173
        },
        "outputId": "275947c2-cb04-463a-a6a0-46e8e0696abf",
        "executionInfo": {
          "status": "ok",
          "timestamp": 1531738513913,
          "user_tz": -330,
          "elapsed": 949,
          "user": {
            "displayName": "Priyadharshan Saba",
            "photoUrl": "//lh5.googleusercontent.com/-PfrMeX74BFM/AAAAAAAAAAI/AAAAAAAAEe8/LcayyAlSBx8/s50-c-k-no/photo.jpg",
            "userId": "106388315316518890634"
          }
        }
      },
      "cell_type": "code",
      "source": [
        "print(\"\\tFrequency Analysis\\n\",freq_count.groupby('freq_val',as_index=False).count())\n",
        "\n",
        "\n"
      ],
      "execution_count": 570,
      "outputs": [
        {
          "output_type": "stream",
          "text": [
            "\tFrequency Analysis\n",
            "    freq_val  Country  CustomerID  InvoiceNo\n",
            "0         1     3729        3729       3729\n",
            "1         2      127         127        127\n",
            "2         3       37          37         37\n",
            "3         4       19          19         19\n",
            "4         5        8           8          8\n"
          ],
          "name": "stdout"
        }
      ]
    },
    {
      "metadata": {
        "id": "dC4aLV_Nay9t",
        "colab_type": "code",
        "colab": {
          "autoexec": {
            "startup": false,
            "wait_interval": 0
          },
          "base_uri": "https://localhost:8080/",
          "height": 241
        },
        "outputId": "cb38764c-b6cd-40bf-fdf4-c53d92c7ab82",
        "executionInfo": {
          "status": "ok",
          "timestamp": 1531738515225,
          "user_tz": -330,
          "elapsed": 1245,
          "user": {
            "displayName": "Priyadharshan Saba",
            "photoUrl": "//lh5.googleusercontent.com/-PfrMeX74BFM/AAAAAAAAAAI/AAAAAAAAEe8/LcayyAlSBx8/s50-c-k-no/photo.jpg",
            "userId": "106388315316518890634"
          }
        }
      },
      "cell_type": "code",
      "source": [
        "#----MonetaryValue Analysis------\n",
        "\n",
        "#monetary value for each country\n",
        "monetary_df_countries = df.groupby(['Country','CustomerID'],as_index=False)['Amount'].sum()\n",
        "monetary_df_countries.head()"
      ],
      "execution_count": 571,
      "outputs": [
        {
          "output_type": "execute_result",
          "data": {
            "text/html": [
              "<div>\n",
              "<style scoped>\n",
              "    .dataframe tbody tr th:only-of-type {\n",
              "        vertical-align: middle;\n",
              "    }\n",
              "\n",
              "    .dataframe tbody tr th {\n",
              "        vertical-align: top;\n",
              "    }\n",
              "\n",
              "    .dataframe thead th {\n",
              "        text-align: right;\n",
              "    }\n",
              "</style>\n",
              "<table border=\"1\" class=\"dataframe\">\n",
              "  <thead>\n",
              "    <tr style=\"text-align: right;\">\n",
              "      <th></th>\n",
              "      <th>Country</th>\n",
              "      <th>CustomerID</th>\n",
              "      <th>Amount</th>\n",
              "    </tr>\n",
              "  </thead>\n",
              "  <tbody>\n",
              "    <tr>\n",
              "      <th>0</th>\n",
              "      <td>Australia</td>\n",
              "      <td>12386.0</td>\n",
              "      <td>401.90</td>\n",
              "    </tr>\n",
              "    <tr>\n",
              "      <th>1</th>\n",
              "      <td>Australia</td>\n",
              "      <td>12388.0</td>\n",
              "      <td>2780.66</td>\n",
              "    </tr>\n",
              "    <tr>\n",
              "      <th>2</th>\n",
              "      <td>Australia</td>\n",
              "      <td>12393.0</td>\n",
              "      <td>1582.60</td>\n",
              "    </tr>\n",
              "    <tr>\n",
              "      <th>3</th>\n",
              "      <td>Australia</td>\n",
              "      <td>12415.0</td>\n",
              "      <td>124910.63</td>\n",
              "    </tr>\n",
              "    <tr>\n",
              "      <th>4</th>\n",
              "      <td>Australia</td>\n",
              "      <td>12422.0</td>\n",
              "      <td>386.20</td>\n",
              "    </tr>\n",
              "  </tbody>\n",
              "</table>\n",
              "</div>"
            ],
            "text/plain": [
              "     Country  CustomerID     Amount\n",
              "0  Australia     12386.0     401.90\n",
              "1  Australia     12388.0    2780.66\n",
              "2  Australia     12393.0    1582.60\n",
              "3  Australia     12415.0  124910.63\n",
              "4  Australia     12422.0     386.20"
            ]
          },
          "metadata": {
            "tags": []
          },
          "execution_count": 571
        }
      ]
    },
    {
      "metadata": {
        "id": "QFVlaTgccRNL",
        "colab_type": "code",
        "colab": {
          "autoexec": {
            "startup": false,
            "wait_interval": 0
          },
          "base_uri": "https://localhost:8080/",
          "height": 667
        },
        "outputId": "36c9c6b9-58e0-405a-de3b-5d2857910f92",
        "executionInfo": {
          "status": "ok",
          "timestamp": 1531738517061,
          "user_tz": -330,
          "elapsed": 1730,
          "user": {
            "displayName": "Priyadharshan Saba",
            "photoUrl": "//lh5.googleusercontent.com/-PfrMeX74BFM/AAAAAAAAAAI/AAAAAAAAEe8/LcayyAlSBx8/s50-c-k-no/photo.jpg",
            "userId": "106388315316518890634"
          }
        }
      },
      "cell_type": "code",
      "source": [
        "ctry=list(monetary_df_countries['Country'])\n",
        "amt=list(monetary_df_countries['Amount'])\n",
        "plt.figure(figsize=(12,8))\n",
        "sns.barplot(ctry, amt, alpha=1)\n",
        "plt.xticks(rotation='60')\n",
        "plt.show()"
      ],
      "execution_count": 572,
      "outputs": [
        {
          "output_type": "stream",
          "text": [
            "/usr/local/lib/python3.6/dist-packages/seaborn/categorical.py:1428: FutureWarning:\n",
            "\n",
            "remove_na is deprecated and is a private function. Do not use.\n",
            "\n"
          ],
          "name": "stderr"
        },
        {
          "output_type": "display_data",
          "data": {
            "image/png": "[encoded data removed]",
            "text/plain": [
              "<matplotlib.figure.Figure at 0x7f3e76218048>"
            ]
          },
          "metadata": {
            "tags": []
          }
        }
      ]
    },
    {
      "metadata": {
        "id": "tnRaeTFWdQLk",
        "colab_type": "code",
        "colab": {
          "autoexec": {
            "startup": false,
            "wait_interval": 0
          },
          "base_uri": "https://localhost:8080/",
          "height": 173
        },
        "outputId": "1cad2a6b-e1a2-45aa-a2bc-96c669126f87",
        "executionInfo": {
          "status": "ok",
          "timestamp": 1531738517922,
          "user_tz": -330,
          "elapsed": 695,
          "user": {
            "displayName": "Priyadharshan Saba",
            "photoUrl": "//lh5.googleusercontent.com/-PfrMeX74BFM/AAAAAAAAAAI/AAAAAAAAEe8/LcayyAlSBx8/s50-c-k-no/photo.jpg",
            "userId": "106388315316518890634"
          }
        }
      },
      "cell_type": "code",
      "source": [
        "print(\"\\tMonetary Analysis Countrywise\\n\",monetary_df_countries.groupby('Country',as_index=False)[['Amount']].sum().sort_values('Amount', ascending=False).reset_index(drop=True).head())"
      ],
      "execution_count": 573,
      "outputs": [
        {
          "output_type": "stream",
          "text": [
            "\tMonetary Analysis Countrywise\n",
            "           Country      Amount\n",
            "0  United Kingdom  7299318.66\n",
            "1     Netherlands   285420.87\n",
            "2            EIRE   265545.90\n",
            "3         Germany   228858.07\n",
            "4          France   208997.21\n"
          ],
          "name": "stdout"
        }
      ]
    },
    {
      "metadata": {
        "id": "swZzdPgVwmYf",
        "colab_type": "code",
        "colab": {
          "autoexec": {
            "startup": false,
            "wait_interval": 0
          },
          "base_uri": "https://localhost:8080/",
          "height": 241
        },
        "outputId": "1fb8507c-bd00-43b1-8e4f-c5515652e4fc",
        "executionInfo": {
          "status": "ok",
          "timestamp": 1531739506628,
          "user_tz": -330,
          "elapsed": 1476,
          "user": {
            "displayName": "Priyadharshan Saba",
            "photoUrl": "//lh5.googleusercontent.com/-PfrMeX74BFM/AAAAAAAAAAI/AAAAAAAAEe8/LcayyAlSBx8/s50-c-k-no/photo.jpg",
            "userId": "106388315316518890634"
          }
        }
      },
      "cell_type": "code",
      "source": [
        "#getting monetary band\n",
        "monprice_df = dfcur[['CustomerID','Amount']].drop_duplicates()\n",
        "monprice_df = monprice_df.groupby(['CustomerID'])[['Amount']].sum()\n",
        "monprice_df['monetary'] = pd.qcut(monprice_df['Amount'],5)\n",
        "monprice_df=monprice_df.sort_values(by=['monetary'])\n",
        "monetary_band = monprice_df[['monetary']].drop_duplicates().reset_index(drop=True)\n",
        "monetary_band"
      ],
      "execution_count": 625,
      "outputs": [
        {
          "output_type": "execute_result",
          "data": {
            "text/html": [
              "<div>\n",
              "<style scoped>\n",
              "    .dataframe tbody tr th:only-of-type {\n",
              "        vertical-align: middle;\n",
              "    }\n",
              "\n",
              "    .dataframe tbody tr th {\n",
              "        vertical-align: top;\n",
              "    }\n",
              "\n",
              "    .dataframe thead th {\n",
              "        text-align: right;\n",
              "    }\n",
              "</style>\n",
              "<table border=\"1\" class=\"dataframe\">\n",
              "  <thead>\n",
              "    <tr style=\"text-align: right;\">\n",
              "      <th></th>\n",
              "      <th>monetary</th>\n",
              "    </tr>\n",
              "  </thead>\n",
              "  <tbody>\n",
              "    <tr>\n",
              "      <th>0</th>\n",
              "      <td>(3.749, 171.38]</td>\n",
              "    </tr>\n",
              "    <tr>\n",
              "      <th>1</th>\n",
              "      <td>(171.38, 306.886]</td>\n",
              "    </tr>\n",
              "    <tr>\n",
              "      <th>2</th>\n",
              "      <td>(306.886, 511.26]</td>\n",
              "    </tr>\n",
              "    <tr>\n",
              "      <th>3</th>\n",
              "      <td>(511.26, 955.366]</td>\n",
              "    </tr>\n",
              "    <tr>\n",
              "      <th>4</th>\n",
              "      <td>(955.366, 168472.5]</td>\n",
              "    </tr>\n",
              "  </tbody>\n",
              "</table>\n",
              "</div>"
            ],
            "text/plain": [
              "              monetary\n",
              "0      (3.749, 171.38]\n",
              "1    (171.38, 306.886]\n",
              "2    (306.886, 511.26]\n",
              "3    (511.26, 955.366]\n",
              "4  (955.366, 168472.5]"
            ]
          },
          "metadata": {
            "tags": []
          },
          "execution_count": 625
        }
      ]
    },
    {
      "metadata": {
        "id": "nq8MZlInxREW",
        "colab_type": "code",
        "colab": {
          "autoexec": {
            "startup": false,
            "wait_interval": 0
          },
          "base_uri": "https://localhost:8080/",
          "height": 140
        },
        "outputId": "33f42195-9a71-488c-b1ac-dfb29c81be72",
        "executionInfo": {
          "status": "ok",
          "timestamp": 1531739580154,
          "user_tz": -330,
          "elapsed": 1057,
          "user": {
            "displayName": "Priyadharshan Saba",
            "photoUrl": "//lh5.googleusercontent.com/-PfrMeX74BFM/AAAAAAAAAAI/AAAAAAAAEe8/LcayyAlSBx8/s50-c-k-no/photo.jpg",
            "userId": "106388315316518890634"
          }
        }
      },
      "cell_type": "code",
      "source": [
        "x=monetary_band['monetary'].get_values().tolist()\n",
        "x"
      ],
      "execution_count": 629,
      "outputs": [
        {
          "output_type": "execute_result",
          "data": {
            "text/plain": [
              "[Interval(3.749, 171.38, closed='right'),\n",
              " Interval(171.38, 306.886, closed='right'),\n",
              " Interval(306.886, 511.26, closed='right'),\n",
              " Interval(511.26, 955.366, closed='right'),\n",
              " Interval(955.366, 168472.5, closed='right')]"
            ]
          },
          "metadata": {
            "tags": []
          },
          "execution_count": 629
        }
      ]
    },
    {
      "metadata": {
        "id": "zrjccOzuhSfB",
        "colab_type": "code",
        "colab": {
          "autoexec": {
            "startup": false,
            "wait_interval": 0
          },
          "base_uri": "https://localhost:8080/",
          "height": 273
        },
        "outputId": "171ad75b-b8d7-40e5-d832-f28983857075",
        "executionInfo": {
          "status": "ok",
          "timestamp": 1531739682712,
          "user_tz": -330,
          "elapsed": 947,
          "user": {
            "displayName": "Priyadharshan Saba",
            "photoUrl": "//lh5.googleusercontent.com/-PfrMeX74BFM/AAAAAAAAAAI/AAAAAAAAEe8/LcayyAlSBx8/s50-c-k-no/photo.jpg",
            "userId": "106388315316518890634"
          }
        }
      },
      "cell_type": "code",
      "source": [
        "def mon(row):\n",
        "  if row['Amount'] <= x[0].right:\n",
        "    val = 1\n",
        "  elif row['Amount']> x[0].right and row['Amount']<=x[1].right:\n",
        "    val = 2\n",
        "  elif row['Amount']> x[1].right and row['Amount']<=x[2].right:\n",
        "    val = 3\n",
        "  elif row['Amount']> x[2].right and row['Amount']<=x[3].right:\n",
        "    val = 4\n",
        "  else:\n",
        "    val = 5\n",
        "  return val\n",
        "\n",
        "monprice_df['Mont_val'] = price_df.apply(mon,axis=1)\n",
        "\n",
        "monprice_df.head()\n"
      ],
      "execution_count": 632,
      "outputs": [
        {
          "output_type": "execute_result",
          "data": {
            "text/html": [
              "<div>\n",
              "<style scoped>\n",
              "    .dataframe tbody tr th:only-of-type {\n",
              "        vertical-align: middle;\n",
              "    }\n",
              "\n",
              "    .dataframe tbody tr th {\n",
              "        vertical-align: top;\n",
              "    }\n",
              "\n",
              "    .dataframe thead th {\n",
              "        text-align: right;\n",
              "    }\n",
              "</style>\n",
              "<table border=\"1\" class=\"dataframe\">\n",
              "  <thead>\n",
              "    <tr style=\"text-align: right;\">\n",
              "      <th></th>\n",
              "      <th>Amount</th>\n",
              "      <th>monetary</th>\n",
              "      <th>Mont_val</th>\n",
              "    </tr>\n",
              "    <tr>\n",
              "      <th>CustomerID</th>\n",
              "      <th></th>\n",
              "      <th></th>\n",
              "      <th></th>\n",
              "    </tr>\n",
              "  </thead>\n",
              "  <tbody>\n",
              "    <tr>\n",
              "      <th>14598.0</th>\n",
              "      <td>146.04</td>\n",
              "      <td>(3.749, 171.38]</td>\n",
              "      <td>NaN</td>\n",
              "    </tr>\n",
              "    <tr>\n",
              "      <th>14821.0</th>\n",
              "      <td>48.80</td>\n",
              "      <td>(3.749, 171.38]</td>\n",
              "      <td>1.0</td>\n",
              "    </tr>\n",
              "    <tr>\n",
              "      <th>17536.0</th>\n",
              "      <td>25.50</td>\n",
              "      <td>(3.749, 171.38]</td>\n",
              "      <td>NaN</td>\n",
              "    </tr>\n",
              "    <tr>\n",
              "      <th>17984.0</th>\n",
              "      <td>104.23</td>\n",
              "      <td>(3.749, 171.38]</td>\n",
              "      <td>NaN</td>\n",
              "    </tr>\n",
              "    <tr>\n",
              "      <th>14823.0</th>\n",
              "      <td>142.05</td>\n",
              "      <td>(3.749, 171.38]</td>\n",
              "      <td>NaN</td>\n",
              "    </tr>\n",
              "  </tbody>\n",
              "</table>\n",
              "</div>"
            ],
            "text/plain": [
              "            Amount         monetary  Mont_val\n",
              "CustomerID                                   \n",
              "14598.0     146.04  (3.749, 171.38]       NaN\n",
              "14821.0      48.80  (3.749, 171.38]       1.0\n",
              "17536.0      25.50  (3.749, 171.38]       NaN\n",
              "17984.0     104.23  (3.749, 171.38]       NaN\n",
              "14823.0     142.05  (3.749, 171.38]       NaN"
            ]
          },
          "metadata": {
            "tags": []
          },
          "execution_count": 632
        }
      ]
    },
    {
      "metadata": {
        "id": "7Wxc5pfXreP4",
        "colab_type": "code",
        "colab": {
          "autoexec": {
            "startup": false,
            "wait_interval": 0
          },
          "base_uri": "https://localhost:8080/",
          "height": 598
        },
        "outputId": "e5acae0b-3cd7-47f5-d7ac-e1d1260a761d",
        "executionInfo": {
          "status": "ok",
          "timestamp": 1531738762217,
          "user_tz": -330,
          "elapsed": 981,
          "user": {
            "displayName": "Priyadharshan Saba",
            "photoUrl": "//lh5.googleusercontent.com/-PfrMeX74BFM/AAAAAAAAAAI/AAAAAAAAEe8/LcayyAlSBx8/s50-c-k-no/photo.jpg",
            "userId": "106388315316518890634"
          }
        }
      },
      "cell_type": "code",
      "source": [
        "plt.figure(figsize=(12,8))\n",
        "sns.countplot(x=\"Mont_val\", data=price_df)\n",
        "plt.ylabel('Count', fontsize=12)\n",
        "plt.xlabel('Monetary_Value', fontsize=12)\n",
        "plt.xticks(rotation='vertical')\n",
        "plt.title(\"Monetary Analysis\", fontsize=15)\n",
        "plt.show()"
      ],
      "execution_count": 593,
      "outputs": [
        {
          "output_type": "stream",
          "text": [
            "/usr/local/lib/python3.6/dist-packages/seaborn/categorical.py:1428: FutureWarning:\n",
            "\n",
            "remove_na is deprecated and is a private function. Do not use.\n",
            "\n"
          ],
          "name": "stderr"
        },
        {
          "output_type": "display_data",
          "data": {
            "image/png": "[encoded data removed]",
            "text/plain": [
              "<matplotlib.figure.Figure at 0x7f3e648b9f98>"
            ]
          },
          "metadata": {
            "tags": []
          }
        }
      ]
    },
    {
      "metadata": {
        "id": "Hvq3qTWGr58S",
        "colab_type": "code",
        "colab": {
          "autoexec": {
            "startup": false,
            "wait_interval": 0
          },
          "base_uri": "https://localhost:8080/",
          "height": 173
        },
        "outputId": "9278642e-d10d-4b27-8438-fc887b15443e",
        "executionInfo": {
          "status": "ok",
          "timestamp": 1531738522110,
          "user_tz": -330,
          "elapsed": 746,
          "user": {
            "displayName": "Priyadharshan Saba",
            "photoUrl": "//lh5.googleusercontent.com/-PfrMeX74BFM/AAAAAAAAAAI/AAAAAAAAEe8/LcayyAlSBx8/s50-c-k-no/photo.jpg",
            "userId": "106388315316518890634"
          }
        }
      },
      "cell_type": "code",
      "source": [
        "print(\"\\tMonetary Analysis\\n\",price_df.groupby(['Mont_val'],as_index=False)['monetary'].count())"
      ],
      "execution_count": 577,
      "outputs": [
        {
          "output_type": "stream",
          "text": [
            "\tMonetary Analysis\n",
            "    Mont_val  monetary\n",
            "0         1       620\n",
            "1         2       496\n",
            "2         3       529\n",
            "3         4       554\n",
            "4         5       544\n"
          ],
          "name": "stdout"
        }
      ]
    },
    {
      "metadata": {
        "id": "xX9A4LEluWup",
        "colab_type": "code",
        "colab": {
          "autoexec": {
            "startup": false,
            "wait_interval": 0
          },
          "base_uri": "https://localhost:8080/",
          "height": 241
        },
        "outputId": "49b64cd4-7463-4ff0-c9c0-5ec25c47c51d",
        "executionInfo": {
          "status": "ok",
          "timestamp": 1531738523855,
          "user_tz": -330,
          "elapsed": 914,
          "user": {
            "displayName": "Priyadharshan Saba",
            "photoUrl": "//lh5.googleusercontent.com/-PfrMeX74BFM/AAAAAAAAAAI/AAAAAAAAEe8/LcayyAlSBx8/s50-c-k-no/photo.jpg",
            "userId": "106388315316518890634"
          }
        }
      },
      "cell_type": "code",
      "source": [
        "rec_df.head()"
      ],
      "execution_count": 578,
      "outputs": [
        {
          "output_type": "execute_result",
          "data": {
            "text/html": [
              "<div>\n",
              "<style scoped>\n",
              "    .dataframe tbody tr th:only-of-type {\n",
              "        vertical-align: middle;\n",
              "    }\n",
              "\n",
              "    .dataframe tbody tr th {\n",
              "        vertical-align: top;\n",
              "    }\n",
              "\n",
              "    .dataframe thead th {\n",
              "        text-align: right;\n",
              "    }\n",
              "</style>\n",
              "<table border=\"1\" class=\"dataframe\">\n",
              "  <thead>\n",
              "    <tr style=\"text-align: right;\">\n",
              "      <th></th>\n",
              "      <th>CustomerID</th>\n",
              "      <th>Recency_val</th>\n",
              "    </tr>\n",
              "  </thead>\n",
              "  <tbody>\n",
              "    <tr>\n",
              "      <th>0</th>\n",
              "      <td>17850.0</td>\n",
              "      <td>1</td>\n",
              "    </tr>\n",
              "    <tr>\n",
              "      <th>1</th>\n",
              "      <td>17850.0</td>\n",
              "      <td>1</td>\n",
              "    </tr>\n",
              "    <tr>\n",
              "      <th>2</th>\n",
              "      <td>17850.0</td>\n",
              "      <td>1</td>\n",
              "    </tr>\n",
              "    <tr>\n",
              "      <th>3</th>\n",
              "      <td>17850.0</td>\n",
              "      <td>1</td>\n",
              "    </tr>\n",
              "    <tr>\n",
              "      <th>4</th>\n",
              "      <td>17850.0</td>\n",
              "      <td>1</td>\n",
              "    </tr>\n",
              "  </tbody>\n",
              "</table>\n",
              "</div>"
            ],
            "text/plain": [
              "   CustomerID  Recency_val\n",
              "0     17850.0            1\n",
              "1     17850.0            1\n",
              "2     17850.0            1\n",
              "3     17850.0            1\n",
              "4     17850.0            1"
            ]
          },
          "metadata": {
            "tags": []
          },
          "execution_count": 578
        }
      ]
    },
    {
      "metadata": {
        "id": "S8C902I7uZqM",
        "colab_type": "code",
        "colab": {
          "autoexec": {
            "startup": false,
            "wait_interval": 0
          },
          "base_uri": "https://localhost:8080/",
          "height": 241
        },
        "outputId": "2028f2f6-ded9-428c-db9b-60e589656c8b",
        "executionInfo": {
          "status": "ok",
          "timestamp": 1531738526284,
          "user_tz": -330,
          "elapsed": 821,
          "user": {
            "displayName": "Priyadharshan Saba",
            "photoUrl": "//lh5.googleusercontent.com/-PfrMeX74BFM/AAAAAAAAAAI/AAAAAAAAEe8/LcayyAlSBx8/s50-c-k-no/photo.jpg",
            "userId": "106388315316518890634"
          }
        }
      },
      "cell_type": "code",
      "source": [
        "freq_count.head()"
      ],
      "execution_count": 579,
      "outputs": [
        {
          "output_type": "execute_result",
          "data": {
            "text/html": [
              "<div>\n",
              "<style scoped>\n",
              "    .dataframe tbody tr th:only-of-type {\n",
              "        vertical-align: middle;\n",
              "    }\n",
              "\n",
              "    .dataframe tbody tr th {\n",
              "        vertical-align: top;\n",
              "    }\n",
              "\n",
              "    .dataframe thead th {\n",
              "        text-align: right;\n",
              "    }\n",
              "</style>\n",
              "<table border=\"1\" class=\"dataframe\">\n",
              "  <thead>\n",
              "    <tr style=\"text-align: right;\">\n",
              "      <th></th>\n",
              "      <th>Country</th>\n",
              "      <th>CustomerID</th>\n",
              "      <th>InvoiceNo</th>\n",
              "      <th>freq_val</th>\n",
              "    </tr>\n",
              "  </thead>\n",
              "  <tbody>\n",
              "    <tr>\n",
              "      <th>0</th>\n",
              "      <td>United Kingdom</td>\n",
              "      <td>12346.0</td>\n",
              "      <td>1</td>\n",
              "      <td>1</td>\n",
              "    </tr>\n",
              "    <tr>\n",
              "      <th>1</th>\n",
              "      <td>United Kingdom</td>\n",
              "      <td>12747.0</td>\n",
              "      <td>11</td>\n",
              "      <td>1</td>\n",
              "    </tr>\n",
              "    <tr>\n",
              "      <th>2</th>\n",
              "      <td>United Kingdom</td>\n",
              "      <td>12748.0</td>\n",
              "      <td>207</td>\n",
              "      <td>5</td>\n",
              "    </tr>\n",
              "    <tr>\n",
              "      <th>3</th>\n",
              "      <td>United Kingdom</td>\n",
              "      <td>12749.0</td>\n",
              "      <td>5</td>\n",
              "      <td>1</td>\n",
              "    </tr>\n",
              "    <tr>\n",
              "      <th>4</th>\n",
              "      <td>United Kingdom</td>\n",
              "      <td>12820.0</td>\n",
              "      <td>4</td>\n",
              "      <td>1</td>\n",
              "    </tr>\n",
              "  </tbody>\n",
              "</table>\n",
              "</div>"
            ],
            "text/plain": [
              "          Country  CustomerID  InvoiceNo  freq_val\n",
              "0  United Kingdom     12346.0          1         1\n",
              "1  United Kingdom     12747.0         11         1\n",
              "2  United Kingdom     12748.0        207         5\n",
              "3  United Kingdom     12749.0          5         1\n",
              "4  United Kingdom     12820.0          4         1"
            ]
          },
          "metadata": {
            "tags": []
          },
          "execution_count": 579
        }
      ]
    },
    {
      "metadata": {
        "id": "EPg5mnSOsR63",
        "colab_type": "code",
        "colab": {
          "autoexec": {
            "startup": false,
            "wait_interval": 0
          },
          "base_uri": "https://localhost:8080/",
          "height": 895
        },
        "outputId": "3b5e7e68-6d1f-4edb-d7b3-427e7d5449ee",
        "executionInfo": {
          "status": "error",
          "timestamp": 1531738725895,
          "user_tz": -330,
          "elapsed": 868,
          "user": {
            "displayName": "Priyadharshan Saba",
            "photoUrl": "//lh5.googleusercontent.com/-PfrMeX74BFM/AAAAAAAAAAI/AAAAAAAAEe8/LcayyAlSBx8/s50-c-k-no/photo.jpg",
            "userId": "106388315316518890634"
          }
        }
      },
      "cell_type": "code",
      "source": [
        "uk_df=pd.merge(rec_df,freq_count,price_df)\n"
      ],
      "execution_count": 590,
      "outputs": [
        {
          "output_type": "error",
          "ename": "ValueError",
          "evalue": "ignored",
          "traceback": [
            "\u001b[0;31m---------------------------------------------------------------------------\u001b[0m",
            "\u001b[0;31mValueError\u001b[0m                                Traceback (most recent call last)",
            "\u001b[0;32m<ipython-input-590-5f45367ce090>\u001b[0m in \u001b[0;36m<module>\u001b[0;34m()\u001b[0m\n\u001b[0;32m----> 1\u001b[0;31m \u001b[0muk_df\u001b[0m\u001b[0;34m=\u001b[0m\u001b[0mpd\u001b[0m\u001b[0;34m.\u001b[0m\u001b[0mmerge\u001b[0m\u001b[0;34m(\u001b[0m\u001b[0mrec_df\u001b[0m\u001b[0;34m,\u001b[0m\u001b[0mfreq_count\u001b[0m\u001b[0;34m,\u001b[0m\u001b[0mprice_df\u001b[0m\u001b[0;34m)\u001b[0m\u001b[0;34m\u001b[0m\u001b[0m\n\u001b[0m",
            "\u001b[0;32m/usr/local/lib/python3.6/dist-packages/pandas/core/reshape/merge.py\u001b[0m in \u001b[0;36mmerge\u001b[0;34m(left, right, how, on, left_on, right_on, left_index, right_index, sort, suffixes, copy, indicator, validate)\u001b[0m\n\u001b[1;32m     56\u001b[0m                          \u001b[0mcopy\u001b[0m\u001b[0;34m=\u001b[0m\u001b[0mcopy\u001b[0m\u001b[0;34m,\u001b[0m \u001b[0mindicator\u001b[0m\u001b[0;34m=\u001b[0m\u001b[0mindicator\u001b[0m\u001b[0;34m,\u001b[0m\u001b[0;34m\u001b[0m\u001b[0m\n\u001b[1;32m     57\u001b[0m                          validate=validate)\n\u001b[0;32m---> 58\u001b[0;31m     \u001b[0;32mreturn\u001b[0m \u001b[0mop\u001b[0m\u001b[0;34m.\u001b[0m\u001b[0mget_result\u001b[0m\u001b[0;34m(\u001b[0m\u001b[0;34m)\u001b[0m\u001b[0;34m\u001b[0m\u001b[0m\n\u001b[0m\u001b[1;32m     59\u001b[0m \u001b[0;34m\u001b[0m\u001b[0m\n\u001b[1;32m     60\u001b[0m \u001b[0;34m\u001b[0m\u001b[0m\n",
            "\u001b[0;32m/usr/local/lib/python3.6/dist-packages/pandas/core/reshape/merge.py\u001b[0m in \u001b[0;36mget_result\u001b[0;34m(self)\u001b[0m\n\u001b[1;32m    580\u001b[0m                 self.left, self.right)\n\u001b[1;32m    581\u001b[0m \u001b[0;34m\u001b[0m\u001b[0m\n\u001b[0;32m--> 582\u001b[0;31m         \u001b[0mjoin_index\u001b[0m\u001b[0;34m,\u001b[0m \u001b[0mleft_indexer\u001b[0m\u001b[0;34m,\u001b[0m \u001b[0mright_indexer\u001b[0m \u001b[0;34m=\u001b[0m \u001b[0mself\u001b[0m\u001b[0;34m.\u001b[0m\u001b[0m_get_join_info\u001b[0m\u001b[0;34m(\u001b[0m\u001b[0;34m)\u001b[0m\u001b[0;34m\u001b[0m\u001b[0m\n\u001b[0m\u001b[1;32m    583\u001b[0m \u001b[0;34m\u001b[0m\u001b[0m\n\u001b[1;32m    584\u001b[0m         \u001b[0mldata\u001b[0m\u001b[0;34m,\u001b[0m \u001b[0mrdata\u001b[0m \u001b[0;34m=\u001b[0m \u001b[0mself\u001b[0m\u001b[0;34m.\u001b[0m\u001b[0mleft\u001b[0m\u001b[0;34m.\u001b[0m\u001b[0m_data\u001b[0m\u001b[0;34m,\u001b[0m \u001b[0mself\u001b[0m\u001b[0;34m.\u001b[0m\u001b[0mright\u001b[0m\u001b[0;34m.\u001b[0m\u001b[0m_data\u001b[0m\u001b[0;34m\u001b[0m\u001b[0m\n",
            "\u001b[0;32m/usr/local/lib/python3.6/dist-packages/pandas/core/reshape/merge.py\u001b[0m in \u001b[0;36m_get_join_info\u001b[0;34m(self)\u001b[0m\n\u001b[1;32m    746\u001b[0m         \u001b[0;32melse\u001b[0m\u001b[0;34m:\u001b[0m\u001b[0;34m\u001b[0m\u001b[0m\n\u001b[1;32m    747\u001b[0m             (left_indexer,\n\u001b[0;32m--> 748\u001b[0;31m              right_indexer) = self._get_join_indexers()\n\u001b[0m\u001b[1;32m    749\u001b[0m \u001b[0;34m\u001b[0m\u001b[0m\n\u001b[1;32m    750\u001b[0m             \u001b[0;32mif\u001b[0m \u001b[0mself\u001b[0m\u001b[0;34m.\u001b[0m\u001b[0mright_index\u001b[0m\u001b[0;34m:\u001b[0m\u001b[0;34m\u001b[0m\u001b[0m\n",
            "\u001b[0;32m/usr/local/lib/python3.6/dist-packages/pandas/core/reshape/merge.py\u001b[0m in \u001b[0;36m_get_join_indexers\u001b[0;34m(self)\u001b[0m\n\u001b[1;32m    725\u001b[0m                                   \u001b[0mself\u001b[0m\u001b[0;34m.\u001b[0m\u001b[0mright_join_keys\u001b[0m\u001b[0;34m,\u001b[0m\u001b[0;34m\u001b[0m\u001b[0m\n\u001b[1;32m    726\u001b[0m                                   \u001b[0msort\u001b[0m\u001b[0;34m=\u001b[0m\u001b[0mself\u001b[0m\u001b[0;34m.\u001b[0m\u001b[0msort\u001b[0m\u001b[0;34m,\u001b[0m\u001b[0;34m\u001b[0m\u001b[0m\n\u001b[0;32m--> 727\u001b[0;31m                                   how=self.how)\n\u001b[0m\u001b[1;32m    728\u001b[0m \u001b[0;34m\u001b[0m\u001b[0m\n\u001b[1;32m    729\u001b[0m     \u001b[0;32mdef\u001b[0m \u001b[0m_get_join_info\u001b[0m\u001b[0;34m(\u001b[0m\u001b[0mself\u001b[0m\u001b[0;34m)\u001b[0m\u001b[0;34m:\u001b[0m\u001b[0;34m\u001b[0m\u001b[0m\n",
            "\u001b[0;32m/usr/local/lib/python3.6/dist-packages/pandas/core/reshape/merge.py\u001b[0m in \u001b[0;36m_get_join_indexers\u001b[0;34m(left_keys, right_keys, sort, how, **kwargs)\u001b[0m\n\u001b[1;32m   1060\u001b[0m     \u001b[0;31m# preserve left frame order if how == 'left' and sort == False\u001b[0m\u001b[0;34m\u001b[0m\u001b[0;34m\u001b[0m\u001b[0m\n\u001b[1;32m   1061\u001b[0m     \u001b[0mkwargs\u001b[0m \u001b[0;34m=\u001b[0m \u001b[0mcopy\u001b[0m\u001b[0;34m.\u001b[0m\u001b[0mcopy\u001b[0m\u001b[0;34m(\u001b[0m\u001b[0mkwargs\u001b[0m\u001b[0;34m)\u001b[0m\u001b[0;34m\u001b[0m\u001b[0m\n\u001b[0;32m-> 1062\u001b[0;31m     \u001b[0;32mif\u001b[0m \u001b[0mhow\u001b[0m \u001b[0;34m==\u001b[0m \u001b[0;34m'left'\u001b[0m\u001b[0;34m:\u001b[0m\u001b[0;34m\u001b[0m\u001b[0m\n\u001b[0m\u001b[1;32m   1063\u001b[0m         \u001b[0mkwargs\u001b[0m\u001b[0;34m[\u001b[0m\u001b[0;34m'sort'\u001b[0m\u001b[0;34m]\u001b[0m \u001b[0;34m=\u001b[0m \u001b[0msort\u001b[0m\u001b[0;34m\u001b[0m\u001b[0m\n\u001b[1;32m   1064\u001b[0m     \u001b[0mjoin_func\u001b[0m \u001b[0;34m=\u001b[0m \u001b[0m_join_functions\u001b[0m\u001b[0;34m[\u001b[0m\u001b[0mhow\u001b[0m\u001b[0;34m]\u001b[0m\u001b[0;34m\u001b[0m\u001b[0m\n",
            "\u001b[0;32m/usr/local/lib/python3.6/dist-packages/pandas/core/generic.py\u001b[0m in \u001b[0;36m__nonzero__\u001b[0;34m(self)\u001b[0m\n\u001b[1;32m   1119\u001b[0m         raise ValueError(\"The truth value of a {0} is ambiguous. \"\n\u001b[1;32m   1120\u001b[0m                          \u001b[0;34m\"Use a.empty, a.bool(), a.item(), a.any() or a.all().\"\u001b[0m\u001b[0;34m\u001b[0m\u001b[0m\n\u001b[0;32m-> 1121\u001b[0;31m                          .format(self.__class__.__name__))\n\u001b[0m\u001b[1;32m   1122\u001b[0m \u001b[0;34m\u001b[0m\u001b[0m\n\u001b[1;32m   1123\u001b[0m     \u001b[0m__bool__\u001b[0m \u001b[0;34m=\u001b[0m \u001b[0m__nonzero__\u001b[0m\u001b[0;34m\u001b[0m\u001b[0m\n",
            "\u001b[0;31mValueError\u001b[0m: The truth value of a DataFrame is ambiguous. Use a.empty, a.bool(), a.item(), a.any() or a.all()."
          ]
        }
      ]
    },
    {
      "metadata": {
        "id": "DobkVdW8uy5O",
        "colab_type": "code",
        "colab": {
          "autoexec": {
            "startup": false,
            "wait_interval": 0
          }
        }
      },
      "cell_type": "code",
      "source": [
        ""
      ],
      "execution_count": 0,
      "outputs": []
    }
  ]
}