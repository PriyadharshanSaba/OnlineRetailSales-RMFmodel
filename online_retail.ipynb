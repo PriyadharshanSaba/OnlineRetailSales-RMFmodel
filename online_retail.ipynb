{
  "nbformat": 4,
  "nbformat_minor": 0,
  "metadata": {
    "colab": {
      "name": "online_retail.ipynb",
      "version": "0.3.2",
      "views": {},
      "default_view": {},
      "provenance": [],
      "collapsed_sections": []
    },
    "kernelspec": {
      "name": "python3",
      "display_name": "Python 3"
    }
  },
  "cells": [
    {
      "metadata": {
        "id": "Dzq6PjkGMX0x",
        "colab_type": "code",
        "colab": {
          "autoexec": {
            "startup": false,
            "wait_interval": 0
          }
        }
      },
      "cell_type": "code",
      "source": [
        "import pandas as pd\n",
        "import numpy as np\n",
        "import matplotlib.pyplot as plt\n",
        "from datetime import datetime\n",
        "import matplotlib.pyplot as plt\n",
        "import plotly.plotly as py\n",
        "import seaborn as sns \n",
        "import plotly.graph_objs as go"
      ],
      "execution_count": 0,
      "outputs": []
    },
    {
      "metadata": {
        "id": "5JmuucmQSzJu",
        "colab_type": "code",
        "colab": {
          "autoexec": {
            "startup": false,
            "wait_interval": 0
          },
          "base_uri": "https://localhost:8080/",
          "height": 134
        },
        "outputId": "4424f1cf-1d05-44e2-93b7-c0291c876d0e",
        "executionInfo": {
          "status": "ok",
          "timestamp": 1531816031773,
          "user_tz": -330,
          "elapsed": 3013,
          "user": {
            "displayName": "Priyadharshan Saba",
            "photoUrl": "//lh5.googleusercontent.com/-PfrMeX74BFM/AAAAAAAAAAI/AAAAAAAAEe8/LcayyAlSBx8/s50-c-k-no/photo.jpg",
            "userId": "106388315316518890634"
          }
        }
      },
      "cell_type": "code",
      "source": [
        "!pip install xlrd"
      ],
      "execution_count": 423,
      "outputs": [
        {
          "output_type": "stream",
          "text": [
            "Requirement already satisfied: xlrd in /usr/local/lib/python3.6/dist-packages (1.1.0)\r\n"
          ],
          "name": "stdout"
        }
      ]
    },
    {
      "metadata": {
        "id": "fywCt-y-S2N9",
        "colab_type": "code",
        "colab": {
          "autoexec": {
            "startup": false,
            "wait_interval": 0
          }
        }
      },
      "cell_type": "code",
      "source": [
        "import xlrd\n",
        "\n"
      ],
      "execution_count": 0,
      "outputs": []
    },
    {
      "metadata": {
        "id": "EtPTWvmZNb1P",
        "colab_type": "code",
        "colab": {
          "autoexec": {
            "startup": false,
            "wait_interval": 0
          }
        }
      },
      "cell_type": "code",
      "source": [
        "#df = pd.read_excel(\"https://archive.ics.uci.edu/ml/machine-learning-databases/00352/Online%20Retail.xlsx\")\n",
        "#pdf = df\n",
        "df= pd.read_excel(\"https://github.com/PriyadharshanSaba/OnlineRetailSales-RMFmodel/raw/master/Dataset/Online%20Retail.xlsx\")\n"
      ],
      "execution_count": 0,
      "outputs": []
    },
    {
      "metadata": {
        "id": "c9P2T36brHET",
        "colab_type": "code",
        "colab": {
          "autoexec": {
            "startup": false,
            "wait_interval": 0
          },
          "base_uri": "https://localhost:8080/",
          "height": 281
        },
        "outputId": "141ab485-afb8-49c9-d8ce-87cedce36ea9",
        "executionInfo": {
          "status": "ok",
          "timestamp": 1531816079536,
          "user_tz": -330,
          "elapsed": 902,
          "user": {
            "displayName": "Priyadharshan Saba",
            "photoUrl": "//lh5.googleusercontent.com/-PfrMeX74BFM/AAAAAAAAAAI/AAAAAAAAEe8/LcayyAlSBx8/s50-c-k-no/photo.jpg",
            "userId": "106388315316518890634"
          }
        }
      },
      "cell_type": "code",
      "source": [
        "df.head()"
      ],
      "execution_count": 426,
      "outputs": [
        {
          "output_type": "execute_result",
          "data": {
            "text/html": [
              "<div>\n",
              "<style scoped>\n",
              "    .dataframe tbody tr th:only-of-type {\n",
              "        vertical-align: middle;\n",
              "    }\n",
              "\n",
              "    .dataframe tbody tr th {\n",
              "        vertical-align: top;\n",
              "    }\n",
              "\n",
              "    .dataframe thead th {\n",
              "        text-align: right;\n",
              "    }\n",
              "</style>\n",
              "<table border=\"1\" class=\"dataframe\">\n",
              "  <thead>\n",
              "    <tr style=\"text-align: right;\">\n",
              "      <th></th>\n",
              "      <th>InvoiceNo</th>\n",
              "      <th>StockCode</th>\n",
              "      <th>Description</th>\n",
              "      <th>Quantity</th>\n",
              "      <th>InvoiceDate</th>\n",
              "      <th>UnitPrice</th>\n",
              "      <th>CustomerID</th>\n",
              "      <th>Country</th>\n",
              "    </tr>\n",
              "  </thead>\n",
              "  <tbody>\n",
              "    <tr>\n",
              "      <th>0</th>\n",
              "      <td>536365</td>\n",
              "      <td>85123A</td>\n",
              "      <td>WHITE HANGING HEART T-LIGHT HOLDER</td>\n",
              "      <td>6</td>\n",
              "      <td>2010-12-01 08:26:00</td>\n",
              "      <td>2.55</td>\n",
              "      <td>17850.0</td>\n",
              "      <td>United Kingdom</td>\n",
              "    </tr>\n",
              "    <tr>\n",
              "      <th>1</th>\n",
              "      <td>536365</td>\n",
              "      <td>71053</td>\n",
              "      <td>WHITE METAL LANTERN</td>\n",
              "      <td>6</td>\n",
              "      <td>2010-12-01 08:26:00</td>\n",
              "      <td>3.39</td>\n",
              "      <td>17850.0</td>\n",
              "      <td>United Kingdom</td>\n",
              "    </tr>\n",
              "    <tr>\n",
              "      <th>2</th>\n",
              "      <td>536365</td>\n",
              "      <td>84406B</td>\n",
              "      <td>CREAM CUPID HEARTS COAT HANGER</td>\n",
              "      <td>8</td>\n",
              "      <td>2010-12-01 08:26:00</td>\n",
              "      <td>2.75</td>\n",
              "      <td>17850.0</td>\n",
              "      <td>United Kingdom</td>\n",
              "    </tr>\n",
              "    <tr>\n",
              "      <th>3</th>\n",
              "      <td>536365</td>\n",
              "      <td>84029G</td>\n",
              "      <td>KNITTED UNION FLAG HOT WATER BOTTLE</td>\n",
              "      <td>6</td>\n",
              "      <td>2010-12-01 08:26:00</td>\n",
              "      <td>3.39</td>\n",
              "      <td>17850.0</td>\n",
              "      <td>United Kingdom</td>\n",
              "    </tr>\n",
              "    <tr>\n",
              "      <th>4</th>\n",
              "      <td>536365</td>\n",
              "      <td>84029E</td>\n",
              "      <td>RED WOOLLY HOTTIE WHITE HEART.</td>\n",
              "      <td>6</td>\n",
              "      <td>2010-12-01 08:26:00</td>\n",
              "      <td>3.39</td>\n",
              "      <td>17850.0</td>\n",
              "      <td>United Kingdom</td>\n",
              "    </tr>\n",
              "  </tbody>\n",
              "</table>\n",
              "</div>"
            ],
            "text/plain": [
              "  InvoiceNo StockCode                          Description  Quantity  \\\n",
              "0    536365    85123A   WHITE HANGING HEART T-LIGHT HOLDER         6   \n",
              "1    536365     71053                  WHITE METAL LANTERN         6   \n",
              "2    536365    84406B       CREAM CUPID HEARTS COAT HANGER         8   \n",
              "3    536365    84029G  KNITTED UNION FLAG HOT WATER BOTTLE         6   \n",
              "4    536365    84029E       RED WOOLLY HOTTIE WHITE HEART.         6   \n",
              "\n",
              "          InvoiceDate  UnitPrice  CustomerID         Country  \n",
              "0 2010-12-01 08:26:00       2.55     17850.0  United Kingdom  \n",
              "1 2010-12-01 08:26:00       3.39     17850.0  United Kingdom  \n",
              "2 2010-12-01 08:26:00       2.75     17850.0  United Kingdom  \n",
              "3 2010-12-01 08:26:00       3.39     17850.0  United Kingdom  \n",
              "4 2010-12-01 08:26:00       3.39     17850.0  United Kingdom  "
            ]
          },
          "metadata": {
            "tags": []
          },
          "execution_count": 426
        }
      ]
    },
    {
      "metadata": {
        "id": "T-VvGihZM1Z3",
        "colab_type": "code",
        "colab": {
          "autoexec": {
            "startup": false,
            "wait_interval": 0
          },
          "base_uri": "https://localhost:8080/",
          "height": 281
        },
        "outputId": "f539c76a-4614-44a5-f739-42dd71870611",
        "executionInfo": {
          "status": "ok",
          "timestamp": 1531816080423,
          "user_tz": -330,
          "elapsed": 815,
          "user": {
            "displayName": "Priyadharshan Saba",
            "photoUrl": "//lh5.googleusercontent.com/-PfrMeX74BFM/AAAAAAAAAAI/AAAAAAAAEe8/LcayyAlSBx8/s50-c-k-no/photo.jpg",
            "userId": "106388315316518890634"
          }
        }
      },
      "cell_type": "code",
      "source": [
        "#DATA WRANGLING\n",
        "\n",
        "#dropping NaN data rows\n",
        "df=df.dropna()\n",
        "\n",
        "#dropping description column\n",
        "df=df.drop(columns=['Description'])\n",
        "df.head()"
      ],
      "execution_count": 427,
      "outputs": [
        {
          "output_type": "execute_result",
          "data": {
            "text/html": [
              "<div>\n",
              "<style scoped>\n",
              "    .dataframe tbody tr th:only-of-type {\n",
              "        vertical-align: middle;\n",
              "    }\n",
              "\n",
              "    .dataframe tbody tr th {\n",
              "        vertical-align: top;\n",
              "    }\n",
              "\n",
              "    .dataframe thead th {\n",
              "        text-align: right;\n",
              "    }\n",
              "</style>\n",
              "<table border=\"1\" class=\"dataframe\">\n",
              "  <thead>\n",
              "    <tr style=\"text-align: right;\">\n",
              "      <th></th>\n",
              "      <th>InvoiceNo</th>\n",
              "      <th>StockCode</th>\n",
              "      <th>Quantity</th>\n",
              "      <th>InvoiceDate</th>\n",
              "      <th>UnitPrice</th>\n",
              "      <th>CustomerID</th>\n",
              "      <th>Country</th>\n",
              "    </tr>\n",
              "  </thead>\n",
              "  <tbody>\n",
              "    <tr>\n",
              "      <th>0</th>\n",
              "      <td>536365</td>\n",
              "      <td>85123A</td>\n",
              "      <td>6</td>\n",
              "      <td>2010-12-01 08:26:00</td>\n",
              "      <td>2.55</td>\n",
              "      <td>17850.0</td>\n",
              "      <td>United Kingdom</td>\n",
              "    </tr>\n",
              "    <tr>\n",
              "      <th>1</th>\n",
              "      <td>536365</td>\n",
              "      <td>71053</td>\n",
              "      <td>6</td>\n",
              "      <td>2010-12-01 08:26:00</td>\n",
              "      <td>3.39</td>\n",
              "      <td>17850.0</td>\n",
              "      <td>United Kingdom</td>\n",
              "    </tr>\n",
              "    <tr>\n",
              "      <th>2</th>\n",
              "      <td>536365</td>\n",
              "      <td>84406B</td>\n",
              "      <td>8</td>\n",
              "      <td>2010-12-01 08:26:00</td>\n",
              "      <td>2.75</td>\n",
              "      <td>17850.0</td>\n",
              "      <td>United Kingdom</td>\n",
              "    </tr>\n",
              "    <tr>\n",
              "      <th>3</th>\n",
              "      <td>536365</td>\n",
              "      <td>84029G</td>\n",
              "      <td>6</td>\n",
              "      <td>2010-12-01 08:26:00</td>\n",
              "      <td>3.39</td>\n",
              "      <td>17850.0</td>\n",
              "      <td>United Kingdom</td>\n",
              "    </tr>\n",
              "    <tr>\n",
              "      <th>4</th>\n",
              "      <td>536365</td>\n",
              "      <td>84029E</td>\n",
              "      <td>6</td>\n",
              "      <td>2010-12-01 08:26:00</td>\n",
              "      <td>3.39</td>\n",
              "      <td>17850.0</td>\n",
              "      <td>United Kingdom</td>\n",
              "    </tr>\n",
              "  </tbody>\n",
              "</table>\n",
              "</div>"
            ],
            "text/plain": [
              "  InvoiceNo StockCode  Quantity         InvoiceDate  UnitPrice  CustomerID  \\\n",
              "0    536365    85123A         6 2010-12-01 08:26:00       2.55     17850.0   \n",
              "1    536365     71053         6 2010-12-01 08:26:00       3.39     17850.0   \n",
              "2    536365    84406B         8 2010-12-01 08:26:00       2.75     17850.0   \n",
              "3    536365    84029G         6 2010-12-01 08:26:00       3.39     17850.0   \n",
              "4    536365    84029E         6 2010-12-01 08:26:00       3.39     17850.0   \n",
              "\n",
              "          Country  \n",
              "0  United Kingdom  \n",
              "1  United Kingdom  \n",
              "2  United Kingdom  \n",
              "3  United Kingdom  \n",
              "4  United Kingdom  "
            ]
          },
          "metadata": {
            "tags": []
          },
          "execution_count": 427
        }
      ]
    },
    {
      "metadata": {
        "id": "pHK_nQPUWKL1",
        "colab_type": "code",
        "colab": {
          "autoexec": {
            "startup": false,
            "wait_interval": 0
          }
        }
      },
      "cell_type": "code",
      "source": [
        "df['Amount'] = df.UnitPrice * df.Quantity\n",
        "#removing unit price\n",
        "df=df.drop(columns=['UnitPrice'])\n",
        "\n",
        "df['date'] = [d.date() for d in df['InvoiceDate']]\n",
        "df['time'] = [d.time() for d in df['InvoiceDate']]\n",
        "#print(df.head())\n"
      ],
      "execution_count": 0,
      "outputs": []
    },
    {
      "metadata": {
        "id": "3kqhzXb49bD4",
        "colab_type": "code",
        "colab": {
          "autoexec": {
            "startup": false,
            "wait_interval": 0
          },
          "base_uri": "https://localhost:8080/",
          "height": 281
        },
        "outputId": "09733fb8-923e-4c35-c535-87e889afbda4",
        "executionInfo": {
          "status": "ok",
          "timestamp": 1531816086156,
          "user_tz": -330,
          "elapsed": 848,
          "user": {
            "displayName": "Priyadharshan Saba",
            "photoUrl": "//lh5.googleusercontent.com/-PfrMeX74BFM/AAAAAAAAAAI/AAAAAAAAEe8/LcayyAlSBx8/s50-c-k-no/photo.jpg",
            "userId": "106388315316518890634"
          }
        }
      },
      "cell_type": "code",
      "source": [
        "#CLEANING CUSTOMERS\n",
        "\n",
        "#dropping NaN values in CustomerID\n",
        "df = df[np.isfinite(df['CustomerID'])]      #df.loc[df['InvoiceNo']==573174]  reference for NaN value\n",
        "\n",
        "#removing customers with less than 1Re of transaction\n",
        "df=df[(df['Amount'] >=1)]\n",
        "df.head()"
      ],
      "execution_count": 429,
      "outputs": [
        {
          "output_type": "execute_result",
          "data": {
            "text/html": [
              "<div>\n",
              "<style scoped>\n",
              "    .dataframe tbody tr th:only-of-type {\n",
              "        vertical-align: middle;\n",
              "    }\n",
              "\n",
              "    .dataframe tbody tr th {\n",
              "        vertical-align: top;\n",
              "    }\n",
              "\n",
              "    .dataframe thead th {\n",
              "        text-align: right;\n",
              "    }\n",
              "</style>\n",
              "<table border=\"1\" class=\"dataframe\">\n",
              "  <thead>\n",
              "    <tr style=\"text-align: right;\">\n",
              "      <th></th>\n",
              "      <th>InvoiceNo</th>\n",
              "      <th>StockCode</th>\n",
              "      <th>Quantity</th>\n",
              "      <th>InvoiceDate</th>\n",
              "      <th>CustomerID</th>\n",
              "      <th>Country</th>\n",
              "      <th>Amount</th>\n",
              "      <th>date</th>\n",
              "      <th>time</th>\n",
              "    </tr>\n",
              "  </thead>\n",
              "  <tbody>\n",
              "    <tr>\n",
              "      <th>0</th>\n",
              "      <td>536365</td>\n",
              "      <td>85123A</td>\n",
              "      <td>6</td>\n",
              "      <td>2010-12-01 08:26:00</td>\n",
              "      <td>17850.0</td>\n",
              "      <td>United Kingdom</td>\n",
              "      <td>15.30</td>\n",
              "      <td>2010-12-01</td>\n",
              "      <td>08:26:00</td>\n",
              "    </tr>\n",
              "    <tr>\n",
              "      <th>1</th>\n",
              "      <td>536365</td>\n",
              "      <td>71053</td>\n",
              "      <td>6</td>\n",
              "      <td>2010-12-01 08:26:00</td>\n",
              "      <td>17850.0</td>\n",
              "      <td>United Kingdom</td>\n",
              "      <td>20.34</td>\n",
              "      <td>2010-12-01</td>\n",
              "      <td>08:26:00</td>\n",
              "    </tr>\n",
              "    <tr>\n",
              "      <th>2</th>\n",
              "      <td>536365</td>\n",
              "      <td>84406B</td>\n",
              "      <td>8</td>\n",
              "      <td>2010-12-01 08:26:00</td>\n",
              "      <td>17850.0</td>\n",
              "      <td>United Kingdom</td>\n",
              "      <td>22.00</td>\n",
              "      <td>2010-12-01</td>\n",
              "      <td>08:26:00</td>\n",
              "    </tr>\n",
              "    <tr>\n",
              "      <th>3</th>\n",
              "      <td>536365</td>\n",
              "      <td>84029G</td>\n",
              "      <td>6</td>\n",
              "      <td>2010-12-01 08:26:00</td>\n",
              "      <td>17850.0</td>\n",
              "      <td>United Kingdom</td>\n",
              "      <td>20.34</td>\n",
              "      <td>2010-12-01</td>\n",
              "      <td>08:26:00</td>\n",
              "    </tr>\n",
              "    <tr>\n",
              "      <th>4</th>\n",
              "      <td>536365</td>\n",
              "      <td>84029E</td>\n",
              "      <td>6</td>\n",
              "      <td>2010-12-01 08:26:00</td>\n",
              "      <td>17850.0</td>\n",
              "      <td>United Kingdom</td>\n",
              "      <td>20.34</td>\n",
              "      <td>2010-12-01</td>\n",
              "      <td>08:26:00</td>\n",
              "    </tr>\n",
              "  </tbody>\n",
              "</table>\n",
              "</div>"
            ],
            "text/plain": [
              "  InvoiceNo StockCode  Quantity         InvoiceDate  CustomerID  \\\n",
              "0    536365    85123A         6 2010-12-01 08:26:00     17850.0   \n",
              "1    536365     71053         6 2010-12-01 08:26:00     17850.0   \n",
              "2    536365    84406B         8 2010-12-01 08:26:00     17850.0   \n",
              "3    536365    84029G         6 2010-12-01 08:26:00     17850.0   \n",
              "4    536365    84029E         6 2010-12-01 08:26:00     17850.0   \n",
              "\n",
              "          Country  Amount        date      time  \n",
              "0  United Kingdom   15.30  2010-12-01  08:26:00  \n",
              "1  United Kingdom   20.34  2010-12-01  08:26:00  \n",
              "2  United Kingdom   22.00  2010-12-01  08:26:00  \n",
              "3  United Kingdom   20.34  2010-12-01  08:26:00  \n",
              "4  United Kingdom   20.34  2010-12-01  08:26:00  "
            ]
          },
          "metadata": {
            "tags": []
          },
          "execution_count": 429
        }
      ]
    },
    {
      "metadata": {
        "id": "2r-a1M_t9_Fw",
        "colab_type": "code",
        "colab": {
          "autoexec": {
            "startup": false,
            "wait_interval": 0
          },
          "base_uri": "https://localhost:8080/",
          "height": 281
        },
        "outputId": "5d6ebaf7-0ca0-4742-8826-2df947e58258",
        "executionInfo": {
          "status": "ok",
          "timestamp": 1531816087286,
          "user_tz": -330,
          "elapsed": 1059,
          "user": {
            "displayName": "Priyadharshan Saba",
            "photoUrl": "//lh5.googleusercontent.com/-PfrMeX74BFM/AAAAAAAAAAI/AAAAAAAAEe8/LcayyAlSBx8/s50-c-k-no/photo.jpg",
            "userId": "106388315316518890634"
          }
        }
      },
      "cell_type": "code",
      "source": [
        "#grouping by countries and adding purchasing percentage on basis of quantity\n",
        "group_country = df.groupby(['Country'],as_index=False).sum()\n",
        "group_country = group_country.drop(columns=['CustomerID'])\n",
        "group_country.sort_values('Quantity',ascending=False,inplace=True)\n",
        "\n",
        "total_purchased = group_country['Quantity'].sum()\n",
        "group_country['Buy_perc']=(group_country['Quantity']/total_purchased)*100\n",
        "group_country.head()\n"
      ],
      "execution_count": 430,
      "outputs": [
        {
          "output_type": "execute_result",
          "data": {
            "text/html": [
              "<div>\n",
              "<style scoped>\n",
              "    .dataframe tbody tr th:only-of-type {\n",
              "        vertical-align: middle;\n",
              "    }\n",
              "\n",
              "    .dataframe tbody tr th {\n",
              "        vertical-align: top;\n",
              "    }\n",
              "\n",
              "    .dataframe thead th {\n",
              "        text-align: right;\n",
              "    }\n",
              "</style>\n",
              "<table border=\"1\" class=\"dataframe\">\n",
              "  <thead>\n",
              "    <tr style=\"text-align: right;\">\n",
              "      <th></th>\n",
              "      <th>Country</th>\n",
              "      <th>Quantity</th>\n",
              "      <th>Amount</th>\n",
              "      <th>Buy_perc</th>\n",
              "    </tr>\n",
              "  </thead>\n",
              "  <tbody>\n",
              "    <tr>\n",
              "      <th>35</th>\n",
              "      <td>United Kingdom</td>\n",
              "      <td>4239362</td>\n",
              "      <td>7.299319e+06</td>\n",
              "      <td>82.314544</td>\n",
              "    </tr>\n",
              "    <tr>\n",
              "      <th>23</th>\n",
              "      <td>Netherlands</td>\n",
              "      <td>200324</td>\n",
              "      <td>2.854209e+05</td>\n",
              "      <td>3.889637</td>\n",
              "    </tr>\n",
              "    <tr>\n",
              "      <th>10</th>\n",
              "      <td>EIRE</td>\n",
              "      <td>140275</td>\n",
              "      <td>2.655459e+05</td>\n",
              "      <td>2.723682</td>\n",
              "    </tr>\n",
              "    <tr>\n",
              "      <th>14</th>\n",
              "      <td>Germany</td>\n",
              "      <td>119249</td>\n",
              "      <td>2.288581e+05</td>\n",
              "      <td>2.315426</td>\n",
              "    </tr>\n",
              "    <tr>\n",
              "      <th>13</th>\n",
              "      <td>France</td>\n",
              "      <td>111414</td>\n",
              "      <td>2.089972e+05</td>\n",
              "      <td>2.163295</td>\n",
              "    </tr>\n",
              "  </tbody>\n",
              "</table>\n",
              "</div>"
            ],
            "text/plain": [
              "           Country  Quantity        Amount   Buy_perc\n",
              "35  United Kingdom   4239362  7.299319e+06  82.314544\n",
              "23     Netherlands    200324  2.854209e+05   3.889637\n",
              "10            EIRE    140275  2.655459e+05   2.723682\n",
              "14         Germany    119249  2.288581e+05   2.315426\n",
              "13          France    111414  2.089972e+05   2.163295"
            ]
          },
          "metadata": {
            "tags": []
          },
          "execution_count": 430
        }
      ]
    },
    {
      "metadata": {
        "id": "Kqj2Z2OuevN0",
        "colab_type": "code",
        "colab": {
          "autoexec": {
            "startup": false,
            "wait_interval": 0
          },
          "base_uri": "https://localhost:8080/",
          "height": 707
        },
        "outputId": "bb9d2133-124d-4aa8-c6f6-ff75137ca280",
        "executionInfo": {
          "status": "ok",
          "timestamp": 1531816088629,
          "user_tz": -330,
          "elapsed": 1271,
          "user": {
            "displayName": "Priyadharshan Saba",
            "photoUrl": "//lh5.googleusercontent.com/-PfrMeX74BFM/AAAAAAAAAAI/AAAAAAAAEe8/LcayyAlSBx8/s50-c-k-no/photo.jpg",
            "userId": "106388315316518890634"
          }
        }
      },
      "cell_type": "code",
      "source": [
        "#Buy_Perc plotting\n",
        "\n",
        "country=list(group_country['Country'])\n",
        "Cust_id=list(group_country['Buy_perc'])\n",
        "plt.figure(figsize=(12,8))\n",
        "sns.barplot(country, Cust_id, alpha=1)\n",
        "plt.xticks(rotation='60')\n",
        "plt.show()\n"
      ],
      "execution_count": 431,
      "outputs": [
        {
          "output_type": "stream",
          "text": [
            "/usr/local/lib/python3.6/dist-packages/seaborn/categorical.py:1428: FutureWarning:\n",
            "\n",
            "remove_na is deprecated and is a private function. Do not use.\n",
            "\n"
          ],
          "name": "stderr"
        },
        {
          "output_type": "display_data",
          "data": {
            "image/png": "[encoded data removed]",
            "text/plain": [
              "<matplotlib.figure.Figure at 0x7f03b614bf98>"
            ]
          },
          "metadata": {
            "tags": []
          }
        }
      ]
    },
    {
      "metadata": {
        "id": "j43hYhZtWnf1",
        "colab_type": "code",
        "colab": {
          "autoexec": {
            "startup": false,
            "wait_interval": 0
          }
        }
      },
      "cell_type": "code",
      "source": [
        "#analysing country with highest purchasing \n",
        "x=group_country.where(group_country['Buy_perc']==group_country['Buy_perc'].max())\n",
        "x=x['Country'].dropna().get_values().tolist()[0]\n",
        "\n",
        "dfcur = df.where(df.Country == x)\n",
        "dfcur=dfcur.dropna()"
      ],
      "execution_count": 0,
      "outputs": []
    },
    {
      "metadata": {
        "id": "av1hCjiEOWFs",
        "colab_type": "code",
        "colab": {
          "autoexec": {
            "startup": false,
            "wait_interval": 0
          },
          "base_uri": "https://localhost:8080/",
          "height": 114
        },
        "outputId": "80b23e28-1a70-4248-c45b-fb5a659b505d",
        "executionInfo": {
          "status": "ok",
          "timestamp": 1531816090686,
          "user_tz": -330,
          "elapsed": 851,
          "user": {
            "displayName": "Priyadharshan Saba",
            "photoUrl": "//lh5.googleusercontent.com/-PfrMeX74BFM/AAAAAAAAAAI/AAAAAAAAEe8/LcayyAlSBx8/s50-c-k-no/photo.jpg",
            "userId": "106388315316518890634"
          }
        }
      },
      "cell_type": "code",
      "source": [
        "#first time buyers\n",
        "x=dfcur.groupby('CustomerID',).count()\n",
        "no_customers= x['InvoiceNo'].count()\n",
        "no_first_timers=x.where(x['InvoiceNo']==1).dropna().count()['InvoiceNo']\n",
        "print('Percentage of new customers purchasing for the first time',(no_first_timers*100/no_customers))\n",
        "\n"
      ],
      "execution_count": 433,
      "outputs": [
        {
          "output_type": "stream",
          "text": [
            "Percentage of new customers purchasing for the first time 1.7857142857142858\n"
          ],
          "name": "stdout"
        }
      ]
    },
    {
      "metadata": {
        "id": "BSl83J7iO2-Q",
        "colab_type": "code",
        "colab": {
          "autoexec": {
            "startup": false,
            "wait_interval": 0
          },
          "base_uri": "https://localhost:8080/",
          "height": 442
        },
        "outputId": "b054fb15-c577-42e0-ebef-61c1244676c9",
        "executionInfo": {
          "status": "ok",
          "timestamp": 1531816091585,
          "user_tz": -330,
          "elapsed": 817,
          "user": {
            "displayName": "Priyadharshan Saba",
            "photoUrl": "//lh5.googleusercontent.com/-PfrMeX74BFM/AAAAAAAAAAI/AAAAAAAAEe8/LcayyAlSBx8/s50-c-k-no/photo.jpg",
            "userId": "106388315316518890634"
          }
        }
      },
      "cell_type": "code",
      "source": [
        "objects = ('First/New Customers', 'Existing')\n",
        "y_pos = np.arange(len(objects))\n",
        "perc = [no_first_timers,no_customers]\n",
        "plt.bar(y_pos, perc, align='center', alpha=0.5)\n",
        "plt.xticks(y_pos, objects)\n",
        "plt.ylabel('Percentage')\n",
        "plt.title('Customers')\n",
        " \n",
        "plt.show()"
      ],
      "execution_count": 434,
      "outputs": [
        {
          "output_type": "display_data",
          "data": {
            "image/png": "[encoded data removed]",
            "text/plain": [
              "<matplotlib.figure.Figure at 0x7f03d65242b0>"
            ]
          },
          "metadata": {
            "tags": []
          }
        }
      ]
    },
    {
      "metadata": {
        "id": "WzGTmdcnfZdi",
        "colab_type": "code",
        "colab": {
          "autoexec": {
            "startup": false,
            "wait_interval": 0
          }
        }
      },
      "cell_type": "code",
      "source": [
        "#Converting to date to shortened string formate %y(2)%m\n",
        "dfcur['dateS']=dfcur['date'].apply(lambda x: x.strftime('%y%m'))\n",
        "#print('Far date: ',dfcur['dateS'].min(),\"\\tRecent: \",dfcur['dateS'].max())"
      ],
      "execution_count": 0,
      "outputs": []
    },
    {
      "metadata": {
        "id": "KjDI2SJ5da73",
        "colab_type": "code",
        "colab": {
          "autoexec": {
            "startup": false,
            "wait_interval": 0
          }
        }
      },
      "cell_type": "code",
      "source": [
        "#RMF MODEL\n",
        "\n",
        "#---- Recency Analysis------\n",
        "def recency(row):\n",
        "  if int(row['dateS']) > 1109:\n",
        "    val = 5\n",
        "  elif int(row['dateS']) <= 1109 and int(row['dateS']) > 1106:\n",
        "    val = 4\n",
        "  elif int(row['dateS']) <= 1106 and int(row['dateS']) > 1103:\n",
        "    val = 3\n",
        "  elif int(row['dateS']) <= 1103 and int(row['dateS']) > 1101:\n",
        "    val = 2\n",
        "  else:\n",
        "    val = 1\n",
        "  return val\n",
        "  \n",
        "dfcur['Recency_val'] = dfcur.apply(recency, axis=1)"
      ],
      "execution_count": 0,
      "outputs": []
    },
    {
      "metadata": {
        "id": "t7srG_uK6Q4B",
        "colab_type": "code",
        "colab": {
          "autoexec": {
            "startup": false,
            "wait_interval": 0
          },
          "base_uri": "https://localhost:8080/",
          "height": 281
        },
        "outputId": "707fee63-3a46-4d0f-bdac-18bef4abf163",
        "executionInfo": {
          "status": "ok",
          "timestamp": 1531816126742,
          "user_tz": -330,
          "elapsed": 997,
          "user": {
            "displayName": "Priyadharshan Saba",
            "photoUrl": "//lh5.googleusercontent.com/-PfrMeX74BFM/AAAAAAAAAAI/AAAAAAAAEe8/LcayyAlSBx8/s50-c-k-no/photo.jpg",
            "userId": "106388315316518890634"
          }
        }
      },
      "cell_type": "code",
      "source": [
        "dfcur.head()"
      ],
      "execution_count": 437,
      "outputs": [
        {
          "output_type": "execute_result",
          "data": {
            "text/html": [
              "<div>\n",
              "<style scoped>\n",
              "    .dataframe tbody tr th:only-of-type {\n",
              "        vertical-align: middle;\n",
              "    }\n",
              "\n",
              "    .dataframe tbody tr th {\n",
              "        vertical-align: top;\n",
              "    }\n",
              "\n",
              "    .dataframe thead th {\n",
              "        text-align: right;\n",
              "    }\n",
              "</style>\n",
              "<table border=\"1\" class=\"dataframe\">\n",
              "  <thead>\n",
              "    <tr style=\"text-align: right;\">\n",
              "      <th></th>\n",
              "      <th>InvoiceNo</th>\n",
              "      <th>StockCode</th>\n",
              "      <th>Quantity</th>\n",
              "      <th>InvoiceDate</th>\n",
              "      <th>CustomerID</th>\n",
              "      <th>Country</th>\n",
              "      <th>Amount</th>\n",
              "      <th>date</th>\n",
              "      <th>time</th>\n",
              "      <th>dateS</th>\n",
              "      <th>Recency_val</th>\n",
              "    </tr>\n",
              "  </thead>\n",
              "  <tbody>\n",
              "    <tr>\n",
              "      <th>0</th>\n",
              "      <td>536365</td>\n",
              "      <td>85123A</td>\n",
              "      <td>6.0</td>\n",
              "      <td>2010-12-01 08:26:00</td>\n",
              "      <td>17850.0</td>\n",
              "      <td>United Kingdom</td>\n",
              "      <td>15.30</td>\n",
              "      <td>2010-12-01</td>\n",
              "      <td>08:26:00</td>\n",
              "      <td>1012</td>\n",
              "      <td>1</td>\n",
              "    </tr>\n",
              "    <tr>\n",
              "      <th>1</th>\n",
              "      <td>536365</td>\n",
              "      <td>71053</td>\n",
              "      <td>6.0</td>\n",
              "      <td>2010-12-01 08:26:00</td>\n",
              "      <td>17850.0</td>\n",
              "      <td>United Kingdom</td>\n",
              "      <td>20.34</td>\n",
              "      <td>2010-12-01</td>\n",
              "      <td>08:26:00</td>\n",
              "      <td>1012</td>\n",
              "      <td>1</td>\n",
              "    </tr>\n",
              "    <tr>\n",
              "      <th>2</th>\n",
              "      <td>536365</td>\n",
              "      <td>84406B</td>\n",
              "      <td>8.0</td>\n",
              "      <td>2010-12-01 08:26:00</td>\n",
              "      <td>17850.0</td>\n",
              "      <td>United Kingdom</td>\n",
              "      <td>22.00</td>\n",
              "      <td>2010-12-01</td>\n",
              "      <td>08:26:00</td>\n",
              "      <td>1012</td>\n",
              "      <td>1</td>\n",
              "    </tr>\n",
              "    <tr>\n",
              "      <th>3</th>\n",
              "      <td>536365</td>\n",
              "      <td>84029G</td>\n",
              "      <td>6.0</td>\n",
              "      <td>2010-12-01 08:26:00</td>\n",
              "      <td>17850.0</td>\n",
              "      <td>United Kingdom</td>\n",
              "      <td>20.34</td>\n",
              "      <td>2010-12-01</td>\n",
              "      <td>08:26:00</td>\n",
              "      <td>1012</td>\n",
              "      <td>1</td>\n",
              "    </tr>\n",
              "    <tr>\n",
              "      <th>4</th>\n",
              "      <td>536365</td>\n",
              "      <td>84029E</td>\n",
              "      <td>6.0</td>\n",
              "      <td>2010-12-01 08:26:00</td>\n",
              "      <td>17850.0</td>\n",
              "      <td>United Kingdom</td>\n",
              "      <td>20.34</td>\n",
              "      <td>2010-12-01</td>\n",
              "      <td>08:26:00</td>\n",
              "      <td>1012</td>\n",
              "      <td>1</td>\n",
              "    </tr>\n",
              "  </tbody>\n",
              "</table>\n",
              "</div>"
            ],
            "text/plain": [
              "  InvoiceNo StockCode  Quantity         InvoiceDate  CustomerID  \\\n",
              "0    536365    85123A       6.0 2010-12-01 08:26:00     17850.0   \n",
              "1    536365     71053       6.0 2010-12-01 08:26:00     17850.0   \n",
              "2    536365    84406B       8.0 2010-12-01 08:26:00     17850.0   \n",
              "3    536365    84029G       6.0 2010-12-01 08:26:00     17850.0   \n",
              "4    536365    84029E       6.0 2010-12-01 08:26:00     17850.0   \n",
              "\n",
              "          Country  Amount        date      time dateS  Recency_val  \n",
              "0  United Kingdom   15.30  2010-12-01  08:26:00  1012            1  \n",
              "1  United Kingdom   20.34  2010-12-01  08:26:00  1012            1  \n",
              "2  United Kingdom   22.00  2010-12-01  08:26:00  1012            1  \n",
              "3  United Kingdom   20.34  2010-12-01  08:26:00  1012            1  \n",
              "4  United Kingdom   20.34  2010-12-01  08:26:00  1012            1  "
            ]
          },
          "metadata": {
            "tags": []
          },
          "execution_count": 437
        }
      ]
    },
    {
      "metadata": {
        "id": "lupL3rU5yDXC",
        "colab_type": "code",
        "colab": {
          "autoexec": {
            "startup": false,
            "wait_interval": 0
          },
          "base_uri": "https://localhost:8080/",
          "height": 281
        },
        "outputId": "727bc27a-24ca-491f-b44a-75daedc39384",
        "executionInfo": {
          "status": "ok",
          "timestamp": 1531816127676,
          "user_tz": -330,
          "elapsed": 726,
          "user": {
            "displayName": "Priyadharshan Saba",
            "photoUrl": "//lh5.googleusercontent.com/-PfrMeX74BFM/AAAAAAAAAAI/AAAAAAAAEe8/LcayyAlSBx8/s50-c-k-no/photo.jpg",
            "userId": "106388315316518890634"
          }
        }
      },
      "cell_type": "code",
      "source": [
        "#table with just recency values\n",
        "rec_df = dfcur\n",
        "rec_df = rec_df.drop(columns=['Quantity','InvoiceNo','StockCode','InvoiceDate','Country','Amount','date','time','dateS'])\n",
        "recencyTable = rec_df.drop_duplicates( keep=False)\n",
        "rec_df.head()"
      ],
      "execution_count": 438,
      "outputs": [
        {
          "output_type": "execute_result",
          "data": {
            "text/html": [
              "<div>\n",
              "<style scoped>\n",
              "    .dataframe tbody tr th:only-of-type {\n",
              "        vertical-align: middle;\n",
              "    }\n",
              "\n",
              "    .dataframe tbody tr th {\n",
              "        vertical-align: top;\n",
              "    }\n",
              "\n",
              "    .dataframe thead th {\n",
              "        text-align: right;\n",
              "    }\n",
              "</style>\n",
              "<table border=\"1\" class=\"dataframe\">\n",
              "  <thead>\n",
              "    <tr style=\"text-align: right;\">\n",
              "      <th></th>\n",
              "      <th>CustomerID</th>\n",
              "      <th>Recency_val</th>\n",
              "    </tr>\n",
              "  </thead>\n",
              "  <tbody>\n",
              "    <tr>\n",
              "      <th>0</th>\n",
              "      <td>17850.0</td>\n",
              "      <td>1</td>\n",
              "    </tr>\n",
              "    <tr>\n",
              "      <th>1</th>\n",
              "      <td>17850.0</td>\n",
              "      <td>1</td>\n",
              "    </tr>\n",
              "    <tr>\n",
              "      <th>2</th>\n",
              "      <td>17850.0</td>\n",
              "      <td>1</td>\n",
              "    </tr>\n",
              "    <tr>\n",
              "      <th>3</th>\n",
              "      <td>17850.0</td>\n",
              "      <td>1</td>\n",
              "    </tr>\n",
              "    <tr>\n",
              "      <th>4</th>\n",
              "      <td>17850.0</td>\n",
              "      <td>1</td>\n",
              "    </tr>\n",
              "  </tbody>\n",
              "</table>\n",
              "</div>"
            ],
            "text/plain": [
              "   CustomerID  Recency_val\n",
              "0     17850.0            1\n",
              "1     17850.0            1\n",
              "2     17850.0            1\n",
              "3     17850.0            1\n",
              "4     17850.0            1"
            ]
          },
          "metadata": {
            "tags": []
          },
          "execution_count": 438
        }
      ]
    },
    {
      "metadata": {
        "id": "xLmWE-rr5882",
        "colab_type": "code",
        "colab": {
          "autoexec": {
            "startup": false,
            "wait_interval": 0
          },
          "base_uri": "https://localhost:8080/",
          "height": 660
        },
        "outputId": "b6d1dfd1-9dad-4323-b7dc-1e8246148688",
        "executionInfo": {
          "status": "ok",
          "timestamp": 1531816128574,
          "user_tz": -330,
          "elapsed": 702,
          "user": {
            "displayName": "Priyadharshan Saba",
            "photoUrl": "//lh5.googleusercontent.com/-PfrMeX74BFM/AAAAAAAAAAI/AAAAAAAAEe8/LcayyAlSBx8/s50-c-k-no/photo.jpg",
            "userId": "106388315316518890634"
          }
        }
      },
      "cell_type": "code",
      "source": [
        "plt.figure(figsize=(12,8))\n",
        "sns.countplot(x=\"Recency_val\", data=rec_df)\n",
        "plt.ylabel('Count', fontsize=12)\n",
        "plt.xlabel('Recency_Value', fontsize=12)\n",
        "plt.xticks(rotation='vertical')\n",
        "plt.title(\"Frequency of Recency_Flag\", fontsize=15)\n",
        "plt.show()"
      ],
      "execution_count": 439,
      "outputs": [
        {
          "output_type": "stream",
          "text": [
            "/usr/local/lib/python3.6/dist-packages/seaborn/categorical.py:1428: FutureWarning:\n",
            "\n",
            "remove_na is deprecated and is a private function. Do not use.\n",
            "\n"
          ],
          "name": "stderr"
        },
        {
          "output_type": "display_data",
          "data": {
            "image/png": "[encoded data removed]",
            "text/plain": [
              "<matplotlib.figure.Figure at 0x7f03c008fef0>"
            ]
          },
          "metadata": {
            "tags": []
          }
        }
      ]
    },
    {
      "metadata": {
        "id": "NpYVV6rF-5Fk",
        "colab_type": "code",
        "colab": {
          "autoexec": {
            "startup": false,
            "wait_interval": 0
          },
          "base_uri": "https://localhost:8080/",
          "height": 213
        },
        "outputId": "37874b2e-1f1a-4fde-e43c-0660aaffef9c",
        "executionInfo": {
          "status": "ok",
          "timestamp": 1531816129510,
          "user_tz": -330,
          "elapsed": 654,
          "user": {
            "displayName": "Priyadharshan Saba",
            "photoUrl": "//lh5.googleusercontent.com/-PfrMeX74BFM/AAAAAAAAAAI/AAAAAAAAEe8/LcayyAlSBx8/s50-c-k-no/photo.jpg",
            "userId": "106388315316518890634"
          }
        }
      },
      "cell_type": "code",
      "source": [
        "print(\"\\tRecency Analysis\\n\",rec_df.groupby('Recency_val',as_index=False).count())\n",
        "\n",
        "\n"
      ],
      "execution_count": 440,
      "outputs": [
        {
          "output_type": "stream",
          "text": [
            "\tRecency Analysis\n",
            "    Recency_val  CustomerID\n",
            "0            1       40931\n",
            "1            2       40635\n",
            "2            3       67785\n",
            "3            4       79400\n",
            "4            5      112059\n"
          ],
          "name": "stdout"
        }
      ]
    },
    {
      "metadata": {
        "id": "NDLrKQS5BPzv",
        "colab_type": "code",
        "colab": {
          "autoexec": {
            "startup": false,
            "wait_interval": 0
          },
          "base_uri": "https://localhost:8080/",
          "height": 281
        },
        "outputId": "7d5d6c97-4f5e-47e3-e033-fb0404abd542",
        "executionInfo": {
          "status": "ok",
          "timestamp": 1531816130395,
          "user_tz": -330,
          "elapsed": 788,
          "user": {
            "displayName": "Priyadharshan Saba",
            "photoUrl": "//lh5.googleusercontent.com/-PfrMeX74BFM/AAAAAAAAAAI/AAAAAAAAEe8/LcayyAlSBx8/s50-c-k-no/photo.jpg",
            "userId": "106388315316518890634"
          }
        }
      },
      "cell_type": "code",
      "source": [
        "#------Frequency Analysis-------\n",
        "\n",
        "freq_df = dfcur[['Country','InvoiceNo','CustomerID']].drop_duplicates()\n",
        "freq_count = freq_df.groupby(['Country','CustomerID'],as_index=False)[['InvoiceNo']].count()\n",
        "freq_count.head()"
      ],
      "execution_count": 441,
      "outputs": [
        {
          "output_type": "execute_result",
          "data": {
            "text/html": [
              "<div>\n",
              "<style scoped>\n",
              "    .dataframe tbody tr th:only-of-type {\n",
              "        vertical-align: middle;\n",
              "    }\n",
              "\n",
              "    .dataframe tbody tr th {\n",
              "        vertical-align: top;\n",
              "    }\n",
              "\n",
              "    .dataframe thead th {\n",
              "        text-align: right;\n",
              "    }\n",
              "</style>\n",
              "<table border=\"1\" class=\"dataframe\">\n",
              "  <thead>\n",
              "    <tr style=\"text-align: right;\">\n",
              "      <th></th>\n",
              "      <th>Country</th>\n",
              "      <th>CustomerID</th>\n",
              "      <th>InvoiceNo</th>\n",
              "    </tr>\n",
              "  </thead>\n",
              "  <tbody>\n",
              "    <tr>\n",
              "      <th>0</th>\n",
              "      <td>United Kingdom</td>\n",
              "      <td>12346.0</td>\n",
              "      <td>1</td>\n",
              "    </tr>\n",
              "    <tr>\n",
              "      <th>1</th>\n",
              "      <td>United Kingdom</td>\n",
              "      <td>12747.0</td>\n",
              "      <td>11</td>\n",
              "    </tr>\n",
              "    <tr>\n",
              "      <th>2</th>\n",
              "      <td>United Kingdom</td>\n",
              "      <td>12748.0</td>\n",
              "      <td>207</td>\n",
              "    </tr>\n",
              "    <tr>\n",
              "      <th>3</th>\n",
              "      <td>United Kingdom</td>\n",
              "      <td>12749.0</td>\n",
              "      <td>5</td>\n",
              "    </tr>\n",
              "    <tr>\n",
              "      <th>4</th>\n",
              "      <td>United Kingdom</td>\n",
              "      <td>12820.0</td>\n",
              "      <td>4</td>\n",
              "    </tr>\n",
              "  </tbody>\n",
              "</table>\n",
              "</div>"
            ],
            "text/plain": [
              "          Country  CustomerID  InvoiceNo\n",
              "0  United Kingdom     12346.0          1\n",
              "1  United Kingdom     12747.0         11\n",
              "2  United Kingdom     12748.0        207\n",
              "3  United Kingdom     12749.0          5\n",
              "4  United Kingdom     12820.0          4"
            ]
          },
          "metadata": {
            "tags": []
          },
          "execution_count": 441
        }
      ]
    },
    {
      "metadata": {
        "id": "HaQbLV_3QcLn",
        "colab_type": "code",
        "colab": {
          "autoexec": {
            "startup": false,
            "wait_interval": 0
          },
          "base_uri": "https://localhost:8080/",
          "height": 281
        },
        "outputId": "f8628eae-c0ec-4d28-ba61-911bec0bf2cc",
        "executionInfo": {
          "status": "ok",
          "timestamp": 1531816131418,
          "user_tz": -330,
          "elapsed": 909,
          "user": {
            "displayName": "Priyadharshan Saba",
            "photoUrl": "//lh5.googleusercontent.com/-PfrMeX74BFM/AAAAAAAAAAI/AAAAAAAAEe8/LcayyAlSBx8/s50-c-k-no/photo.jpg",
            "userId": "106388315316518890634"
          }
        }
      },
      "cell_type": "code",
      "source": [
        "unique_invoice=freq_df[['InvoiceNo']].drop_duplicates()\n",
        "unique_invoice.head()"
      ],
      "execution_count": 442,
      "outputs": [
        {
          "output_type": "execute_result",
          "data": {
            "text/html": [
              "<div>\n",
              "<style scoped>\n",
              "    .dataframe tbody tr th:only-of-type {\n",
              "        vertical-align: middle;\n",
              "    }\n",
              "\n",
              "    .dataframe tbody tr th {\n",
              "        vertical-align: top;\n",
              "    }\n",
              "\n",
              "    .dataframe thead th {\n",
              "        text-align: right;\n",
              "    }\n",
              "</style>\n",
              "<table border=\"1\" class=\"dataframe\">\n",
              "  <thead>\n",
              "    <tr style=\"text-align: right;\">\n",
              "      <th></th>\n",
              "      <th>InvoiceNo</th>\n",
              "    </tr>\n",
              "  </thead>\n",
              "  <tbody>\n",
              "    <tr>\n",
              "      <th>0</th>\n",
              "      <td>536365</td>\n",
              "    </tr>\n",
              "    <tr>\n",
              "      <th>7</th>\n",
              "      <td>536366</td>\n",
              "    </tr>\n",
              "    <tr>\n",
              "      <th>9</th>\n",
              "      <td>536367</td>\n",
              "    </tr>\n",
              "    <tr>\n",
              "      <th>21</th>\n",
              "      <td>536368</td>\n",
              "    </tr>\n",
              "    <tr>\n",
              "      <th>25</th>\n",
              "      <td>536369</td>\n",
              "    </tr>\n",
              "  </tbody>\n",
              "</table>\n",
              "</div>"
            ],
            "text/plain": [
              "   InvoiceNo\n",
              "0     536365\n",
              "7     536366\n",
              "9     536367\n",
              "21    536368\n",
              "25    536369"
            ]
          },
          "metadata": {
            "tags": []
          },
          "execution_count": 442
        }
      ]
    },
    {
      "metadata": {
        "id": "EYw0MXUHSUuL",
        "colab_type": "code",
        "colab": {
          "autoexec": {
            "startup": false,
            "wait_interval": 0
          },
          "base_uri": "https://localhost:8080/",
          "height": 281
        },
        "outputId": "6a1daa2c-58ba-48a8-cc69-251e6376b7e2",
        "executionInfo": {
          "status": "ok",
          "timestamp": 1531816132375,
          "user_tz": -330,
          "elapsed": 845,
          "user": {
            "displayName": "Priyadharshan Saba",
            "photoUrl": "//lh5.googleusercontent.com/-PfrMeX74BFM/AAAAAAAAAAI/AAAAAAAAEe8/LcayyAlSBx8/s50-c-k-no/photo.jpg",
            "userId": "106388315316518890634"
          }
        }
      },
      "cell_type": "code",
      "source": [
        "#Dividing the dataframe into 5 bands\n",
        "unique_invoice['fband']=pd.qcut(unique_invoice['InvoiceNo'],5)\n",
        "unique_invoice.head()\n",
        "freqBandTable = unique_invoice[['fband']].drop_duplicates().reset_index()\n",
        "freqBandTable"
      ],
      "execution_count": 443,
      "outputs": [
        {
          "output_type": "execute_result",
          "data": {
            "text/html": [
              "<div>\n",
              "<style scoped>\n",
              "    .dataframe tbody tr th:only-of-type {\n",
              "        vertical-align: middle;\n",
              "    }\n",
              "\n",
              "    .dataframe tbody tr th {\n",
              "        vertical-align: top;\n",
              "    }\n",
              "\n",
              "    .dataframe thead th {\n",
              "        text-align: right;\n",
              "    }\n",
              "</style>\n",
              "<table border=\"1\" class=\"dataframe\">\n",
              "  <thead>\n",
              "    <tr style=\"text-align: right;\">\n",
              "      <th></th>\n",
              "      <th>index</th>\n",
              "      <th>fband</th>\n",
              "    </tr>\n",
              "  </thead>\n",
              "  <tbody>\n",
              "    <tr>\n",
              "      <th>0</th>\n",
              "      <td>0</td>\n",
              "      <td>(536364.999, 546000.2]</td>\n",
              "    </tr>\n",
              "    <tr>\n",
              "      <th>1</th>\n",
              "      <td>113904</td>\n",
              "      <td>(546000.2, 555005.8]</td>\n",
              "    </tr>\n",
              "    <tr>\n",
              "      <th>2</th>\n",
              "      <td>207810</td>\n",
              "      <td>(555005.8, 564094.4]</td>\n",
              "    </tr>\n",
              "    <tr>\n",
              "      <th>3</th>\n",
              "      <td>309586</td>\n",
              "      <td>(564094.4, 573101.6]</td>\n",
              "    </tr>\n",
              "    <tr>\n",
              "      <th>4</th>\n",
              "      <td>422644</td>\n",
              "      <td>(573101.6, 581586.0]</td>\n",
              "    </tr>\n",
              "  </tbody>\n",
              "</table>\n",
              "</div>"
            ],
            "text/plain": [
              "    index                   fband\n",
              "0       0  (536364.999, 546000.2]\n",
              "1  113904    (546000.2, 555005.8]\n",
              "2  207810    (555005.8, 564094.4]\n",
              "3  309586    (564094.4, 573101.6]\n",
              "4  422644    (573101.6, 581586.0]"
            ]
          },
          "metadata": {
            "tags": []
          },
          "execution_count": 443
        }
      ]
    },
    {
      "metadata": {
        "id": "u7q87dZlT_7Q",
        "colab_type": "code",
        "colab": {
          "autoexec": {
            "startup": false,
            "wait_interval": 0
          },
          "base_uri": "https://localhost:8080/",
          "height": 281
        },
        "outputId": "911e0c14-a49e-4e3b-8c60-9b1ab59c4cc6",
        "executionInfo": {
          "status": "ok",
          "timestamp": 1531816133407,
          "user_tz": -330,
          "elapsed": 970,
          "user": {
            "displayName": "Priyadharshan Saba",
            "photoUrl": "//lh5.googleusercontent.com/-PfrMeX74BFM/AAAAAAAAAAI/AAAAAAAAEe8/LcayyAlSBx8/s50-c-k-no/photo.jpg",
            "userId": "106388315316518890634"
          }
        }
      },
      "cell_type": "code",
      "source": [
        "def frequ(row):\n",
        "  if row['InvoiceNo'] <= 13:\n",
        "    val = 1\n",
        "  elif row['InvoiceNo'] > 13 and row['InvoiceNo']<=24:\n",
        "    val =2\n",
        "  elif row['InvoiceNo']>24 and row['InvoiceNo']<=35:\n",
        "    val = 3\n",
        "  elif row['InvoiceNo']>35 and row['InvoiceNo']<=60:\n",
        "    val = 4\n",
        "  else:\n",
        "    val = 5\n",
        "  return val\n",
        "\n",
        "freq_count['freq_val'] = freq_count.apply(frequ,axis=1)\n",
        "freq_count.head()"
      ],
      "execution_count": 444,
      "outputs": [
        {
          "output_type": "execute_result",
          "data": {
            "text/html": [
              "<div>\n",
              "<style scoped>\n",
              "    .dataframe tbody tr th:only-of-type {\n",
              "        vertical-align: middle;\n",
              "    }\n",
              "\n",
              "    .dataframe tbody tr th {\n",
              "        vertical-align: top;\n",
              "    }\n",
              "\n",
              "    .dataframe thead th {\n",
              "        text-align: right;\n",
              "    }\n",
              "</style>\n",
              "<table border=\"1\" class=\"dataframe\">\n",
              "  <thead>\n",
              "    <tr style=\"text-align: right;\">\n",
              "      <th></th>\n",
              "      <th>Country</th>\n",
              "      <th>CustomerID</th>\n",
              "      <th>InvoiceNo</th>\n",
              "      <th>freq_val</th>\n",
              "    </tr>\n",
              "  </thead>\n",
              "  <tbody>\n",
              "    <tr>\n",
              "      <th>0</th>\n",
              "      <td>United Kingdom</td>\n",
              "      <td>12346.0</td>\n",
              "      <td>1</td>\n",
              "      <td>1</td>\n",
              "    </tr>\n",
              "    <tr>\n",
              "      <th>1</th>\n",
              "      <td>United Kingdom</td>\n",
              "      <td>12747.0</td>\n",
              "      <td>11</td>\n",
              "      <td>1</td>\n",
              "    </tr>\n",
              "    <tr>\n",
              "      <th>2</th>\n",
              "      <td>United Kingdom</td>\n",
              "      <td>12748.0</td>\n",
              "      <td>207</td>\n",
              "      <td>5</td>\n",
              "    </tr>\n",
              "    <tr>\n",
              "      <th>3</th>\n",
              "      <td>United Kingdom</td>\n",
              "      <td>12749.0</td>\n",
              "      <td>5</td>\n",
              "      <td>1</td>\n",
              "    </tr>\n",
              "    <tr>\n",
              "      <th>4</th>\n",
              "      <td>United Kingdom</td>\n",
              "      <td>12820.0</td>\n",
              "      <td>4</td>\n",
              "      <td>1</td>\n",
              "    </tr>\n",
              "  </tbody>\n",
              "</table>\n",
              "</div>"
            ],
            "text/plain": [
              "          Country  CustomerID  InvoiceNo  freq_val\n",
              "0  United Kingdom     12346.0          1         1\n",
              "1  United Kingdom     12747.0         11         1\n",
              "2  United Kingdom     12748.0        207         5\n",
              "3  United Kingdom     12749.0          5         1\n",
              "4  United Kingdom     12820.0          4         1"
            ]
          },
          "metadata": {
            "tags": []
          },
          "execution_count": 444
        }
      ]
    },
    {
      "metadata": {
        "id": "R02eOIjcWnGG",
        "colab_type": "code",
        "colab": {
          "autoexec": {
            "startup": false,
            "wait_interval": 0
          },
          "base_uri": "https://localhost:8080/",
          "height": 660
        },
        "outputId": "13a81a76-e3f6-45d6-ee99-736699d9b045",
        "executionInfo": {
          "status": "ok",
          "timestamp": 1531816135060,
          "user_tz": -330,
          "elapsed": 924,
          "user": {
            "displayName": "Priyadharshan Saba",
            "photoUrl": "//lh5.googleusercontent.com/-PfrMeX74BFM/AAAAAAAAAAI/AAAAAAAAEe8/LcayyAlSBx8/s50-c-k-no/photo.jpg",
            "userId": "106388315316518890634"
          }
        }
      },
      "cell_type": "code",
      "source": [
        "plt.figure(figsize=(12,8))\n",
        "sns.countplot(x=\"freq_val\", data=freq_count)\n",
        "plt.ylabel('Count', fontsize=12)\n",
        "plt.xlabel('Frequency_Value', fontsize=12)\n",
        "plt.xticks(rotation='vertical')\n",
        "plt.title(\"Frequency Analysis\", fontsize=15)\n",
        "plt.show()"
      ],
      "execution_count": 445,
      "outputs": [
        {
          "output_type": "stream",
          "text": [
            "/usr/local/lib/python3.6/dist-packages/seaborn/categorical.py:1428: FutureWarning:\n",
            "\n",
            "remove_na is deprecated and is a private function. Do not use.\n",
            "\n"
          ],
          "name": "stderr"
        },
        {
          "output_type": "display_data",
          "data": {
            "image/png": "[encoded data removed]",
            "text/plain": [
              "<matplotlib.figure.Figure at 0x7f03b6167f28>"
            ]
          },
          "metadata": {
            "tags": []
          }
        }
      ]
    },
    {
      "metadata": {
        "id": "8EEF-zcNZ81F",
        "colab_type": "code",
        "colab": {
          "autoexec": {
            "startup": false,
            "wait_interval": 0
          },
          "base_uri": "https://localhost:8080/",
          "height": 213
        },
        "outputId": "17ca2f25-31cc-4a23-e6b7-8b5641aa6d4f",
        "executionInfo": {
          "status": "ok",
          "timestamp": 1531816136004,
          "user_tz": -330,
          "elapsed": 861,
          "user": {
            "displayName": "Priyadharshan Saba",
            "photoUrl": "//lh5.googleusercontent.com/-PfrMeX74BFM/AAAAAAAAAAI/AAAAAAAAEe8/LcayyAlSBx8/s50-c-k-no/photo.jpg",
            "userId": "106388315316518890634"
          }
        }
      },
      "cell_type": "code",
      "source": [
        "print(\"\\tFrequency Analysis\\n\",freq_count.groupby('freq_val',as_index=False).count())\n",
        "\n",
        "\n"
      ],
      "execution_count": 446,
      "outputs": [
        {
          "output_type": "stream",
          "text": [
            "\tFrequency Analysis\n",
            "    freq_val  Country  CustomerID  InvoiceNo\n",
            "0         1     3729        3729       3729\n",
            "1         2      127         127        127\n",
            "2         3       37          37         37\n",
            "3         4       19          19         19\n",
            "4         5        8           8          8\n"
          ],
          "name": "stdout"
        }
      ]
    },
    {
      "metadata": {
        "id": "dC4aLV_Nay9t",
        "colab_type": "code",
        "colab": {
          "autoexec": {
            "startup": false,
            "wait_interval": 0
          },
          "base_uri": "https://localhost:8080/",
          "height": 281
        },
        "outputId": "fd6f5035-bd35-4f77-9eed-076d6c0a20c4",
        "executionInfo": {
          "status": "ok",
          "timestamp": 1531816136859,
          "user_tz": -330,
          "elapsed": 752,
          "user": {
            "displayName": "Priyadharshan Saba",
            "photoUrl": "//lh5.googleusercontent.com/-PfrMeX74BFM/AAAAAAAAAAI/AAAAAAAAEe8/LcayyAlSBx8/s50-c-k-no/photo.jpg",
            "userId": "106388315316518890634"
          }
        }
      },
      "cell_type": "code",
      "source": [
        "#----MonetaryValue Analysis------\n",
        "\n",
        "#monetary value for each country\n",
        "monetary_df_countries = df.groupby(['Country','CustomerID'],as_index=False)['Amount'].sum()\n",
        "monetary_df_countries.head()"
      ],
      "execution_count": 447,
      "outputs": [
        {
          "output_type": "execute_result",
          "data": {
            "text/html": [
              "<div>\n",
              "<style scoped>\n",
              "    .dataframe tbody tr th:only-of-type {\n",
              "        vertical-align: middle;\n",
              "    }\n",
              "\n",
              "    .dataframe tbody tr th {\n",
              "        vertical-align: top;\n",
              "    }\n",
              "\n",
              "    .dataframe thead th {\n",
              "        text-align: right;\n",
              "    }\n",
              "</style>\n",
              "<table border=\"1\" class=\"dataframe\">\n",
              "  <thead>\n",
              "    <tr style=\"text-align: right;\">\n",
              "      <th></th>\n",
              "      <th>Country</th>\n",
              "      <th>CustomerID</th>\n",
              "      <th>Amount</th>\n",
              "    </tr>\n",
              "  </thead>\n",
              "  <tbody>\n",
              "    <tr>\n",
              "      <th>0</th>\n",
              "      <td>Australia</td>\n",
              "      <td>12386.0</td>\n",
              "      <td>401.90</td>\n",
              "    </tr>\n",
              "    <tr>\n",
              "      <th>1</th>\n",
              "      <td>Australia</td>\n",
              "      <td>12388.0</td>\n",
              "      <td>2780.66</td>\n",
              "    </tr>\n",
              "    <tr>\n",
              "      <th>2</th>\n",
              "      <td>Australia</td>\n",
              "      <td>12393.0</td>\n",
              "      <td>1582.60</td>\n",
              "    </tr>\n",
              "    <tr>\n",
              "      <th>3</th>\n",
              "      <td>Australia</td>\n",
              "      <td>12415.0</td>\n",
              "      <td>124910.63</td>\n",
              "    </tr>\n",
              "    <tr>\n",
              "      <th>4</th>\n",
              "      <td>Australia</td>\n",
              "      <td>12422.0</td>\n",
              "      <td>386.20</td>\n",
              "    </tr>\n",
              "  </tbody>\n",
              "</table>\n",
              "</div>"
            ],
            "text/plain": [
              "     Country  CustomerID     Amount\n",
              "0  Australia     12386.0     401.90\n",
              "1  Australia     12388.0    2780.66\n",
              "2  Australia     12393.0    1582.60\n",
              "3  Australia     12415.0  124910.63\n",
              "4  Australia     12422.0     386.20"
            ]
          },
          "metadata": {
            "tags": []
          },
          "execution_count": 447
        }
      ]
    },
    {
      "metadata": {
        "id": "QFVlaTgccRNL",
        "colab_type": "code",
        "colab": {
          "autoexec": {
            "startup": false,
            "wait_interval": 0
          },
          "base_uri": "https://localhost:8080/",
          "height": 707
        },
        "outputId": "e62ca8c7-f7c8-4f2d-bde4-94405e74f773",
        "executionInfo": {
          "status": "ok",
          "timestamp": 1531816138915,
          "user_tz": -330,
          "elapsed": 1953,
          "user": {
            "displayName": "Priyadharshan Saba",
            "photoUrl": "//lh5.googleusercontent.com/-PfrMeX74BFM/AAAAAAAAAAI/AAAAAAAAEe8/LcayyAlSBx8/s50-c-k-no/photo.jpg",
            "userId": "106388315316518890634"
          }
        }
      },
      "cell_type": "code",
      "source": [
        "ctry=list(monetary_df_countries['Country'])\n",
        "amt=list(monetary_df_countries['Amount'])\n",
        "plt.figure(figsize=(12,8))\n",
        "sns.barplot(ctry, amt, alpha=1)\n",
        "plt.xticks(rotation='60')\n",
        "plt.show()"
      ],
      "execution_count": 448,
      "outputs": [
        {
          "output_type": "stream",
          "text": [
            "/usr/local/lib/python3.6/dist-packages/seaborn/categorical.py:1428: FutureWarning:\n",
            "\n",
            "remove_na is deprecated and is a private function. Do not use.\n",
            "\n"
          ],
          "name": "stderr"
        },
        {
          "output_type": "display_data",
          "data": {
            "image/png": "[encoded data removed]",
            "text/plain": [
              "<matplotlib.figure.Figure at 0x7f03b5f825c0>"
            ]
          },
          "metadata": {
            "tags": []
          }
        }
      ]
    },
    {
      "metadata": {
        "id": "tnRaeTFWdQLk",
        "colab_type": "code",
        "colab": {
          "autoexec": {
            "startup": false,
            "wait_interval": 0
          },
          "base_uri": "https://localhost:8080/",
          "height": 213
        },
        "outputId": "131405ea-e7a9-47c4-f763-812ead3533b5",
        "executionInfo": {
          "status": "ok",
          "timestamp": 1531816139920,
          "user_tz": -330,
          "elapsed": 891,
          "user": {
            "displayName": "Priyadharshan Saba",
            "photoUrl": "//lh5.googleusercontent.com/-PfrMeX74BFM/AAAAAAAAAAI/AAAAAAAAEe8/LcayyAlSBx8/s50-c-k-no/photo.jpg",
            "userId": "106388315316518890634"
          }
        }
      },
      "cell_type": "code",
      "source": [
        "print(\"\\tMonetary Analysis Countrywise\\n\",monetary_df_countries.groupby('Country',as_index=False)[['Amount']].sum().sort_values('Amount', ascending=False).reset_index(drop=True).head())"
      ],
      "execution_count": 449,
      "outputs": [
        {
          "output_type": "stream",
          "text": [
            "\tMonetary Analysis Countrywise\n",
            "           Country      Amount\n",
            "0  United Kingdom  7299318.66\n",
            "1     Netherlands   285420.87\n",
            "2            EIRE   265545.90\n",
            "3         Germany   228858.07\n",
            "4          France   208997.21\n"
          ],
          "name": "stdout"
        }
      ]
    },
    {
      "metadata": {
        "id": "swZzdPgVwmYf",
        "colab_type": "code",
        "colab": {
          "autoexec": {
            "startup": false,
            "wait_interval": 0
          },
          "base_uri": "https://localhost:8080/",
          "height": 281
        },
        "outputId": "34cc1b2c-39b9-471a-ac2c-c32ac73f6e12",
        "executionInfo": {
          "status": "ok",
          "timestamp": 1531816140779,
          "user_tz": -330,
          "elapsed": 761,
          "user": {
            "displayName": "Priyadharshan Saba",
            "photoUrl": "//lh5.googleusercontent.com/-PfrMeX74BFM/AAAAAAAAAAI/AAAAAAAAEe8/LcayyAlSBx8/s50-c-k-no/photo.jpg",
            "userId": "106388315316518890634"
          }
        }
      },
      "cell_type": "code",
      "source": [
        "#getting monetary band\n",
        "monprice_df = dfcur[['CustomerID','Amount']].drop_duplicates()\n",
        "monprice_df = monprice_df.groupby(['CustomerID'],as_index=False)[['Amount']].sum()\n",
        "monprice_df['monetary'] = pd.qcut(monprice_df['Amount'],5)\n",
        "monprice_df=monprice_df.sort_values(by=['monetary'])\n",
        "monetary_band = monprice_df[['monetary']].drop_duplicates().reset_index(drop=True)\n",
        "monetary_band"
      ],
      "execution_count": 450,
      "outputs": [
        {
          "output_type": "execute_result",
          "data": {
            "text/html": [
              "<div>\n",
              "<style scoped>\n",
              "    .dataframe tbody tr th:only-of-type {\n",
              "        vertical-align: middle;\n",
              "    }\n",
              "\n",
              "    .dataframe tbody tr th {\n",
              "        vertical-align: top;\n",
              "    }\n",
              "\n",
              "    .dataframe thead th {\n",
              "        text-align: right;\n",
              "    }\n",
              "</style>\n",
              "<table border=\"1\" class=\"dataframe\">\n",
              "  <thead>\n",
              "    <tr style=\"text-align: right;\">\n",
              "      <th></th>\n",
              "      <th>monetary</th>\n",
              "    </tr>\n",
              "  </thead>\n",
              "  <tbody>\n",
              "    <tr>\n",
              "      <th>0</th>\n",
              "      <td>(3.749, 171.38]</td>\n",
              "    </tr>\n",
              "    <tr>\n",
              "      <th>1</th>\n",
              "      <td>(171.38, 306.886]</td>\n",
              "    </tr>\n",
              "    <tr>\n",
              "      <th>2</th>\n",
              "      <td>(306.886, 511.26]</td>\n",
              "    </tr>\n",
              "    <tr>\n",
              "      <th>3</th>\n",
              "      <td>(511.26, 955.366]</td>\n",
              "    </tr>\n",
              "    <tr>\n",
              "      <th>4</th>\n",
              "      <td>(955.366, 168472.5]</td>\n",
              "    </tr>\n",
              "  </tbody>\n",
              "</table>\n",
              "</div>"
            ],
            "text/plain": [
              "              monetary\n",
              "0      (3.749, 171.38]\n",
              "1    (171.38, 306.886]\n",
              "2    (306.886, 511.26]\n",
              "3    (511.26, 955.366]\n",
              "4  (955.366, 168472.5]"
            ]
          },
          "metadata": {
            "tags": []
          },
          "execution_count": 450
        }
      ]
    },
    {
      "metadata": {
        "id": "nq8MZlInxREW",
        "colab_type": "code",
        "colab": {
          "autoexec": {
            "startup": false,
            "wait_interval": 0
          },
          "base_uri": "https://localhost:8080/",
          "height": 180
        },
        "outputId": "302e36b2-6ebd-488e-ebd0-158664002133",
        "executionInfo": {
          "status": "ok",
          "timestamp": 1531816142170,
          "user_tz": -330,
          "elapsed": 1283,
          "user": {
            "displayName": "Priyadharshan Saba",
            "photoUrl": "//lh5.googleusercontent.com/-PfrMeX74BFM/AAAAAAAAAAI/AAAAAAAAEe8/LcayyAlSBx8/s50-c-k-no/photo.jpg",
            "userId": "106388315316518890634"
          }
        }
      },
      "cell_type": "code",
      "source": [
        "x=monetary_band['monetary'].get_values().tolist()\n",
        "x"
      ],
      "execution_count": 451,
      "outputs": [
        {
          "output_type": "execute_result",
          "data": {
            "text/plain": [
              "[Interval(3.749, 171.38, closed='right'),\n",
              " Interval(171.38, 306.886, closed='right'),\n",
              " Interval(306.886, 511.26, closed='right'),\n",
              " Interval(511.26, 955.366, closed='right'),\n",
              " Interval(955.366, 168472.5, closed='right')]"
            ]
          },
          "metadata": {
            "tags": []
          },
          "execution_count": 451
        }
      ]
    },
    {
      "metadata": {
        "id": "zrjccOzuhSfB",
        "colab_type": "code",
        "colab": {
          "autoexec": {
            "startup": false,
            "wait_interval": 0
          },
          "base_uri": "https://localhost:8080/",
          "height": 281
        },
        "outputId": "181ac1fd-19e5-424a-e05c-0ad7ba9c9f82",
        "executionInfo": {
          "status": "ok",
          "timestamp": 1531816143193,
          "user_tz": -330,
          "elapsed": 658,
          "user": {
            "displayName": "Priyadharshan Saba",
            "photoUrl": "//lh5.googleusercontent.com/-PfrMeX74BFM/AAAAAAAAAAI/AAAAAAAAEe8/LcayyAlSBx8/s50-c-k-no/photo.jpg",
            "userId": "106388315316518890634"
          }
        }
      },
      "cell_type": "code",
      "source": [
        "def mon(row):\n",
        "  if row['Amount'] <= x[0].right:\n",
        "    val = 1\n",
        "  elif row['Amount']> x[0].right and row['Amount']<=x[1].right:\n",
        "    val = 2\n",
        "  elif row['Amount']> x[1].right and row['Amount']<=x[2].right:\n",
        "    val = 3\n",
        "  elif row['Amount']> x[2].right and row['Amount']<=x[3].right:\n",
        "    val = 4\n",
        "  else:\n",
        "    val = 5\n",
        "  return val\n",
        "\n",
        "monprice_df['Mont_val'] = monprice_df.apply(mon,axis=1)\n",
        "\n",
        "monprice_df.head()\n"
      ],
      "execution_count": 452,
      "outputs": [
        {
          "output_type": "execute_result",
          "data": {
            "text/html": [
              "<div>\n",
              "<style scoped>\n",
              "    .dataframe tbody tr th:only-of-type {\n",
              "        vertical-align: middle;\n",
              "    }\n",
              "\n",
              "    .dataframe tbody tr th {\n",
              "        vertical-align: top;\n",
              "    }\n",
              "\n",
              "    .dataframe thead th {\n",
              "        text-align: right;\n",
              "    }\n",
              "</style>\n",
              "<table border=\"1\" class=\"dataframe\">\n",
              "  <thead>\n",
              "    <tr style=\"text-align: right;\">\n",
              "      <th></th>\n",
              "      <th>CustomerID</th>\n",
              "      <th>Amount</th>\n",
              "      <th>monetary</th>\n",
              "      <th>Mont_val</th>\n",
              "    </tr>\n",
              "  </thead>\n",
              "  <tbody>\n",
              "    <tr>\n",
              "      <th>1263</th>\n",
              "      <td>14598.0</td>\n",
              "      <td>146.04</td>\n",
              "      <td>(3.749, 171.38]</td>\n",
              "      <td>1</td>\n",
              "    </tr>\n",
              "    <tr>\n",
              "      <th>1420</th>\n",
              "      <td>14821.0</td>\n",
              "      <td>48.80</td>\n",
              "      <td>(3.749, 171.38]</td>\n",
              "      <td>1</td>\n",
              "    </tr>\n",
              "    <tr>\n",
              "      <th>3377</th>\n",
              "      <td>17536.0</td>\n",
              "      <td>25.50</td>\n",
              "      <td>(3.749, 171.38]</td>\n",
              "      <td>1</td>\n",
              "    </tr>\n",
              "    <tr>\n",
              "      <th>3702</th>\n",
              "      <td>17984.0</td>\n",
              "      <td>104.23</td>\n",
              "      <td>(3.749, 171.38]</td>\n",
              "      <td>1</td>\n",
              "    </tr>\n",
              "    <tr>\n",
              "      <th>1421</th>\n",
              "      <td>14823.0</td>\n",
              "      <td>142.05</td>\n",
              "      <td>(3.749, 171.38]</td>\n",
              "      <td>1</td>\n",
              "    </tr>\n",
              "  </tbody>\n",
              "</table>\n",
              "</div>"
            ],
            "text/plain": [
              "      CustomerID  Amount         monetary  Mont_val\n",
              "1263     14598.0  146.04  (3.749, 171.38]         1\n",
              "1420     14821.0   48.80  (3.749, 171.38]         1\n",
              "3377     17536.0   25.50  (3.749, 171.38]         1\n",
              "3702     17984.0  104.23  (3.749, 171.38]         1\n",
              "1421     14823.0  142.05  (3.749, 171.38]         1"
            ]
          },
          "metadata": {
            "tags": []
          },
          "execution_count": 452
        }
      ]
    },
    {
      "metadata": {
        "id": "7Wxc5pfXreP4",
        "colab_type": "code",
        "colab": {
          "autoexec": {
            "startup": false,
            "wait_interval": 0
          },
          "base_uri": "https://localhost:8080/",
          "height": 660
        },
        "outputId": "8ac2193e-6e5a-49c2-80bf-df7bc62fafaa",
        "executionInfo": {
          "status": "ok",
          "timestamp": 1531816144099,
          "user_tz": -330,
          "elapsed": 845,
          "user": {
            "displayName": "Priyadharshan Saba",
            "photoUrl": "//lh5.googleusercontent.com/-PfrMeX74BFM/AAAAAAAAAAI/AAAAAAAAEe8/LcayyAlSBx8/s50-c-k-no/photo.jpg",
            "userId": "106388315316518890634"
          }
        }
      },
      "cell_type": "code",
      "source": [
        "plt.figure(figsize=(12,8))\n",
        "sns.countplot(x=\"Mont_val\", data=monprice_df)\n",
        "plt.ylabel('Count', fontsize=12)\n",
        "plt.xlabel('Monetary_Value', fontsize=12)\n",
        "plt.xticks(rotation='vertical')\n",
        "plt.title(\"Monetary Analysis\", fontsize=15)\n",
        "plt.show()"
      ],
      "execution_count": 453,
      "outputs": [
        {
          "output_type": "stream",
          "text": [
            "/usr/local/lib/python3.6/dist-packages/seaborn/categorical.py:1428: FutureWarning:\n",
            "\n",
            "remove_na is deprecated and is a private function. Do not use.\n",
            "\n"
          ],
          "name": "stderr"
        },
        {
          "output_type": "display_data",
          "data": {
            "image/png": "[encoded data removed]",
            "text/plain": [
              "<matplotlib.figure.Figure at 0x7f03b6bdfd68>"
            ]
          },
          "metadata": {
            "tags": []
          }
        }
      ]
    },
    {
      "metadata": {
        "id": "Hvq3qTWGr58S",
        "colab_type": "code",
        "colab": {
          "autoexec": {
            "startup": false,
            "wait_interval": 0
          },
          "base_uri": "https://localhost:8080/",
          "height": 213
        },
        "outputId": "2eceb829-6ec3-4408-9471-fc80e1420efa",
        "executionInfo": {
          "status": "ok",
          "timestamp": 1531816145067,
          "user_tz": -330,
          "elapsed": 901,
          "user": {
            "displayName": "Priyadharshan Saba",
            "photoUrl": "//lh5.googleusercontent.com/-PfrMeX74BFM/AAAAAAAAAAI/AAAAAAAAEe8/LcayyAlSBx8/s50-c-k-no/photo.jpg",
            "userId": "106388315316518890634"
          }
        }
      },
      "cell_type": "code",
      "source": [
        "print(\"\\tMonetary Analysis\\n\",monprice_df.groupby(['Mont_val'],as_index=False)['monetary'].count())\n",
        "\n",
        "\n",
        "\n"
      ],
      "execution_count": 454,
      "outputs": [
        {
          "output_type": "stream",
          "text": [
            "\tMonetary Analysis\n",
            "    Mont_val  monetary\n",
            "0         1       784\n",
            "1         2       784\n",
            "2         3       784\n",
            "3         4       784\n",
            "4         5       784\n"
          ],
          "name": "stdout"
        }
      ]
    },
    {
      "metadata": {
        "id": "EPg5mnSOsR63",
        "colab_type": "code",
        "colab": {
          "autoexec": {
            "startup": false,
            "wait_interval": 0
          }
        }
      },
      "cell_type": "code",
      "source": [
        "#fetching the sample with RMF values\n",
        "uk_df=pd.merge(rec_df,freq_count)\n",
        "uk_df=pd.merge(uk_df,monprice_df)\n",
        "sample_df=uk_df\n",
        "sample_df=sample_df.drop_duplicates().reset_index(drop=True)\n",
        "sample_df = sample_df.drop(columns=['Country','InvoiceNo','monetary'])"
      ],
      "execution_count": 0,
      "outputs": []
    },
    {
      "metadata": {
        "id": "DobkVdW8uy5O",
        "colab_type": "code",
        "colab": {
          "autoexec": {
            "startup": false,
            "wait_interval": 0
          },
          "base_uri": "https://localhost:8080/",
          "height": 434
        },
        "outputId": "d485204a-926d-4e02-96a1-c5e16439827f",
        "executionInfo": {
          "status": "ok",
          "timestamp": 1531816147120,
          "user_tz": -330,
          "elapsed": 842,
          "user": {
            "displayName": "Priyadharshan Saba",
            "photoUrl": "//lh5.googleusercontent.com/-PfrMeX74BFM/AAAAAAAAAAI/AAAAAAAAEe8/LcayyAlSBx8/s50-c-k-no/photo.jpg",
            "userId": "106388315316518890634"
          }
        }
      },
      "cell_type": "code",
      "source": [
        "sample_df.head(10)"
      ],
      "execution_count": 456,
      "outputs": [
        {
          "output_type": "execute_result",
          "data": {
            "text/html": [
              "<div>\n",
              "<style scoped>\n",
              "    .dataframe tbody tr th:only-of-type {\n",
              "        vertical-align: middle;\n",
              "    }\n",
              "\n",
              "    .dataframe tbody tr th {\n",
              "        vertical-align: top;\n",
              "    }\n",
              "\n",
              "    .dataframe thead th {\n",
              "        text-align: right;\n",
              "    }\n",
              "</style>\n",
              "<table border=\"1\" class=\"dataframe\">\n",
              "  <thead>\n",
              "    <tr style=\"text-align: right;\">\n",
              "      <th></th>\n",
              "      <th>CustomerID</th>\n",
              "      <th>Recency_val</th>\n",
              "      <th>freq_val</th>\n",
              "      <th>Amount</th>\n",
              "      <th>Mont_val</th>\n",
              "    </tr>\n",
              "  </thead>\n",
              "  <tbody>\n",
              "    <tr>\n",
              "      <th>0</th>\n",
              "      <td>17850.0</td>\n",
              "      <td>1</td>\n",
              "      <td>3</td>\n",
              "      <td>789.47</td>\n",
              "      <td>4</td>\n",
              "    </tr>\n",
              "    <tr>\n",
              "      <th>1</th>\n",
              "      <td>13047.0</td>\n",
              "      <td>1</td>\n",
              "      <td>1</td>\n",
              "      <td>1080.48</td>\n",
              "      <td>5</td>\n",
              "    </tr>\n",
              "    <tr>\n",
              "      <th>2</th>\n",
              "      <td>13047.0</td>\n",
              "      <td>2</td>\n",
              "      <td>1</td>\n",
              "      <td>1080.48</td>\n",
              "      <td>5</td>\n",
              "    </tr>\n",
              "    <tr>\n",
              "      <th>3</th>\n",
              "      <td>13047.0</td>\n",
              "      <td>3</td>\n",
              "      <td>1</td>\n",
              "      <td>1080.48</td>\n",
              "      <td>5</td>\n",
              "    </tr>\n",
              "    <tr>\n",
              "      <th>4</th>\n",
              "      <td>13047.0</td>\n",
              "      <td>4</td>\n",
              "      <td>1</td>\n",
              "      <td>1080.48</td>\n",
              "      <td>5</td>\n",
              "    </tr>\n",
              "    <tr>\n",
              "      <th>5</th>\n",
              "      <td>13047.0</td>\n",
              "      <td>5</td>\n",
              "      <td>1</td>\n",
              "      <td>1080.48</td>\n",
              "      <td>5</td>\n",
              "    </tr>\n",
              "    <tr>\n",
              "      <th>6</th>\n",
              "      <td>13748.0</td>\n",
              "      <td>1</td>\n",
              "      <td>1</td>\n",
              "      <td>642.95</td>\n",
              "      <td>4</td>\n",
              "    </tr>\n",
              "    <tr>\n",
              "      <th>7</th>\n",
              "      <td>13748.0</td>\n",
              "      <td>3</td>\n",
              "      <td>1</td>\n",
              "      <td>642.95</td>\n",
              "      <td>4</td>\n",
              "    </tr>\n",
              "    <tr>\n",
              "      <th>8</th>\n",
              "      <td>13748.0</td>\n",
              "      <td>4</td>\n",
              "      <td>1</td>\n",
              "      <td>642.95</td>\n",
              "      <td>4</td>\n",
              "    </tr>\n",
              "    <tr>\n",
              "      <th>9</th>\n",
              "      <td>15100.0</td>\n",
              "      <td>1</td>\n",
              "      <td>1</td>\n",
              "      <td>525.60</td>\n",
              "      <td>4</td>\n",
              "    </tr>\n",
              "  </tbody>\n",
              "</table>\n",
              "</div>"
            ],
            "text/plain": [
              "   CustomerID  Recency_val  freq_val   Amount  Mont_val\n",
              "0     17850.0            1         3   789.47         4\n",
              "1     13047.0            1         1  1080.48         5\n",
              "2     13047.0            2         1  1080.48         5\n",
              "3     13047.0            3         1  1080.48         5\n",
              "4     13047.0            4         1  1080.48         5\n",
              "5     13047.0            5         1  1080.48         5\n",
              "6     13748.0            1         1   642.95         4\n",
              "7     13748.0            3         1   642.95         4\n",
              "8     13748.0            4         1   642.95         4\n",
              "9     15100.0            1         1   525.60         4"
            ]
          },
          "metadata": {
            "tags": []
          },
          "execution_count": 456
        }
      ]
    },
    {
      "metadata": {
        "id": "L7FFxSoTuMAx",
        "colab_type": "code",
        "colab": {
          "autoexec": {
            "startup": false,
            "wait_interval": 0
          }
        }
      },
      "cell_type": "code",
      "source": [
        "#----CLUSTERING----\n",
        "\n",
        "#Outliers in Monetary Amount\n",
        "amountRange = sample_df.as_matrix(columns=['Amount'])\n"
      ],
      "execution_count": 0,
      "outputs": []
    },
    {
      "metadata": {
        "id": "bJfN0VWxFNhf",
        "colab_type": "code",
        "colab": {
          "autoexec": {
            "startup": false,
            "wait_interval": 0
          },
          "base_uri": "https://localhost:8080/",
          "height": 460
        },
        "outputId": "8d8d37cd-1ba7-484d-801e-3e31a8b21b5c",
        "executionInfo": {
          "status": "ok",
          "timestamp": 1531816990449,
          "user_tz": -330,
          "elapsed": 1094,
          "user": {
            "displayName": "Priyadharshan Saba",
            "photoUrl": "//lh5.googleusercontent.com/-PfrMeX74BFM/AAAAAAAAAAI/AAAAAAAAEe8/LcayyAlSBx8/s50-c-k-no/photo.jpg",
            "userId": "106388315316518890634"
          }
        }
      },
      "cell_type": "code",
      "source": [
        "freqRange=sample_df.as_matrix(columns=['freq_val'])\n",
        "plt.scatter(amountRange.tolist(),freqRange.tolist(),8)\n",
        "plt.xlabel('Monetary Amount')\n",
        "plt.ylabel('Frequency')"
      ],
      "execution_count": 506,
      "outputs": [
        {
          "output_type": "execute_result",
          "data": {
            "text/plain": [
              "Text(0,0.5,'Frequency')"
            ]
          },
          "metadata": {
            "tags": []
          },
          "execution_count": 506
        },
        {
          "output_type": "display_data",
          "data": {
            "image/png": "[encoded data removed]",
            "text/plain": [
              "<matplotlib.figure.Figure at 0x7f03b5448358>"
            ]
          },
          "metadata": {
            "tags": []
          }
        }
      ]
    },
    {
      "metadata": {
        "id": "4B138E_9HbDW",
        "colab_type": "code",
        "colab": {
          "autoexec": {
            "startup": false,
            "wait_interval": 0
          }
        }
      },
      "cell_type": "code",
      "source": [
        "recRange = sample_df.as_matrix(columns=['freq_val'])"
      ],
      "execution_count": 0,
      "outputs": []
    },
    {
      "metadata": {
        "id": "vG1P8kF6I9d-",
        "colab_type": "code",
        "colab": {
          "autoexec": {
            "startup": false,
            "wait_interval": 0
          },
          "base_uri": "https://localhost:8080/",
          "height": 460
        },
        "outputId": "5ec3f088-08bf-4663-f7c8-a97b89b8af75",
        "executionInfo": {
          "status": "ok",
          "timestamp": 1531816994113,
          "user_tz": -330,
          "elapsed": 1115,
          "user": {
            "displayName": "Priyadharshan Saba",
            "photoUrl": "//lh5.googleusercontent.com/-PfrMeX74BFM/AAAAAAAAAAI/AAAAAAAAEe8/LcayyAlSBx8/s50-c-k-no/photo.jpg",
            "userId": "106388315316518890634"
          }
        }
      },
      "cell_type": "code",
      "source": [
        "recRange=sample_df.as_matrix(columns=['Recency_val'])\n",
        "plt.scatter(amountRange.tolist(),recRange.tolist(),8)\n",
        "plt.xlabel('Monetary Amount')\n",
        "plt.ylabel('Recency')"
      ],
      "execution_count": 508,
      "outputs": [
        {
          "output_type": "execute_result",
          "data": {
            "text/plain": [
              "Text(0,0.5,'Recency')"
            ]
          },
          "metadata": {
            "tags": []
          },
          "execution_count": 508
        },
        {
          "output_type": "display_data",
          "data": {
            "image/png": "[encoded data removed]",
            "text/plain": [
              "<matplotlib.figure.Figure at 0x7f03c9663128>"
            ]
          },
          "metadata": {
            "tags": []
          }
        }
      ]
    },
    {
      "metadata": {
        "id": "Hg8Vb9Ji_Hei",
        "colab_type": "code",
        "colab": {
          "autoexec": {
            "startup": false,
            "wait_interval": 0
          },
          "base_uri": "https://localhost:8080/",
          "height": 114
        },
        "outputId": "36e1c5dc-a801-459b-a027-362f7f85a350",
        "executionInfo": {
          "status": "ok",
          "timestamp": 1531816996385,
          "user_tz": -330,
          "elapsed": 845,
          "user": {
            "displayName": "Priyadharshan Saba",
            "photoUrl": "//lh5.googleusercontent.com/-PfrMeX74BFM/AAAAAAAAAAI/AAAAAAAAEe8/LcayyAlSBx8/s50-c-k-no/photo.jpg",
            "userId": "106388315316518890634"
          }
        }
      },
      "cell_type": "code",
      "source": [
        "#Standard Deviation approach\n",
        "x = np.array(amountRange)\n",
        "xmean = np.mean(x,axis=0)\n",
        "xsd = np.std(x,axis=0)\n",
        "sample_df.shape\n",
        "#amountRange = [ i for i in range(0,sample_df.shape[0]) if(sample_df.iloc[i]['Amount'] > xmean-2*xsd)]\n",
        "#amountRange = [ y for y in amountRange if(y['Amount'] <xmean+2*xsd)]"
      ],
      "execution_count": 509,
      "outputs": [
        {
          "output_type": "execute_result",
          "data": {
            "text/plain": [
              "(8538, 5)"
            ]
          },
          "metadata": {
            "tags": []
          },
          "execution_count": 509
        }
      ]
    },
    {
      "metadata": {
        "id": "YTrw7V1LSnFI",
        "colab_type": "code",
        "colab": {
          "autoexec": {
            "startup": false,
            "wait_interval": 0
          },
          "base_uri": "https://localhost:8080/",
          "height": 281
        },
        "outputId": "fc66c3c6-ec1a-490e-a7bd-ae9f81af9865",
        "executionInfo": {
          "status": "ok",
          "timestamp": 1531817024239,
          "user_tz": -330,
          "elapsed": 931,
          "user": {
            "displayName": "Priyadharshan Saba",
            "photoUrl": "//lh5.googleusercontent.com/-PfrMeX74BFM/AAAAAAAAAAI/AAAAAAAAEe8/LcayyAlSBx8/s50-c-k-no/photo.jpg",
            "userId": "106388315316518890634"
          }
        }
      },
      "cell_type": "code",
      "source": [
        "sample_df = sample_df[sample_df['Amount'] >= xmean[0]-2*xsd[0]]\n",
        "sample_df = sample_df[sample_df['Amount'] <= xmean[0]+2*xsd[0]]\n",
        "sample_df.head()\n"
      ],
      "execution_count": 512,
      "outputs": [
        {
          "output_type": "execute_result",
          "data": {
            "text/html": [
              "<div>\n",
              "<style scoped>\n",
              "    .dataframe tbody tr th:only-of-type {\n",
              "        vertical-align: middle;\n",
              "    }\n",
              "\n",
              "    .dataframe tbody tr th {\n",
              "        vertical-align: top;\n",
              "    }\n",
              "\n",
              "    .dataframe thead th {\n",
              "        text-align: right;\n",
              "    }\n",
              "</style>\n",
              "<table border=\"1\" class=\"dataframe\">\n",
              "  <thead>\n",
              "    <tr style=\"text-align: right;\">\n",
              "      <th></th>\n",
              "      <th>CustomerID</th>\n",
              "      <th>Recency_val</th>\n",
              "      <th>freq_val</th>\n",
              "      <th>Amount</th>\n",
              "      <th>Mont_val</th>\n",
              "    </tr>\n",
              "  </thead>\n",
              "  <tbody>\n",
              "    <tr>\n",
              "      <th>0</th>\n",
              "      <td>17850.0</td>\n",
              "      <td>1</td>\n",
              "      <td>3</td>\n",
              "      <td>789.47</td>\n",
              "      <td>4</td>\n",
              "    </tr>\n",
              "    <tr>\n",
              "      <th>1</th>\n",
              "      <td>13047.0</td>\n",
              "      <td>1</td>\n",
              "      <td>1</td>\n",
              "      <td>1080.48</td>\n",
              "      <td>5</td>\n",
              "    </tr>\n",
              "    <tr>\n",
              "      <th>2</th>\n",
              "      <td>13047.0</td>\n",
              "      <td>2</td>\n",
              "      <td>1</td>\n",
              "      <td>1080.48</td>\n",
              "      <td>5</td>\n",
              "    </tr>\n",
              "    <tr>\n",
              "      <th>3</th>\n",
              "      <td>13047.0</td>\n",
              "      <td>3</td>\n",
              "      <td>1</td>\n",
              "      <td>1080.48</td>\n",
              "      <td>5</td>\n",
              "    </tr>\n",
              "    <tr>\n",
              "      <th>4</th>\n",
              "      <td>13047.0</td>\n",
              "      <td>4</td>\n",
              "      <td>1</td>\n",
              "      <td>1080.48</td>\n",
              "      <td>5</td>\n",
              "    </tr>\n",
              "  </tbody>\n",
              "</table>\n",
              "</div>"
            ],
            "text/plain": [
              "   CustomerID  Recency_val  freq_val   Amount  Mont_val\n",
              "0     17850.0            1         3   789.47         4\n",
              "1     13047.0            1         1  1080.48         5\n",
              "2     13047.0            2         1  1080.48         5\n",
              "3     13047.0            3         1  1080.48         5\n",
              "4     13047.0            4         1  1080.48         5"
            ]
          },
          "metadata": {
            "tags": []
          },
          "execution_count": 512
        }
      ]
    },
    {
      "metadata": {
        "id": "FxtMmY18TQwo",
        "colab_type": "code",
        "colab": {
          "autoexec": {
            "startup": false,
            "wait_interval": 0
          },
          "base_uri": "https://localhost:8080/",
          "height": 440
        },
        "outputId": "afa0b4e5-0afb-440b-8216-47114bdba9a0",
        "executionInfo": {
          "status": "ok",
          "timestamp": 1531817027936,
          "user_tz": -330,
          "elapsed": 1213,
          "user": {
            "displayName": "Priyadharshan Saba",
            "photoUrl": "//lh5.googleusercontent.com/-PfrMeX74BFM/AAAAAAAAAAI/AAAAAAAAEe8/LcayyAlSBx8/s50-c-k-no/photo.jpg",
            "userId": "106388315316518890634"
          }
        }
      },
      "cell_type": "code",
      "source": [
        "amountRange = sample_df.as_matrix(columns=['Amount'])\n",
        "recRange=sample_df.as_matrix(columns=['Recency_val'])\n",
        "plt.scatter(amountRange.tolist(),recRange.tolist(),8)\n",
        "plt.xlabel('Monetary Amount')\n",
        "plt.ylabel('Recency')"
      ],
      "execution_count": 513,
      "outputs": [
        {
          "output_type": "execute_result",
          "data": {
            "text/plain": [
              "Text(0,0.5,'Recency')"
            ]
          },
          "metadata": {
            "tags": []
          },
          "execution_count": 513
        },
        {
          "output_type": "display_data",
          "data": {
            "image/png": "[encoded data removed]",
            "text/plain": [
              "<matplotlib.figure.Figure at 0x7f03b859b978>"
            ]
          },
          "metadata": {
            "tags": []
          }
        }
      ]
    },
    {
      "metadata": {
        "id": "mBxfReHpZXDj",
        "colab_type": "code",
        "colab": {
          "autoexec": {
            "startup": false,
            "wait_interval": 0
          },
          "base_uri": "https://localhost:8080/",
          "height": 274
        },
        "outputId": "ceeb1c36-1d1e-4afa-a972-a8885994e5da",
        "executionInfo": {
          "status": "ok",
          "timestamp": 1531817336901,
          "user_tz": -330,
          "elapsed": 10265,
          "user": {
            "displayName": "Priyadharshan Saba",
            "photoUrl": "//lh5.googleusercontent.com/-PfrMeX74BFM/AAAAAAAAAAI/AAAAAAAAEe8/LcayyAlSBx8/s50-c-k-no/photo.jpg",
            "userId": "106388315316518890634"
          }
        }
      },
      "cell_type": "code",
      "source": [
        "!pip install -U scikit-learn"
      ],
      "execution_count": 516,
      "outputs": [
        {
          "output_type": "stream",
          "text": [
            "Collecting scikit-learn\n",
            "\u001b[?25l  Downloading https://files.pythonhosted.org/packages/f9/c8/8db4108aba5e2166cd2ea4eafa1a4b82f89240a1fa85733029cc2358ad1f/scikit_learn-0.19.2-cp36-cp36m-manylinux1_x86_64.whl (4.9MB)\n",
            "\u001b[K    100% |████████████████████████████████| 4.9MB 3.1MB/s \n",
            "\u001b[?25hInstalling collected packages: scikit-learn\n",
            "  Found existing installation: scikit-learn 0.19.1\n",
            "    Uninstalling scikit-learn-0.19.1:\n",
            "      Successfully uninstalled scikit-learn-0.19.1\n",
            "Successfully installed scikit-learn-0.19.2\n"
          ],
          "name": "stdout"
        }
      ]
    },
    {
      "metadata": {
        "id": "554Ub7a3cB7y",
        "colab_type": "code",
        "colab": {
          "autoexec": {
            "startup": false,
            "wait_interval": 0
          },
          "base_uri": "https://localhost:8080/",
          "height": 1634
        },
        "outputId": "d1a2e31e-7f10-4f0e-be2e-1c17c73803ee",
        "executionInfo": {
          "status": "ok",
          "timestamp": 1531817546001,
          "user_tz": -330,
          "elapsed": 39085,
          "user": {
            "displayName": "Priyadharshan Saba",
            "photoUrl": "//lh5.googleusercontent.com/-PfrMeX74BFM/AAAAAAAAAAI/AAAAAAAAEe8/LcayyAlSBx8/s50-c-k-no/photo.jpg",
            "userId": "106388315316518890634"
          }
        }
      },
      "cell_type": "code",
      "source": [
        "!pip install pyspark"
      ],
      "execution_count": 518,
      "outputs": [
        {
          "output_type": "stream",
          "text": [
            "Collecting pyspark\n",
            "\u001b[?25l  Downloading https://files.pythonhosted.org/packages/ee/2f/709df6e8dc00624689aa0a11c7a4c06061a7d00037e370584b9f011df44c/pyspark-2.3.1.tar.gz (211.9MB)\n",
            "\u001b[K    100% |████████████████████████████████| 211.9MB 80kB/s \n",
            "\u001b[?25hCollecting py4j==0.10.7 (from pyspark)\n",
            "\u001b[?25l  Downloading https://files.pythonhosted.org/packages/e3/53/c737818eb9a7dc32a7cd4f1396e787bd94200c3997c72c1dbe028587bd76/py4j-0.10.7-py2.py3-none-any.whl (197kB)\n",
            "\u001b[K    100% |████████████████████████████████| 204kB 7.8MB/s \n",
            "\u001b[?25hBuilding wheels for collected packages: pyspark\n",
            "  Running setup.py bdist_wheel for pyspark ... \u001b[?25l-\b \b\\\b \b|\b \b/\b \b-\b \b\\\b \b|\b \b/\b \b-\b \b\\\b \b|\b \b/\b \b-\b \b\\\b \b|\b \b/\b \b-\b \b\\\b \b|\b \b/\b \b-\b \b\\\b \b|\b \b/\b \b-\b \b\\\b \b|\b \b/\b \b-\b \b\\\b \b|\b \b/\b \b-\b \b\\\b \b|\b \b/\b \b-\b \b\\\b \b|\b \b/\b \b-\b \b\\\b \b|\b \b/\b \b-\b \b\\\b \b|\b \b/\b \b-\b \b\\\b \b|\b \b/\b \b-\b \b\\\b \b|\b \b/\b \b-\b \b\\\b \b|\b \b/\b \b-\b \b\\\b \bdone\n",
            "\u001b[?25h  Stored in directory: /content/.cache/pip/wheels/37/48/54/f1b63f0dbb729e20c92f1bbcf1c53c03b300e0b93ca1781526\n",
            "Successfully built pyspark\n",
            "Installing collected packages: py4j, pyspark\n",
            "Successfully installed py4j-0.10.7 pyspark-2.3.1\n"
          ],
          "name": "stdout"
        }
      ]
    },
    {
      "metadata": {
        "id": "6Xfu2M8GbNea",
        "colab_type": "code",
        "colab": {
          "autoexec": {
            "startup": false,
            "wait_interval": 0
          }
        }
      },
      "cell_type": "code",
      "source": [
        "from sklearn.cluster import KMeans \n",
        "import pylab as pl"
      ],
      "execution_count": 0,
      "outputs": []
    },
    {
      "metadata": {
        "id": "q5QrCLOBdkOj",
        "colab_type": "code",
        "colab": {
          "autoexec": {
            "startup": false,
            "wait_interval": 0
          },
          "base_uri": "https://localhost:8080/",
          "height": 233
        },
        "outputId": "00474523-c57b-4cc3-c282-df2d8d81cb25",
        "executionInfo": {
          "status": "ok",
          "timestamp": 1531819847931,
          "user_tz": -330,
          "elapsed": 884,
          "user": {
            "displayName": "Priyadharshan Saba",
            "photoUrl": "//lh5.googleusercontent.com/-PfrMeX74BFM/AAAAAAAAAAI/AAAAAAAAEe8/LcayyAlSBx8/s50-c-k-no/photo.jpg",
            "userId": "106388315316518890634"
          }
        }
      },
      "cell_type": "code",
      "source": [
        "#kmeans = KMeans(n_clusters=4)\n",
        "#x = sample_df.as_matrix()\n",
        "#kmeans.fit(x)\n",
        "#print(kmeans.cluster_centers_)  "
      ],
      "execution_count": 582,
      "outputs": [
        {
          "output_type": "stream",
          "text": [
            "[[1.37732480e+04 3.35765125e+00 1.11067616e+00 8.43780413e+02\n",
            "  3.59644128e+00]\n",
            " [1.56081102e+04 3.39340577e+00 1.06032222e+00 7.41519363e+02\n",
            "  3.43799176e+00]\n",
            " [1.50782215e+04 3.03020134e+00 2.45302013e+00 6.11010594e+03\n",
            "  5.00000000e+00]\n",
            " [1.73959216e+04 3.32258065e+00 1.11177794e+00 8.24797146e+02\n",
            "  3.49699925e+00]]\n"
          ],
          "name": "stdout"
        }
      ]
    },
    {
      "metadata": {
        "id": "boAAcpR7fEcR",
        "colab_type": "code",
        "colab": {
          "autoexec": {
            "startup": false,
            "wait_interval": 0
          },
          "base_uri": "https://localhost:8080/",
          "height": 241
        },
        "outputId": "42abf9b2-a38a-4da7-c27f-e9dc09d88695",
        "executionInfo": {
          "status": "ok",
          "timestamp": 1531820249881,
          "user_tz": -330,
          "elapsed": 997,
          "user": {
            "displayName": "Priyadharshan Saba",
            "photoUrl": "//lh5.googleusercontent.com/-PfrMeX74BFM/AAAAAAAAAAI/AAAAAAAAEe8/LcayyAlSBx8/s50-c-k-no/photo.jpg",
            "userId": "106388315316518890634"
          }
        }
      },
      "cell_type": "code",
      "source": [
        "#print(kmeans.labels_)\n",
        "#plt.scatter(x[:,0],x[:,1], c=kmeans.labels_, cmap='rainbow')\n",
        "sample_df.head()"
      ],
      "execution_count": 599,
      "outputs": [
        {
          "output_type": "execute_result",
          "data": {
            "text/html": [
              "<div>\n",
              "<style scoped>\n",
              "    .dataframe tbody tr th:only-of-type {\n",
              "        vertical-align: middle;\n",
              "    }\n",
              "\n",
              "    .dataframe tbody tr th {\n",
              "        vertical-align: top;\n",
              "    }\n",
              "\n",
              "    .dataframe thead th {\n",
              "        text-align: right;\n",
              "    }\n",
              "</style>\n",
              "<table border=\"1\" class=\"dataframe\">\n",
              "  <thead>\n",
              "    <tr style=\"text-align: right;\">\n",
              "      <th></th>\n",
              "      <th>CustomerID</th>\n",
              "      <th>Recency_val</th>\n",
              "      <th>freq_val</th>\n",
              "      <th>Amount</th>\n",
              "      <th>Mont_val</th>\n",
              "    </tr>\n",
              "  </thead>\n",
              "  <tbody>\n",
              "    <tr>\n",
              "      <th>0</th>\n",
              "      <td>17850.0</td>\n",
              "      <td>1</td>\n",
              "      <td>3</td>\n",
              "      <td>789.47</td>\n",
              "      <td>4</td>\n",
              "    </tr>\n",
              "    <tr>\n",
              "      <th>1</th>\n",
              "      <td>13047.0</td>\n",
              "      <td>1</td>\n",
              "      <td>1</td>\n",
              "      <td>1080.48</td>\n",
              "      <td>5</td>\n",
              "    </tr>\n",
              "    <tr>\n",
              "      <th>2</th>\n",
              "      <td>13047.0</td>\n",
              "      <td>2</td>\n",
              "      <td>1</td>\n",
              "      <td>1080.48</td>\n",
              "      <td>5</td>\n",
              "    </tr>\n",
              "    <tr>\n",
              "      <th>3</th>\n",
              "      <td>13047.0</td>\n",
              "      <td>3</td>\n",
              "      <td>1</td>\n",
              "      <td>1080.48</td>\n",
              "      <td>5</td>\n",
              "    </tr>\n",
              "    <tr>\n",
              "      <th>4</th>\n",
              "      <td>13047.0</td>\n",
              "      <td>4</td>\n",
              "      <td>1</td>\n",
              "      <td>1080.48</td>\n",
              "      <td>5</td>\n",
              "    </tr>\n",
              "  </tbody>\n",
              "</table>\n",
              "</div>"
            ],
            "text/plain": [
              "   CustomerID  Recency_val  freq_val   Amount  Mont_val\n",
              "0     17850.0            1         3   789.47         4\n",
              "1     13047.0            1         1  1080.48         5\n",
              "2     13047.0            2         1  1080.48         5\n",
              "3     13047.0            3         1  1080.48         5\n",
              "4     13047.0            4         1  1080.48         5"
            ]
          },
          "metadata": {
            "tags": []
          },
          "execution_count": 599
        }
      ]
    },
    {
      "metadata": {
        "id": "ke644P8wmIR4",
        "colab_type": "code",
        "colab": {
          "autoexec": {
            "startup": false,
            "wait_interval": 0
          }
        }
      },
      "cell_type": "code",
      "source": [
        "x = sample_df[['freq_val']].as_matrix()\n",
        "y = sample_df[['Amount']].as_matrix()\n",
        "z_df = sample_df[['freq_val','Amount','Recency_val']]\n",
        "z=z_df.as_matrix()"
      ],
      "execution_count": 0,
      "outputs": []
    },
    {
      "metadata": {
        "id": "KgZsqRhRfYtJ",
        "colab_type": "code",
        "colab": {
          "autoexec": {
            "startup": false,
            "wait_interval": 0
          }
        }
      },
      "cell_type": "code",
      "source": [
        "\n",
        "nc = range(2, 20)\n",
        "kmeans = [KMeans(n_clusters=i) for i in nc]\n",
        "kmeans\n",
        "score = [kmeans[i].fit(z).score(z) for i in range(len(kmeans))]\n"
      ],
      "execution_count": 0,
      "outputs": []
    },
    {
      "metadata": {
        "id": "rRKIz3QugEXq",
        "colab_type": "code",
        "colab": {
          "autoexec": {
            "startup": false,
            "wait_interval": 0
          },
          "base_uri": "https://localhost:8080/",
          "height": 355
        },
        "outputId": "9bcc4041-d257-4f3b-9084-ca9f31c23a52",
        "executionInfo": {
          "status": "ok",
          "timestamp": 1531825356446,
          "user_tz": -330,
          "elapsed": 800,
          "user": {
            "displayName": "Priyadharshan Saba",
            "photoUrl": "//lh5.googleusercontent.com/-PfrMeX74BFM/AAAAAAAAAAI/AAAAAAAAEe8/LcayyAlSBx8/s50-c-k-no/photo.jpg",
            "userId": "106388315316518890634"
          }
        }
      },
      "cell_type": "code",
      "source": [
        "score"
      ],
      "execution_count": 745,
      "outputs": [
        {
          "output_type": "execute_result",
          "data": {
            "text/plain": [
              "[-5447426281.256461,\n",
              " -2777322030.5674024,\n",
              " -1586753957.0814345,\n",
              " -1104998118.9541655,\n",
              " -721451782.9919536,\n",
              " -515438247.2977352,\n",
              " -376636656.77146846,\n",
              " -298303829.2169286,\n",
              " -239328674.6020396,\n",
              " -204917989.3443439,\n",
              " -172439992.5135428,\n",
              " -147827464.51755753,\n",
              " -123681569.16143061,\n",
              " -107893611.81157272,\n",
              " -93625060.82963765,\n",
              " -84564354.51996885,\n",
              " -73243360.93545768,\n",
              " -64080823.28806093]"
            ]
          },
          "metadata": {
            "tags": []
          },
          "execution_count": 745
        }
      ]
    },
    {
      "metadata": {
        "id": "k_1oGKnUjvP4",
        "colab_type": "code",
        "colab": {
          "autoexec": {
            "startup": false,
            "wait_interval": 0
          },
          "base_uri": "https://localhost:8080/",
          "height": 396
        },
        "outputId": "330739c7-60e8-4c4a-8ffe-542069777356",
        "executionInfo": {
          "status": "ok",
          "timestamp": 1531825357330,
          "user_tz": -330,
          "elapsed": 792,
          "user": {
            "displayName": "Priyadharshan Saba",
            "photoUrl": "//lh5.googleusercontent.com/-PfrMeX74BFM/AAAAAAAAAAI/AAAAAAAAEe8/LcayyAlSBx8/s50-c-k-no/photo.jpg",
            "userId": "106388315316518890634"
          }
        }
      },
      "cell_type": "code",
      "source": [
        "#elbow point\n",
        "pl.plot(nc,score)\n",
        "\n",
        "pl.xlabel('Number of Clusters')\n",
        "\n",
        "pl.ylabel('Score')\n",
        "\n",
        "pl.title('Elbow Curve')\n",
        "\n",
        "pl.show()"
      ],
      "execution_count": 746,
      "outputs": [
        {
          "output_type": "display_data",
          "data": {
            "image/png": "[encoded data removed]",
            "text/plain": [
              "<matplotlib.figure.Figure at 0x7f03d1821898>"
            ]
          },
          "metadata": {
            "tags": []
          }
        }
      ]
    },
    {
      "metadata": {
        "id": "p5oG1NSQlMe7",
        "colab_type": "code",
        "colab": {
          "autoexec": {
            "startup": false,
            "wait_interval": 0
          }
        }
      },
      "cell_type": "code",
      "source": [
        "kmeans=KMeans(n_clusters=6)\n",
        "kmeansoutput=kmeans.fit(z)\n",
        "#kmeansoutput\n"
      ],
      "execution_count": 0,
      "outputs": []
    },
    {
      "metadata": {
        "id": "dBNzL0V0qX_M",
        "colab_type": "code",
        "colab": {
          "autoexec": {
            "startup": false,
            "wait_interval": 0
          },
          "base_uri": "https://localhost:8080/",
          "height": 367
        },
        "outputId": "0aea439c-ce37-47bb-a78b-351b68432105",
        "executionInfo": {
          "status": "ok",
          "timestamp": 1531825359858,
          "user_tz": -330,
          "elapsed": 1510,
          "user": {
            "displayName": "Priyadharshan Saba",
            "photoUrl": "//lh5.googleusercontent.com/-PfrMeX74BFM/AAAAAAAAAAI/AAAAAAAAEe8/LcayyAlSBx8/s50-c-k-no/photo.jpg",
            "userId": "106388315316518890634"
          }
        }
      },
      "cell_type": "code",
      "source": [
        "\n",
        "\"\"\"pca = PCA(n_components=1).fit(y)\n",
        "pca_y = pca.transform(y)\n",
        "pca_x = pca.transform(x)\"\"\"\n",
        "\n",
        "pl.scatter(x[:, 0],y[:, 0], c=kmeansoutput.labels_)\n",
        "pl.show()"
      ],
      "execution_count": 748,
      "outputs": [
        {
          "output_type": "display_data",
          "data": {
            "image/png": "[encoded data removed]",
            "text/plain": [
              "<matplotlib.figure.Figure at 0x7f03b3a26dd8>"
            ]
          },
          "metadata": {
            "tags": []
          }
        }
      ]
    },
    {
      "metadata": {
        "id": "RTroqVjunm6x",
        "colab_type": "code",
        "colab": {
          "autoexec": {
            "startup": false,
            "wait_interval": 0
          },
          "base_uri": "https://localhost:8080/",
          "height": 158
        },
        "outputId": "1dd87f75-62f1-4bbf-c76a-432d099d195c",
        "executionInfo": {
          "status": "ok",
          "timestamp": 1531825360902,
          "user_tz": -330,
          "elapsed": 931,
          "user": {
            "displayName": "Priyadharshan Saba",
            "photoUrl": "//lh5.googleusercontent.com/-PfrMeX74BFM/AAAAAAAAAAI/AAAAAAAAEe8/LcayyAlSBx8/s50-c-k-no/photo.jpg",
            "userId": "106388315316518890634"
          }
        }
      },
      "cell_type": "code",
      "source": [
        "C = kmeans.cluster_centers_\n",
        "print(C)  \n",
        "labels = kmeans.labels_"
      ],
      "execution_count": 749,
      "outputs": [
        {
          "output_type": "stream",
          "text": [
            "[[1.00611943e+00 3.63867476e+02 3.43342477e+00]\n",
            " [2.57575758e+00 7.37532545e+03 3.06060606e+00]\n",
            " [1.44874715e+00 2.09791268e+03 3.17995444e+00]\n",
            " [2.02693603e+00 3.99711848e+03 3.03703704e+00]\n",
            " [4.26923077e+00 1.22597269e+04 3.07692308e+00]\n",
            " [1.09733777e+00 1.06799887e+03 3.28826955e+00]]\n"
          ],
          "name": "stdout"
        }
      ]
    },
    {
      "metadata": {
        "id": "RzeojxuetxYP",
        "colab_type": "code",
        "colab": {
          "autoexec": {
            "startup": false,
            "wait_interval": 0
          },
          "base_uri": "https://localhost:8080/",
          "height": 241
        },
        "outputId": "f44efee2-ccf6-4ef2-8ea1-8856795ccb7c",
        "executionInfo": {
          "status": "ok",
          "timestamp": 1531825223318,
          "user_tz": -330,
          "elapsed": 786,
          "user": {
            "displayName": "Priyadharshan Saba",
            "photoUrl": "//lh5.googleusercontent.com/-PfrMeX74BFM/AAAAAAAAAAI/AAAAAAAAEe8/LcayyAlSBx8/s50-c-k-no/photo.jpg",
            "userId": "106388315316518890634"
          }
        }
      },
      "cell_type": "code",
      "source": [
        "sample_df.head()"
      ],
      "execution_count": 739,
      "outputs": [
        {
          "output_type": "execute_result",
          "data": {
            "text/html": [
              "<div>\n",
              "<style scoped>\n",
              "    .dataframe tbody tr th:only-of-type {\n",
              "        vertical-align: middle;\n",
              "    }\n",
              "\n",
              "    .dataframe tbody tr th {\n",
              "        vertical-align: top;\n",
              "    }\n",
              "\n",
              "    .dataframe thead th {\n",
              "        text-align: right;\n",
              "    }\n",
              "</style>\n",
              "<table border=\"1\" class=\"dataframe\">\n",
              "  <thead>\n",
              "    <tr style=\"text-align: right;\">\n",
              "      <th></th>\n",
              "      <th>CustomerID</th>\n",
              "      <th>Recency_val</th>\n",
              "      <th>freq_val</th>\n",
              "      <th>Amount</th>\n",
              "      <th>Mont_val</th>\n",
              "    </tr>\n",
              "  </thead>\n",
              "  <tbody>\n",
              "    <tr>\n",
              "      <th>0</th>\n",
              "      <td>17850.0</td>\n",
              "      <td>1</td>\n",
              "      <td>3</td>\n",
              "      <td>789.47</td>\n",
              "      <td>4</td>\n",
              "    </tr>\n",
              "    <tr>\n",
              "      <th>1</th>\n",
              "      <td>13047.0</td>\n",
              "      <td>1</td>\n",
              "      <td>1</td>\n",
              "      <td>1080.48</td>\n",
              "      <td>5</td>\n",
              "    </tr>\n",
              "    <tr>\n",
              "      <th>2</th>\n",
              "      <td>13047.0</td>\n",
              "      <td>2</td>\n",
              "      <td>1</td>\n",
              "      <td>1080.48</td>\n",
              "      <td>5</td>\n",
              "    </tr>\n",
              "    <tr>\n",
              "      <th>3</th>\n",
              "      <td>13047.0</td>\n",
              "      <td>3</td>\n",
              "      <td>1</td>\n",
              "      <td>1080.48</td>\n",
              "      <td>5</td>\n",
              "    </tr>\n",
              "    <tr>\n",
              "      <th>4</th>\n",
              "      <td>13047.0</td>\n",
              "      <td>4</td>\n",
              "      <td>1</td>\n",
              "      <td>1080.48</td>\n",
              "      <td>5</td>\n",
              "    </tr>\n",
              "  </tbody>\n",
              "</table>\n",
              "</div>"
            ],
            "text/plain": [
              "   CustomerID  Recency_val  freq_val   Amount  Mont_val\n",
              "0     17850.0            1         3   789.47         4\n",
              "1     13047.0            1         1  1080.48         5\n",
              "2     13047.0            2         1  1080.48         5\n",
              "3     13047.0            3         1  1080.48         5\n",
              "4     13047.0            4         1  1080.48         5"
            ]
          },
          "metadata": {
            "tags": []
          },
          "execution_count": 739
        }
      ]
    },
    {
      "metadata": {
        "id": "HG-RDkMfn49I",
        "colab_type": "code",
        "colab": {
          "autoexec": {
            "startup": false,
            "wait_interval": 0
          }
        }
      },
      "cell_type": "code",
      "source": [
        "#fetching customers\n",
        "\n",
        "mailList1_df = sample_df\n",
        "mailList1_df = mailList1_df[ ((mailList1_df.freq_val ==5)) | ((mailList1_df.freq_val ==4)) | ((mailList1_df.freq_val !=5 & mailList1_df.Amount > 8000.0)) ]"
      ],
      "execution_count": 0,
      "outputs": []
    },
    {
      "metadata": {
        "id": "EZ739JlVvLQ8",
        "colab_type": "code",
        "colab": {
          "autoexec": {
            "startup": false,
            "wait_interval": 0
          },
          "base_uri": "https://localhost:8080/",
          "height": 173
        },
        "outputId": "03f25dc8-8fd1-4abc-e162-3123fdaa7297",
        "executionInfo": {
          "status": "ok",
          "timestamp": 1531826341915,
          "user_tz": -330,
          "elapsed": 924,
          "user": {
            "displayName": "Priyadharshan Saba",
            "photoUrl": "//lh5.googleusercontent.com/-PfrMeX74BFM/AAAAAAAAAAI/AAAAAAAAEe8/LcayyAlSBx8/s50-c-k-no/photo.jpg",
            "userId": "106388315316518890634"
          }
        }
      },
      "cell_type": "code",
      "source": [
        "z"
      ],
      "execution_count": 775,
      "outputs": [
        {
          "output_type": "execute_result",
          "data": {
            "text/plain": [
              "array([[3.00000e+00, 7.89470e+02, 1.00000e+00],\n",
              "       [1.00000e+00, 1.08048e+03, 1.00000e+00],\n",
              "       [1.00000e+00, 1.08048e+03, 2.00000e+00],\n",
              "       ...,\n",
              "       [1.00000e+00, 1.92300e+02, 5.00000e+00],\n",
              "       [1.00000e+00, 3.60000e+02, 5.00000e+00],\n",
              "       [1.00000e+00, 2.24890e+02, 5.00000e+00]])"
            ]
          },
          "metadata": {
            "tags": []
          },
          "execution_count": 775
        }
      ]
    },
    {
      "metadata": {
        "id": "Glutfw0n5oMf",
        "colab_type": "code",
        "colab": {
          "autoexec": {
            "startup": false,
            "wait_interval": 0
          }
        }
      },
      "cell_type": "code",
      "source": [
        "import matplotlib.pyplot as plt\n",
        "from mpl_toolkits.mplot3d import Axes3D"
      ],
      "execution_count": 0,
      "outputs": []
    },
    {
      "metadata": {
        "id": "lokThoDT8xFo",
        "colab_type": "code",
        "colab": {
          "autoexec": {
            "startup": false,
            "wait_interval": 0
          }
        }
      },
      "cell_type": "code",
      "source": [
        "color=[\"#FFFF00\", \"#1CE6FF\", \"#FF34FF\", \"#FF4A46\", \"#008941\", \"#006FA6\", \"#A30059\",\"#FFDBE5\", \"#7A4900\", \"#0000A6\", \"#63FFAC\", \"#B79762\", \"#004D43\", \"#8FB0FF\", \"#997D87\",\"#5A0007\", \"#809693\", \"#FEFFE6\", \"#1B4400\", \"#4FC601\", \"#3B5DFF\", \"#4A3B53\", \"#FF2F80\",\"#61615A\", \"#BA0900\", \"#6B7900\", \"#00C2A0\", \"#FFAA92\", \"#FF90C9\", \"#B903AA\", \"#D16100\",\"#DDEFFF\", \"#000035\", \"#7B4F4B\", \"#A1C299\", \"#300018\", \"#0AA6D8\", \"#013349\", \"#00846F\",\"#372101\", \"#FFB500\", \"#C2FFED\", \"#A079BF\", \"#CC0744\", \"#C0B9B2\", \"#C2FF99\", \"#001E09\",\"#00489C\", \"#6F0062\", \"#0CBD66\", \"#EEC3FF\", \"#456D75\", \"#B77B68\", \"#7A87A1\", \"#788D66\",\"#885578\", \"#FAD09F\", \"#FF8A9A\", \"#D157A0\", \"#BEC459\", \"#456648\", \"#0086ED\", \"#886F4C\",\"#34362D\", \"#B4A8BD\", \"#00A6AA\", \"#452C2C\", \"#636375\", \"#A3C8C9\", \"#FF913F\", \"#938A81\",\"#575329\", \"#00FECF\", \"#B05B6F\", \"#8CD0FF\", \"#3B9700\", \"#04F757\", \"#C8A1A1\", \"#1E6E00\",\"#7900D7\", \"#A77500\", \"#6367A9\", \"#A05837\", \"#6B002C\", \"#772600\", \"#D790FF\", \"#9B9700\",\"#549E79\", \"#FFF69F\", \"#201625\", \"#72418F\", \"#BC23FF\", \"#99ADC0\", \"#3A2465\", \"#922329\",\"#5B4534\", \"#FDE8DC\", \"#404E55\", \"#0089A3\", \"#CB7E98\", \"#A4E804\", \"#324E72\", \"#6A3A4C\",\"#83AB58\", \"#001C1E\", \"#D1F7CE\", \"#004B28\", \"#C8D0F6\", \"#A3A489\", \"#806C66\", \"#222800\",\"#BF5650\", \"#E83000\", \"#66796D\", \"#DA007C\", \"#FF1A59\", \"#8ADBB4\", \"#1E0200\", \"#5B4E51\",\"#C895C5\", \"#320033\", \"#FF6832\", \"#66E1D3\", \"#CFCDAC\", \"#D0AC94\", \"#7ED379\", \"#012C58\",\"#000000\"]\n"
      ],
      "execution_count": 0,
      "outputs": []
    },
    {
      "metadata": {
        "id": "8Et9SutA5yeI",
        "colab_type": "code",
        "colab": {
          "autoexec": {
            "startup": false,
            "wait_interval": 0
          },
          "base_uri": "https://localhost:8080/",
          "height": 485
        },
        "outputId": "15ed2191-cec8-4bc0-94f1-c4fa81026f67",
        "executionInfo": {
          "status": "ok",
          "timestamp": 1531826389958,
          "user_tz": -330,
          "elapsed": 35378,
          "user": {
            "displayName": "Priyadharshan Saba",
            "photoUrl": "//lh5.googleusercontent.com/-PfrMeX74BFM/AAAAAAAAAAI/AAAAAAAAEe8/LcayyAlSBx8/s50-c-k-no/photo.jpg",
            "userId": "106388315316518890634"
          }
        }
      },
      "cell_type": "code",
      "source": [
        "\n",
        "fig = plt.figure()\n",
        "ax = Axes3D(fig)\n",
        "for i in range(len(z)):\n",
        "  ax.scatter(z[i][0], z[i][1],z[i][2],c=color[labels[i]])\n",
        "ax.scatter(C[:, 0], C[:, 1], C[:, 2], marker='*', c='#050505', s=1000)\n",
        "ax.set_xlabel('R')\n",
        "ax.set_ylabel('F')\n",
        "ax.set_zlabel('Monetary Amount')\n",
        "\n",
        "for angle in range(0, 360):\n",
        "    ax.view_init(45,angle)\n",
        "    plt.draw()\n",
        "    plt.pause(.1)\n",
        "plt.close()\n",
        "\n"
      ],
      "execution_count": 778,
      "outputs": [
        {
          "output_type": "execute_result",
          "data": {
            "text/plain": [
              "<mpl_toolkits.mplot3d.art3d.Path3DCollection at 0x7f03a98dca20>"
            ]
          },
          "metadata": {
            "tags": []
          },
          "execution_count": 778
        },
        {
          "output_type": "display_data",
          "data": {
            "image/png": "[encoded data removed]",
            "text/plain": [
              "<matplotlib.figure.Figure at 0x7f03c98f44a8>"
            ]
          },
          "metadata": {
            "tags": []
          }
        }
      ]
    },
    {
      "metadata": {
        "id": "9NwAee7e31vy",
        "colab_type": "code",
        "colab": {
          "autoexec": {
            "startup": false,
            "wait_interval": 0
          }
        }
      },
      "cell_type": "code",
      "source": [
        ""
      ],
      "execution_count": 0,
      "outputs": []
    }
  ]
}